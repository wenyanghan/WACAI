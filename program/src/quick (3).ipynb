{
 "cells": [
  {
   "cell_type": "code",
   "execution_count": 4,
   "metadata": {},
   "outputs": [],
   "source": [
    "import sys\n",
    "sys.path.append('/notebook/shared/extra/')\n",
    "import statsmodels"
   ]
  },
  {
   "cell_type": "code",
   "execution_count": 2,
   "metadata": {},
   "outputs": [],
   "source": [
    "import scipy.stats.stats as stats"
   ]
  },
  {
   "cell_type": "raw",
   "metadata": {},
   "source": [
    "得到pd"
   ]
  },
  {
   "cell_type": "code",
   "execution_count": 6,
   "metadata": {},
   "outputs": [],
   "source": [
    "import pandas as pd\n",
    "import math"
   ]
  },
  {
   "cell_type": "code",
   "execution_count": 7,
   "metadata": {},
   "outputs": [],
   "source": [
    "from impala.dbapi import connect\n",
    "from impala.util import as_pandas\n",
    "import re \n",
    "#get data\n",
    "def get_data(sql):\n",
    "    conn = connect(host = '10.1.169.3',port = 10000, auth_mechanism = 'PLAIN')\n",
    "    cursor = conn.cursor()\n",
    "    cursor.execute(sql)\n",
    "    df = as_pandas(cursor)\n",
    "    return df\n"
   ]
  },
  {
   "cell_type": "code",
   "execution_count": 8,
   "metadata": {},
   "outputs": [],
   "source": [
    "df= get_data('select * from tmp.cebai_all_data_project1_datasource_3')"
   ]
  },
  {
   "cell_type": "code",
   "execution_count": 208,
   "metadata": {},
   "outputs": [],
   "source": [
    "df_copy = df.copy()\n",
    "df_copy.drop(['labels','aid','uid','dt','direct_contact_score','mob_score','contacts_relatives_redline_cnt2','contacts_relatives_redline_cnt1','n_91overduetimes_cnt','rong360_fuzzy_black_hit'],axis = 1,inplace = True)\n",
    "df_copy.to_csv('df_copy_0204.csv',index = False)"
   ]
  },
  {
   "cell_type": "code",
   "execution_count": 186,
   "metadata": {},
   "outputs": [
    {
     "name": "stdout",
     "output_type": "stream",
     "text": [
      "493743\n"
     ]
    }
   ],
   "source": [
    "print(len(df))"
   ]
  },
  {
   "cell_type": "code",
   "execution_count": 10,
   "metadata": {},
   "outputs": [],
   "source": [
    "\n",
    "import pandas as pd\n",
    "def dropna_all(df):\n",
    "    df_copy = df.copy()\n",
    "    df_copy = df_copy.dropna(subset = ['direct_contact_score','phone_gray_score','mob_score','honeypot_model_score','contacts_relatives_redline_cnt2','contacts_relatives_redline_cnt','contacts_loankeywords_redline_cnt','contacts_relatives_redline_cnt1','tongdun_score','n_91overduetimes_cnt','n_91applytimes_cnt','n_91rejectprecent','rong360_fuzzy_black_hit','ant_score','ar_score'],\n",
    "                    how ='all')\n",
    "    return df_copy\n",
    "def dropna_any(df,how_str):\n",
    "    df_copy = df.copy()\n",
    "    df_copy = df_copy.dropna(subset = ['phone_gray_score','honeypot_model_score','contacts_relatives_redline_cnt','contacts_loankeywords_redline_cnt','tongdun_score','n_91overduetimes_cnt','n_91applytimes_cnt','n_91rejectprecent','rong360_fuzzy_black_hit','ant_score','ar_score'],\n",
    "                    how =how_str)\n",
    "    return df_copy"
   ]
  },
  {
   "cell_type": "code",
   "execution_count": 194,
   "metadata": {},
   "outputs": [],
   "source": [
    "def dropna_test(df):\n",
    "    df_copy = df.copy()\n",
    "    df_copy = df_copy.dropna(subset = ['phone_gray_score','honeypot_model_score','contacts_relatives_redline_cnt','contacts_loankeywords_redline_cnt','tongdun_score','n_91applytimes_cnt','n_91rejectprecent','ant_score','ar_score'],\n",
    "                    how ='all')\n",
    "    return df_copy"
   ]
  },
  {
   "cell_type": "code",
   "execution_count": 11,
   "metadata": {},
   "outputs": [],
   "source": [
    "df_drop = dropna_all(df)"
   ]
  },
  {
   "cell_type": "code",
   "execution_count": 200,
   "metadata": {},
   "outputs": [
    {
     "name": "stdout",
     "output_type": "stream",
     "text": [
      "214656\n",
      "4078464\n",
      "Index(['labels', 'aid', 'uid', 'dt', 'direct_contact_score',\n",
      "       'phone_gray_score', 'mob_score', 'honeypot_model_score',\n",
      "       'contacts_relatives_redline_cnt2', 'contacts_relatives_redline_cnt',\n",
      "       'contacts_loankeywords_redline_cnt', 'contacts_relatives_redline_cnt1',\n",
      "       'tongdun_score', 'n_91overduetimes_cnt', 'n_91applytimes_cnt',\n",
      "       'n_91rejectprecent', 'rong360_fuzzy_black_hit', 'ant_score',\n",
      "       'ar_score'],\n",
      "      dtype='object')\n"
     ]
    }
   ],
   "source": [
    "print(len(df_drop))\n",
    "print(df_drop.size)\n",
    "print(df_drop.columns)"
   ]
  },
  {
   "cell_type": "code",
   "execution_count": 195,
   "metadata": {},
   "outputs": [],
   "source": [
    "df_drop_test = dropna_test(df)"
   ]
  },
  {
   "cell_type": "code",
   "execution_count": 187,
   "metadata": {},
   "outputs": [
    {
     "name": "stdout",
     "output_type": "stream",
     "text": [
      "83825\n"
     ]
    }
   ],
   "source": [
    "print(len(df_drop[(df_drop.dt >= '2017-02-01') & (df_drop.dt <'2017-04-01')]))"
   ]
  },
  {
   "cell_type": "code",
   "execution_count": 197,
   "metadata": {},
   "outputs": [
    {
     "name": "stdout",
     "output_type": "stream",
     "text": [
      "83825\n"
     ]
    }
   ],
   "source": [
    "print(len(df_drop_test[(df_drop_test.dt >= '2017-02-01') & (df_drop_test.dt <'2017-04-01')]))"
   ]
  },
  {
   "cell_type": "code",
   "execution_count": 13,
   "metadata": {},
   "outputs": [
    {
     "name": "stdout",
     "output_type": "stream",
     "text": [
      "1527923\n"
     ]
    }
   ],
   "source": [
    "df_drop_any = dropna_any(df_drop,'any')\n",
    "print(df_drop_any.size)"
   ]
  },
  {
   "cell_type": "code",
   "execution_count": 205,
   "metadata": {},
   "outputs": [],
   "source": [
    "#good_bad\n",
    "def get_good_bad_num(df):\n",
    "    #?! size and len\n",
    "    good_num = len(df[df['labels'] == 0])\n",
    "    bad_num = len(df[df['labels'] == 1])\n",
    "    return float(good_num),float(bad_num)\n",
    "#get_everyday_num\n",
    "def get_oneday_num(df,time):\n",
    "    num = len(df[df['dt'] == time])\n",
    "    return num\n",
    "def get_everyday_num(df):\n",
    "    nums =[]\n",
    "    times = pd.date_range('20170201','20170415')\n",
    "    for time in times:\n",
    "        time = str(time).split(' ')[0]\n",
    "        num = get_oneday_num(df,time)\n",
    "        temp = [time,num]\n",
    "        nums.append(temp)\n",
    "    return nums\n",
    "    "
   ]
  },
  {
   "cell_type": "code",
   "execution_count": 202,
   "metadata": {},
   "outputs": [
    {
     "data": {
      "text/plain": [
       "[['2017-02-01', 7],\n",
       " ['2017-02-02', 8],\n",
       " ['2017-02-03', 13],\n",
       " ['2017-02-04', 9],\n",
       " ['2017-02-05', 5],\n",
       " ['2017-02-06', 13],\n",
       " ['2017-02-07', 14],\n",
       " ['2017-02-08', 10],\n",
       " ['2017-02-09', 14],\n",
       " ['2017-02-10', 15],\n",
       " ['2017-02-11', 12],\n",
       " ['2017-02-12', 29],\n",
       " ['2017-02-13', 19],\n",
       " ['2017-02-14', 16],\n",
       " ['2017-02-15', 11],\n",
       " ['2017-02-16', 20],\n",
       " ['2017-02-17', 22],\n",
       " ['2017-02-18', 17],\n",
       " ['2017-02-19', 16],\n",
       " ['2017-02-20', 24],\n",
       " ['2017-02-21', 27],\n",
       " ['2017-02-22', 17],\n",
       " ['2017-02-23', 24],\n",
       " ['2017-02-24', 18],\n",
       " ['2017-02-25', 26],\n",
       " ['2017-02-26', 22],\n",
       " ['2017-02-27', 21],\n",
       " ['2017-02-28', 23],\n",
       " ['2017-03-01', 28],\n",
       " ['2017-03-02', 24],\n",
       " ['2017-03-03', 32],\n",
       " ['2017-03-04', 33],\n",
       " ['2017-03-05', 31],\n",
       " ['2017-03-06', 54],\n",
       " ['2017-03-07', 74],\n",
       " ['2017-03-08', 99],\n",
       " ['2017-03-09', 134],\n",
       " ['2017-03-10', 177],\n",
       " ['2017-03-11', 176],\n",
       " ['2017-03-12', 229],\n",
       " ['2017-03-13', 223],\n",
       " ['2017-03-14', 261],\n",
       " ['2017-03-15', 276],\n",
       " ['2017-03-16', 359],\n",
       " ['2017-03-17', 518],\n",
       " ['2017-03-18', 686],\n",
       " ['2017-03-19', 1395],\n",
       " ['2017-03-20', 2483],\n",
       " ['2017-03-21', 6866],\n",
       " ['2017-03-22', 7112],\n",
       " ['2017-03-23', 6043],\n",
       " ['2017-03-24', 7402],\n",
       " ['2017-03-25', 6768],\n",
       " ['2017-03-26', 6310],\n",
       " ['2017-03-27', 7976],\n",
       " ['2017-03-28', 8610],\n",
       " ['2017-03-29', 8270],\n",
       " ['2017-03-30', 8272],\n",
       " ['2017-03-31', 2432],\n",
       " ['2017-04-01', 12433],\n",
       " ['2017-04-02', 7680],\n",
       " ['2017-04-03', 7513],\n",
       " ['2017-04-04', 7572],\n",
       " ['2017-04-05', 8984],\n",
       " ['2017-04-06', 9177],\n",
       " ['2017-04-07', 10119],\n",
       " ['2017-04-08', 9845],\n",
       " ['2017-04-09', 9814],\n",
       " ['2017-04-10', 9970],\n",
       " ['2017-04-11', 9954],\n",
       " ['2017-04-12', 9394],\n",
       " ['2017-04-13', 9527],\n",
       " ['2017-04-14', 8849],\n",
       " ['2017-04-15', 0]]"
      ]
     },
     "execution_count": 202,
     "metadata": {},
     "output_type": "execute_result"
    }
   ],
   "source": [
    "get_everyday_num(df_drop)"
   ]
  },
  {
   "cell_type": "code",
   "execution_count": 15,
   "metadata": {},
   "outputs": [],
   "source": [
    "#pickle\n",
    "import pickle\n",
    "def to_pickle():\n",
    "    pickle.dump(df_drop, open(\"df_drop.pkl\", 'wb'))"
   ]
  },
  {
   "cell_type": "code",
   "execution_count": 16,
   "metadata": {},
   "outputs": [],
   "source": [
    "#to_csv\n",
    "def to_csv(df,start,end):\n",
    "    df_online = get_df_time(df,start,end)\n",
    "    df_online.drop(df_online.columns[[1,2,3]],axis = 1,inplace = True)\n",
    "    df_online.to_csv('datatrain_new.csv')\n",
    "    return df_online"
   ]
  },
  {
   "cell_type": "raw",
   "metadata": {},
   "source": [
    "缺失值分析"
   ]
  },
  {
   "cell_type": "code",
   "execution_count": 17,
   "metadata": {},
   "outputs": [],
   "source": [
    "# caculate the mounts of nan\n",
    "def missing_values_table(df): \n",
    "        mis_val = df.isnull().sum()\n",
    "        mis_val_percent = 100 * df.isnull().sum()/len(df)\n",
    "        mis_val_table = pd.concat([mis_val, mis_val_percent], axis=1)\n",
    "        mis_val_table_ren_columns = mis_val_table.rename(\n",
    "        columns = {0 : 'Missing Values', 1 : '% of Total Values'})\n",
    "        return mis_val_table_ren_columns"
   ]
  },
  {
   "cell_type": "raw",
   "metadata": {},
   "source": [
    "数据预处理"
   ]
  },
  {
   "cell_type": "code",
   "execution_count": 18,
   "metadata": {},
   "outputs": [],
   "source": [
    "import pandas as pd\n",
    "def get_df_time(df,start,end):\n",
    "    df_copy = df.copy()\n",
    "    df_copy = df_copy[(df_copy.dt >=start) & (df_copy.dt <end)]\n",
    "    return df_copy"
   ]
  },
  {
   "cell_type": "code",
   "execution_count": 179,
   "metadata": {},
   "outputs": [],
   "source": [
    "def col_names():\n",
    "    col_names = []\n",
    "    #add time\n",
    "    #col_names = ['dt']\n",
    "    for i in range(1,16):\n",
    "        col_name = \"F\"+str(i)\n",
    "        col_names.append(col_name)\n",
    "    return col_names\n",
    "def get_Y_X(df):\n",
    "    df_copy = df.copy()\n",
    "    df_Y = df_copy['labels'].to_frame(name = 'Y')\n",
    "    #del df_copy[['labels','aid','uid','dt']]\n",
    "    #save dt\n",
    "    #df_Y['Y'] = df_Y['Y'].map(convert_labels)\n",
    "    df_copy.drop(df.columns[[0,1,2,3]],axis=1, inplace=True)\n",
    "    df_X = df_copy\n",
    "    df_X.columns = col_names()\n",
    "    return df_Y,df_X\n",
    "#map categorical variable\n",
    "def map_X(df_x):\n",
    "    return df_x\n",
    "def drop_X(df_x):\n",
    "    del df_x['F1']\n",
    "    del df_x['F3']\n",
    "    del df_x['F5']\n",
    "    del df_x['F8']\n",
    "    del df_x['F10']\n",
    "    del df_x['F13']\n",
    "    return df_x\n",
    "def get_fix_X(df_x):\n",
    "    #df_x = map_X(df_x)\n",
    "    df_x = drop_X(df_x)\n",
    "    #df_x = dummies_X_all(df_x)\n",
    "    df_x = fillna(df_x)\n",
    "    return df_x"
   ]
  },
  {
   "cell_type": "raw",
   "metadata": {},
   "source": [
    "是否需要去掉含有缺失值的行"
   ]
  },
  {
   "cell_type": "code",
   "execution_count": 20,
   "metadata": {},
   "outputs": [],
   "source": [
    "#nomolize\n",
    "from sklearn import preprocessing\n",
    "def normalize(df):\n",
    "    min_max_scaler = preprocessing.MinMaxScaler()\n",
    "    np_scaled = min_max_scaler.fit_transform(df)\n",
    "    df_normalized = pd.DataFrame(np_scaled)\n",
    "    return df_normalized"
   ]
  },
  {
   "cell_type": "raw",
   "metadata": {},
   "source": [
    "缺失值填补"
   ]
  },
  {
   "cell_type": "code",
   "execution_count": 21,
   "metadata": {},
   "outputs": [],
   "source": [
    "def fillna(df):\n",
    "    return df.fillna(9999)"
   ]
  },
  {
   "cell_type": "raw",
   "metadata": {},
   "source": [
    "训练"
   ]
  },
  {
   "cell_type": "code",
   "execution_count": 22,
   "metadata": {},
   "outputs": [],
   "source": [
    "#RF_train\n",
    "from scipy.stats import ks_2samp\n",
    "from sklearn.model_selection import train_test_split\n",
    "from sklearn import ensemble\n",
    "from sklearn.metrics import roc_auc_score,roc_curve\n",
    "import matplotlib.pyplot as plot\n",
    "import numpy as np\n",
    "from math import sqrt,fabs,exp\n",
    "def train_online(df):\n",
    "    df_online = get_df_time(df,'2017-02-01','2017-04-01')\n",
    "    y,X = get_Y_X(df_online)\n",
    "    X = get_fix_X(X)\n",
    "    #y = normalize(y)\n",
    "    #X = normalize(X)\n",
    "    xTrain,xTest,yTrain,yTest = train_test_split(X.values,y.values.ravel(),test_size = 0.2,random_state = 520)\n",
    "    rf = ensemble.RandomForestClassifier(n_estimators=4000,max_depth=7,oob_score = True,n_jobs = -1,random_state = 531,class_weight = 'auto')\n",
    "    rf.fit(xTrain,yTrain)\n",
    "    print(\"online----------oob_score:%f\" % rf.oob_score_)\n",
    "    prediction = rf.predict_proba(xTest)\n",
    "    auc = roc_auc_score(yTest,prediction[:,1:2])\n",
    "    print (\"online-------AUC Score (test):%f\" % auc)\n",
    "    return rf"
   ]
  },
  {
   "cell_type": "raw",
   "metadata": {},
   "source": [
    "随机森林训练"
   ]
  },
  {
   "cell_type": "code",
   "execution_count": 181,
   "metadata": {},
   "outputs": [
    {
     "name": "stdout",
     "output_type": "stream",
     "text": [
      "online----------oob_score:0.610856\n",
      "online-------AUC Score (test):0.601861\n"
     ]
    }
   ],
   "source": [
    "rf = train_online(df_drop)"
   ]
  },
  {
   "cell_type": "code",
   "execution_count": 23,
   "metadata": {},
   "outputs": [],
   "source": [
    "#LR_train\n",
    "from sklearn.preprocessing import StandardScaler \n",
    "from sklearn.linear_model import LogisticRegression\n",
    "from sklearn.metrics import roc_auc_score,roc_curve\n",
    "def train_lr(df):\n",
    "    df_online = get_df_time(df,'2017-02-01','2017-04-01')\n",
    "    y,X = get_Y_X(df_online)\n",
    "    X = get_fix_X(X)\n",
    "    #y = normalize(y)\n",
    "    X = normalize(X)\n",
    "    xTrain,xTest,yTrain,yTest = train_test_split(X.values,y.values.ravel(),test_size = 0.2,random_state = 520)\n",
    "    lr = LogisticRegression(C = 500.0,random_state = 0,class_weight = 'balanced')\n",
    "    lr.fit(xTrain,yTrain)\n",
    "    prediction = lr.predict_proba(xTest)\n",
    "    #print(prediction[:,1:2])\n",
    "    auc = roc_auc_score(yTest,prediction[:,1:2])\n",
    "    print (\"online-------AUC Score (test):%f\" % auc)\n",
    "    return lr\n",
    "    \n",
    "    "
   ]
  },
  {
   "cell_type": "raw",
   "metadata": {},
   "source": [
    "评分卡模型"
   ]
  },
  {
   "cell_type": "code",
   "execution_count": 128,
   "metadata": {},
   "outputs": [],
   "source": [
    "def get_df_woe(df):\n",
    "    df_copy = df.copy()\n",
    "    #add phone_gray_score 5 and contacts_relatives_redline 9\n",
    "    #del ar_score\n",
    "    df_copy.drop(df_copy.columns[[1,2,3,4,5,6,8,9,11,13,16]],axis=1, inplace=True)\n",
    "    return df_copy\n",
    "def get_train_test_from_df(df):\n",
    "    msk = np.random.rand(len(df)) < 0.8\n",
    "    train = df[msk]\n",
    "    test = df[~msk]\n",
    "    return train,test\n",
    "def change_df_numeric(df):\n",
    "    return df.apply(pd.to_numeric,errors='ignore')\n",
    "def df_fillna(df):\n",
    "    #add code\n",
    "    col = [\"honeypot_model_score\",\"contacts_loankeywords_redline_cnt\",\"tongdun_score\",\"ar_score\"]\n",
    "    df[col] = df[col].fillna(-9999)\n",
    "    df['n_91applytimes_cnt'] = df['n_91applytimes_cnt'].fillna(2)\n",
    "    df['n_91rejectprecent'] = df['n_91rejectprecent'].fillna(0)\n",
    "    df['ant_score'] = df['ant_score'].fillna(300)\n",
    "    return df\n",
    "def get_df_woe_train_test(df):\n",
    "    df_online = get_df_time(df,'2017-02-01','2017-04-01')\n",
    "    df_online = get_df_woe(df_online)\n",
    "    df_online = change_df_numeric(df_online)\n",
    "    #fillna\n",
    "    #df_online.fillna(-9999,inplace=True)\n",
    "    df_online = df_fillna(df_online)\n",
    "    train,test = get_train_test_from_df(df_online)\n",
    "    return train,test"
   ]
  },
  {
   "cell_type": "code",
   "execution_count": 129,
   "metadata": {},
   "outputs": [
    {
     "name": "stdout",
     "output_type": "stream",
     "text": [
      "      labels honeypot_model_score contacts_loankeywords_redline_cnt  \\\n",
      "174        0                -9999                                 0   \n",
      "511        0                -9999                                 1   \n",
      "941        0                -9999                             -9999   \n",
      "1058       0                -9999                                 0   \n",
      "1143       1                  628                                 1   \n",
      "\n",
      "            tongdun_score n_91applytimes_cnt n_91rejectprecent ant_score  \\\n",
      "174   0.09842409198988074                  0               0.0       566   \n",
      "511   0.09842409198988074                  0               0.0       597   \n",
      "941                0.1057                  0               0.0       622   \n",
      "1058              0.10094                  0               0.0       634   \n",
      "1143              0.10044                  1               1.0        -1   \n",
      "\n",
      "     ar_score  \n",
      "174     -9999  \n",
      "511     -9999  \n",
      "941     -9999  \n",
      "1058    -9999  \n",
      "1143      484  \n"
     ]
    }
   ],
   "source": [
    "#print(df_drop.head(5))\n",
    "test = get_df_woe(df_drop)\n",
    "test = df_fillna(test)\n",
    "print(test.head(5))"
   ]
  },
  {
   "cell_type": "code",
   "execution_count": 26,
   "metadata": {},
   "outputs": [],
   "source": [
    "def get_woe(df,colname,p,q):\n",
    "    df = change_df_numeric(df)\n",
    "    total_good,total_bad = get_good_bad_num(df)\n",
    "    df_p_q = df[(df[colname]>p) & (df[colname]<=q)]\n",
    "    good,bad = get_good_bad_num(df_p_q)\n",
    "    obs = good + bad\n",
    "    bad_rate = bad/obs\n",
    "    pop = (good+bad)/(total_good+total_bad)\n",
    "    woe = math.log((bad/total_bad)/(good/total_good))\n",
    "    iv = (bad/total_bad-good/total_good)*woe\n",
    "    return obs,bad,woe,bad_rate,pop,iv\n",
    "def get_woe_list(df,colname,cuts):\n",
    "    woe_list =[]\n",
    "    for i in range(len(cuts)-1):\n",
    "        obs,bad,woe,bad_rate,pop,iv = get_woe(df,colname,cuts[i],cuts[i+1])\n",
    "        temp = [cuts[i],cuts[i+1],obs,bad,woe,bad_rate,pop,iv]\n",
    "        woe_list.append(temp)\n",
    "    df_woe_list = pd.DataFrame(woe_list,columns=['start','end','obs','bad','woe','badrate','pop','iv'])\n",
    "    return df_woe_list"
   ]
  },
  {
   "cell_type": "code",
   "execution_count": 1,
   "metadata": {},
   "outputs": [],
   "source": []
  },
  {
   "cell_type": "code",
   "execution_count": 203,
   "metadata": {},
   "outputs": [
    {
     "ename": "KeyError",
     "evalue": "'phone_gray_score'",
     "output_type": "error",
     "traceback": [
      "\u001b[0;31m---------------------------------------------------------------------------\u001b[0m",
      "\u001b[0;31mKeyError\u001b[0m                                  Traceback (most recent call last)",
      "\u001b[0;32m/data/program/miniconda/envs/py35/lib/python3.5/site-packages/pandas/indexes/base.py\u001b[0m in \u001b[0;36mget_loc\u001b[0;34m(self, key, method, tolerance)\u001b[0m\n\u001b[1;32m   2133\u001b[0m             \u001b[0;32mtry\u001b[0m\u001b[0;34m:\u001b[0m\u001b[0;34m\u001b[0m\u001b[0m\n\u001b[0;32m-> 2134\u001b[0;31m                 \u001b[0;32mreturn\u001b[0m \u001b[0mself\u001b[0m\u001b[0;34m.\u001b[0m\u001b[0m_engine\u001b[0m\u001b[0;34m.\u001b[0m\u001b[0mget_loc\u001b[0m\u001b[0;34m(\u001b[0m\u001b[0mkey\u001b[0m\u001b[0;34m)\u001b[0m\u001b[0;34m\u001b[0m\u001b[0m\n\u001b[0m\u001b[1;32m   2135\u001b[0m             \u001b[0;32mexcept\u001b[0m \u001b[0mKeyError\u001b[0m\u001b[0;34m:\u001b[0m\u001b[0;34m\u001b[0m\u001b[0m\n",
      "\u001b[0;32mpandas/index.pyx\u001b[0m in \u001b[0;36mpandas.index.IndexEngine.get_loc (pandas/index.c:4433)\u001b[0;34m()\u001b[0m\n",
      "\u001b[0;32mpandas/index.pyx\u001b[0m in \u001b[0;36mpandas.index.IndexEngine.get_loc (pandas/index.c:4279)\u001b[0;34m()\u001b[0m\n",
      "\u001b[0;32mpandas/src/hashtable_class_helper.pxi\u001b[0m in \u001b[0;36mpandas.hashtable.PyObjectHashTable.get_item (pandas/hashtable.c:13742)\u001b[0;34m()\u001b[0m\n",
      "\u001b[0;32mpandas/src/hashtable_class_helper.pxi\u001b[0m in \u001b[0;36mpandas.hashtable.PyObjectHashTable.get_item (pandas/hashtable.c:13696)\u001b[0;34m()\u001b[0m\n",
      "\u001b[0;31mKeyError\u001b[0m: 'phone_gray_score'",
      "\nDuring handling of the above exception, another exception occurred:\n",
      "\u001b[0;31mKeyError\u001b[0m                                  Traceback (most recent call last)",
      "\u001b[0;32m<ipython-input-203-3cce32e30160>\u001b[0m in \u001b[0;36m<module>\u001b[0;34m()\u001b[0m\n\u001b[1;32m      2\u001b[0m \u001b[0mF2\u001b[0m \u001b[0;34m=\u001b[0m \u001b[0;34m'phone_gray_score'\u001b[0m\u001b[0;34m\u001b[0m\u001b[0m\n\u001b[1;32m      3\u001b[0m \u001b[0mcuts\u001b[0m \u001b[0;34m=\u001b[0m \u001b[0;34m[\u001b[0m\u001b[0;34m-\u001b[0m\u001b[0mfloat\u001b[0m\u001b[0;34m(\u001b[0m\u001b[0;34m'Inf'\u001b[0m\u001b[0;34m)\u001b[0m\u001b[0;34m,\u001b[0m\u001b[0;36m0\u001b[0m\u001b[0;34m,\u001b[0m\u001b[0;36m50\u001b[0m\u001b[0;34m,\u001b[0m\u001b[0;36m75\u001b[0m\u001b[0;34m,\u001b[0m\u001b[0mfloat\u001b[0m\u001b[0;34m(\u001b[0m\u001b[0;34m'Inf'\u001b[0m\u001b[0;34m)\u001b[0m\u001b[0;34m]\u001b[0m\u001b[0;34m\u001b[0m\u001b[0m\n\u001b[0;32m----> 4\u001b[0;31m \u001b[0mwoe_F2\u001b[0m \u001b[0;34m=\u001b[0m \u001b[0mget_woe_list\u001b[0m\u001b[0;34m(\u001b[0m\u001b[0mtrain\u001b[0m\u001b[0;34m,\u001b[0m\u001b[0mF2\u001b[0m\u001b[0;34m,\u001b[0m\u001b[0mcuts\u001b[0m\u001b[0;34m)\u001b[0m\u001b[0;34m\u001b[0m\u001b[0m\n\u001b[0m\u001b[1;32m      5\u001b[0m \u001b[0mwoe_F2\u001b[0m\u001b[0;34m.\u001b[0m\u001b[0mto_csv\u001b[0m\u001b[0;34m(\u001b[0m\u001b[0;34m\"woe_F2.csv\"\u001b[0m\u001b[0;34m)\u001b[0m\u001b[0;34m\u001b[0m\u001b[0m\n\u001b[1;32m      6\u001b[0m \u001b[0mprint\u001b[0m\u001b[0;34m(\u001b[0m\u001b[0mwoe_F2\u001b[0m\u001b[0;34m)\u001b[0m\u001b[0;34m\u001b[0m\u001b[0m\n",
      "\u001b[0;32m<ipython-input-26-049d5ddcc884>\u001b[0m in \u001b[0;36mget_woe_list\u001b[0;34m(df, colname, cuts)\u001b[0m\n\u001b[1;32m     13\u001b[0m     \u001b[0mwoe_list\u001b[0m \u001b[0;34m=\u001b[0m\u001b[0;34m[\u001b[0m\u001b[0;34m]\u001b[0m\u001b[0;34m\u001b[0m\u001b[0m\n\u001b[1;32m     14\u001b[0m     \u001b[0;32mfor\u001b[0m \u001b[0mi\u001b[0m \u001b[0;32min\u001b[0m \u001b[0mrange\u001b[0m\u001b[0;34m(\u001b[0m\u001b[0mlen\u001b[0m\u001b[0;34m(\u001b[0m\u001b[0mcuts\u001b[0m\u001b[0;34m)\u001b[0m\u001b[0;34m-\u001b[0m\u001b[0;36m1\u001b[0m\u001b[0;34m)\u001b[0m\u001b[0;34m:\u001b[0m\u001b[0;34m\u001b[0m\u001b[0m\n\u001b[0;32m---> 15\u001b[0;31m         \u001b[0mobs\u001b[0m\u001b[0;34m,\u001b[0m\u001b[0mbad\u001b[0m\u001b[0;34m,\u001b[0m\u001b[0mwoe\u001b[0m\u001b[0;34m,\u001b[0m\u001b[0mbad_rate\u001b[0m\u001b[0;34m,\u001b[0m\u001b[0mpop\u001b[0m\u001b[0;34m,\u001b[0m\u001b[0miv\u001b[0m \u001b[0;34m=\u001b[0m \u001b[0mget_woe\u001b[0m\u001b[0;34m(\u001b[0m\u001b[0mdf\u001b[0m\u001b[0;34m,\u001b[0m\u001b[0mcolname\u001b[0m\u001b[0;34m,\u001b[0m\u001b[0mcuts\u001b[0m\u001b[0;34m[\u001b[0m\u001b[0mi\u001b[0m\u001b[0;34m]\u001b[0m\u001b[0;34m,\u001b[0m\u001b[0mcuts\u001b[0m\u001b[0;34m[\u001b[0m\u001b[0mi\u001b[0m\u001b[0;34m+\u001b[0m\u001b[0;36m1\u001b[0m\u001b[0;34m]\u001b[0m\u001b[0;34m)\u001b[0m\u001b[0;34m\u001b[0m\u001b[0m\n\u001b[0m\u001b[1;32m     16\u001b[0m         \u001b[0mtemp\u001b[0m \u001b[0;34m=\u001b[0m \u001b[0;34m[\u001b[0m\u001b[0mcuts\u001b[0m\u001b[0;34m[\u001b[0m\u001b[0mi\u001b[0m\u001b[0;34m]\u001b[0m\u001b[0;34m,\u001b[0m\u001b[0mcuts\u001b[0m\u001b[0;34m[\u001b[0m\u001b[0mi\u001b[0m\u001b[0;34m+\u001b[0m\u001b[0;36m1\u001b[0m\u001b[0;34m]\u001b[0m\u001b[0;34m,\u001b[0m\u001b[0mobs\u001b[0m\u001b[0;34m,\u001b[0m\u001b[0mbad\u001b[0m\u001b[0;34m,\u001b[0m\u001b[0mwoe\u001b[0m\u001b[0;34m,\u001b[0m\u001b[0mbad_rate\u001b[0m\u001b[0;34m,\u001b[0m\u001b[0mpop\u001b[0m\u001b[0;34m,\u001b[0m\u001b[0miv\u001b[0m\u001b[0;34m]\u001b[0m\u001b[0;34m\u001b[0m\u001b[0m\n\u001b[1;32m     17\u001b[0m         \u001b[0mwoe_list\u001b[0m\u001b[0;34m.\u001b[0m\u001b[0mappend\u001b[0m\u001b[0;34m(\u001b[0m\u001b[0mtemp\u001b[0m\u001b[0;34m)\u001b[0m\u001b[0;34m\u001b[0m\u001b[0m\n",
      "\u001b[0;32m<ipython-input-26-049d5ddcc884>\u001b[0m in \u001b[0;36mget_woe\u001b[0;34m(df, colname, p, q)\u001b[0m\n\u001b[1;32m      2\u001b[0m     \u001b[0mdf\u001b[0m \u001b[0;34m=\u001b[0m \u001b[0mchange_df_numeric\u001b[0m\u001b[0;34m(\u001b[0m\u001b[0mdf\u001b[0m\u001b[0;34m)\u001b[0m\u001b[0;34m\u001b[0m\u001b[0m\n\u001b[1;32m      3\u001b[0m     \u001b[0mtotal_good\u001b[0m\u001b[0;34m,\u001b[0m\u001b[0mtotal_bad\u001b[0m \u001b[0;34m=\u001b[0m \u001b[0mget_good_bad_num\u001b[0m\u001b[0;34m(\u001b[0m\u001b[0mdf\u001b[0m\u001b[0;34m)\u001b[0m\u001b[0;34m\u001b[0m\u001b[0m\n\u001b[0;32m----> 4\u001b[0;31m     \u001b[0mdf_p_q\u001b[0m \u001b[0;34m=\u001b[0m \u001b[0mdf\u001b[0m\u001b[0;34m[\u001b[0m\u001b[0;34m(\u001b[0m\u001b[0mdf\u001b[0m\u001b[0;34m[\u001b[0m\u001b[0mcolname\u001b[0m\u001b[0;34m]\u001b[0m\u001b[0;34m>\u001b[0m\u001b[0mp\u001b[0m\u001b[0;34m)\u001b[0m \u001b[0;34m&\u001b[0m \u001b[0;34m(\u001b[0m\u001b[0mdf\u001b[0m\u001b[0;34m[\u001b[0m\u001b[0mcolname\u001b[0m\u001b[0;34m]\u001b[0m\u001b[0;34m<=\u001b[0m\u001b[0mq\u001b[0m\u001b[0;34m)\u001b[0m\u001b[0;34m]\u001b[0m\u001b[0;34m\u001b[0m\u001b[0m\n\u001b[0m\u001b[1;32m      5\u001b[0m     \u001b[0mgood\u001b[0m\u001b[0;34m,\u001b[0m\u001b[0mbad\u001b[0m \u001b[0;34m=\u001b[0m \u001b[0mget_good_bad_num\u001b[0m\u001b[0;34m(\u001b[0m\u001b[0mdf_p_q\u001b[0m\u001b[0;34m)\u001b[0m\u001b[0;34m\u001b[0m\u001b[0m\n\u001b[1;32m      6\u001b[0m     \u001b[0mobs\u001b[0m \u001b[0;34m=\u001b[0m \u001b[0mgood\u001b[0m \u001b[0;34m+\u001b[0m \u001b[0mbad\u001b[0m\u001b[0;34m\u001b[0m\u001b[0m\n",
      "\u001b[0;32m/data/program/miniconda/envs/py35/lib/python3.5/site-packages/pandas/core/frame.py\u001b[0m in \u001b[0;36m__getitem__\u001b[0;34m(self, key)\u001b[0m\n\u001b[1;32m   2057\u001b[0m             \u001b[0;32mreturn\u001b[0m \u001b[0mself\u001b[0m\u001b[0;34m.\u001b[0m\u001b[0m_getitem_multilevel\u001b[0m\u001b[0;34m(\u001b[0m\u001b[0mkey\u001b[0m\u001b[0;34m)\u001b[0m\u001b[0;34m\u001b[0m\u001b[0m\n\u001b[1;32m   2058\u001b[0m         \u001b[0;32melse\u001b[0m\u001b[0;34m:\u001b[0m\u001b[0;34m\u001b[0m\u001b[0m\n\u001b[0;32m-> 2059\u001b[0;31m             \u001b[0;32mreturn\u001b[0m \u001b[0mself\u001b[0m\u001b[0;34m.\u001b[0m\u001b[0m_getitem_column\u001b[0m\u001b[0;34m(\u001b[0m\u001b[0mkey\u001b[0m\u001b[0;34m)\u001b[0m\u001b[0;34m\u001b[0m\u001b[0m\n\u001b[0m\u001b[1;32m   2060\u001b[0m \u001b[0;34m\u001b[0m\u001b[0m\n\u001b[1;32m   2061\u001b[0m     \u001b[0;32mdef\u001b[0m \u001b[0m_getitem_column\u001b[0m\u001b[0;34m(\u001b[0m\u001b[0mself\u001b[0m\u001b[0;34m,\u001b[0m \u001b[0mkey\u001b[0m\u001b[0;34m)\u001b[0m\u001b[0;34m:\u001b[0m\u001b[0;34m\u001b[0m\u001b[0m\n",
      "\u001b[0;32m/data/program/miniconda/envs/py35/lib/python3.5/site-packages/pandas/core/frame.py\u001b[0m in \u001b[0;36m_getitem_column\u001b[0;34m(self, key)\u001b[0m\n\u001b[1;32m   2064\u001b[0m         \u001b[0;31m# get column\u001b[0m\u001b[0;34m\u001b[0m\u001b[0;34m\u001b[0m\u001b[0m\n\u001b[1;32m   2065\u001b[0m         \u001b[0;32mif\u001b[0m \u001b[0mself\u001b[0m\u001b[0;34m.\u001b[0m\u001b[0mcolumns\u001b[0m\u001b[0;34m.\u001b[0m\u001b[0mis_unique\u001b[0m\u001b[0;34m:\u001b[0m\u001b[0;34m\u001b[0m\u001b[0m\n\u001b[0;32m-> 2066\u001b[0;31m             \u001b[0;32mreturn\u001b[0m \u001b[0mself\u001b[0m\u001b[0;34m.\u001b[0m\u001b[0m_get_item_cache\u001b[0m\u001b[0;34m(\u001b[0m\u001b[0mkey\u001b[0m\u001b[0;34m)\u001b[0m\u001b[0;34m\u001b[0m\u001b[0m\n\u001b[0m\u001b[1;32m   2067\u001b[0m \u001b[0;34m\u001b[0m\u001b[0m\n\u001b[1;32m   2068\u001b[0m         \u001b[0;31m# duplicate columns & possible reduce dimensionality\u001b[0m\u001b[0;34m\u001b[0m\u001b[0;34m\u001b[0m\u001b[0m\n",
      "\u001b[0;32m/data/program/miniconda/envs/py35/lib/python3.5/site-packages/pandas/core/generic.py\u001b[0m in \u001b[0;36m_get_item_cache\u001b[0;34m(self, item)\u001b[0m\n\u001b[1;32m   1384\u001b[0m         \u001b[0mres\u001b[0m \u001b[0;34m=\u001b[0m \u001b[0mcache\u001b[0m\u001b[0;34m.\u001b[0m\u001b[0mget\u001b[0m\u001b[0;34m(\u001b[0m\u001b[0mitem\u001b[0m\u001b[0;34m)\u001b[0m\u001b[0;34m\u001b[0m\u001b[0m\n\u001b[1;32m   1385\u001b[0m         \u001b[0;32mif\u001b[0m \u001b[0mres\u001b[0m \u001b[0;32mis\u001b[0m \u001b[0;32mNone\u001b[0m\u001b[0;34m:\u001b[0m\u001b[0;34m\u001b[0m\u001b[0m\n\u001b[0;32m-> 1386\u001b[0;31m             \u001b[0mvalues\u001b[0m \u001b[0;34m=\u001b[0m \u001b[0mself\u001b[0m\u001b[0;34m.\u001b[0m\u001b[0m_data\u001b[0m\u001b[0;34m.\u001b[0m\u001b[0mget\u001b[0m\u001b[0;34m(\u001b[0m\u001b[0mitem\u001b[0m\u001b[0;34m)\u001b[0m\u001b[0;34m\u001b[0m\u001b[0m\n\u001b[0m\u001b[1;32m   1387\u001b[0m             \u001b[0mres\u001b[0m \u001b[0;34m=\u001b[0m \u001b[0mself\u001b[0m\u001b[0;34m.\u001b[0m\u001b[0m_box_item_values\u001b[0m\u001b[0;34m(\u001b[0m\u001b[0mitem\u001b[0m\u001b[0;34m,\u001b[0m \u001b[0mvalues\u001b[0m\u001b[0;34m)\u001b[0m\u001b[0;34m\u001b[0m\u001b[0m\n\u001b[1;32m   1388\u001b[0m             \u001b[0mcache\u001b[0m\u001b[0;34m[\u001b[0m\u001b[0mitem\u001b[0m\u001b[0;34m]\u001b[0m \u001b[0;34m=\u001b[0m \u001b[0mres\u001b[0m\u001b[0;34m\u001b[0m\u001b[0m\n",
      "\u001b[0;32m/data/program/miniconda/envs/py35/lib/python3.5/site-packages/pandas/core/internals.py\u001b[0m in \u001b[0;36mget\u001b[0;34m(self, item, fastpath)\u001b[0m\n\u001b[1;32m   3541\u001b[0m \u001b[0;34m\u001b[0m\u001b[0m\n\u001b[1;32m   3542\u001b[0m             \u001b[0;32mif\u001b[0m \u001b[0;32mnot\u001b[0m \u001b[0misnull\u001b[0m\u001b[0;34m(\u001b[0m\u001b[0mitem\u001b[0m\u001b[0;34m)\u001b[0m\u001b[0;34m:\u001b[0m\u001b[0;34m\u001b[0m\u001b[0m\n\u001b[0;32m-> 3543\u001b[0;31m                 \u001b[0mloc\u001b[0m \u001b[0;34m=\u001b[0m \u001b[0mself\u001b[0m\u001b[0;34m.\u001b[0m\u001b[0mitems\u001b[0m\u001b[0;34m.\u001b[0m\u001b[0mget_loc\u001b[0m\u001b[0;34m(\u001b[0m\u001b[0mitem\u001b[0m\u001b[0;34m)\u001b[0m\u001b[0;34m\u001b[0m\u001b[0m\n\u001b[0m\u001b[1;32m   3544\u001b[0m             \u001b[0;32melse\u001b[0m\u001b[0;34m:\u001b[0m\u001b[0;34m\u001b[0m\u001b[0m\n\u001b[1;32m   3545\u001b[0m                 \u001b[0mindexer\u001b[0m \u001b[0;34m=\u001b[0m \u001b[0mnp\u001b[0m\u001b[0;34m.\u001b[0m\u001b[0marange\u001b[0m\u001b[0;34m(\u001b[0m\u001b[0mlen\u001b[0m\u001b[0;34m(\u001b[0m\u001b[0mself\u001b[0m\u001b[0;34m.\u001b[0m\u001b[0mitems\u001b[0m\u001b[0;34m)\u001b[0m\u001b[0;34m)\u001b[0m\u001b[0;34m[\u001b[0m\u001b[0misnull\u001b[0m\u001b[0;34m(\u001b[0m\u001b[0mself\u001b[0m\u001b[0;34m.\u001b[0m\u001b[0mitems\u001b[0m\u001b[0;34m)\u001b[0m\u001b[0;34m]\u001b[0m\u001b[0;34m\u001b[0m\u001b[0m\n",
      "\u001b[0;32m/data/program/miniconda/envs/py35/lib/python3.5/site-packages/pandas/indexes/base.py\u001b[0m in \u001b[0;36mget_loc\u001b[0;34m(self, key, method, tolerance)\u001b[0m\n\u001b[1;32m   2134\u001b[0m                 \u001b[0;32mreturn\u001b[0m \u001b[0mself\u001b[0m\u001b[0;34m.\u001b[0m\u001b[0m_engine\u001b[0m\u001b[0;34m.\u001b[0m\u001b[0mget_loc\u001b[0m\u001b[0;34m(\u001b[0m\u001b[0mkey\u001b[0m\u001b[0;34m)\u001b[0m\u001b[0;34m\u001b[0m\u001b[0m\n\u001b[1;32m   2135\u001b[0m             \u001b[0;32mexcept\u001b[0m \u001b[0mKeyError\u001b[0m\u001b[0;34m:\u001b[0m\u001b[0;34m\u001b[0m\u001b[0m\n\u001b[0;32m-> 2136\u001b[0;31m                 \u001b[0;32mreturn\u001b[0m \u001b[0mself\u001b[0m\u001b[0;34m.\u001b[0m\u001b[0m_engine\u001b[0m\u001b[0;34m.\u001b[0m\u001b[0mget_loc\u001b[0m\u001b[0;34m(\u001b[0m\u001b[0mself\u001b[0m\u001b[0;34m.\u001b[0m\u001b[0m_maybe_cast_indexer\u001b[0m\u001b[0;34m(\u001b[0m\u001b[0mkey\u001b[0m\u001b[0;34m)\u001b[0m\u001b[0;34m)\u001b[0m\u001b[0;34m\u001b[0m\u001b[0m\n\u001b[0m\u001b[1;32m   2137\u001b[0m \u001b[0;34m\u001b[0m\u001b[0m\n\u001b[1;32m   2138\u001b[0m         \u001b[0mindexer\u001b[0m \u001b[0;34m=\u001b[0m \u001b[0mself\u001b[0m\u001b[0;34m.\u001b[0m\u001b[0mget_indexer\u001b[0m\u001b[0;34m(\u001b[0m\u001b[0;34m[\u001b[0m\u001b[0mkey\u001b[0m\u001b[0;34m]\u001b[0m\u001b[0;34m,\u001b[0m \u001b[0mmethod\u001b[0m\u001b[0;34m=\u001b[0m\u001b[0mmethod\u001b[0m\u001b[0;34m,\u001b[0m \u001b[0mtolerance\u001b[0m\u001b[0;34m=\u001b[0m\u001b[0mtolerance\u001b[0m\u001b[0;34m)\u001b[0m\u001b[0;34m\u001b[0m\u001b[0m\n",
      "\u001b[0;32mpandas/index.pyx\u001b[0m in \u001b[0;36mpandas.index.IndexEngine.get_loc (pandas/index.c:4433)\u001b[0;34m()\u001b[0m\n",
      "\u001b[0;32mpandas/index.pyx\u001b[0m in \u001b[0;36mpandas.index.IndexEngine.get_loc (pandas/index.c:4279)\u001b[0;34m()\u001b[0m\n",
      "\u001b[0;32mpandas/src/hashtable_class_helper.pxi\u001b[0m in \u001b[0;36mpandas.hashtable.PyObjectHashTable.get_item (pandas/hashtable.c:13742)\u001b[0;34m()\u001b[0m\n",
      "\u001b[0;32mpandas/src/hashtable_class_helper.pxi\u001b[0m in \u001b[0;36mpandas.hashtable.PyObjectHashTable.get_item (pandas/hashtable.c:13696)\u001b[0;34m()\u001b[0m\n",
      "\u001b[0;31mKeyError\u001b[0m: 'phone_gray_score'"
     ]
    }
   ],
   "source": [
    "#del\n",
    "F2 = 'phone_gray_score'\n",
    "cuts = [-float('Inf'),0,50,75,float('Inf')]\n",
    "woe_F2 = get_woe_list(train,F2,cuts)\n",
    "woe_F2.to_csv(\"woe_F2.csv\")\n",
    "print(woe_F2)"
   ]
  },
  {
   "cell_type": "code",
   "execution_count": 204,
   "metadata": {},
   "outputs": [
    {
     "name": "stdout",
     "output_type": "stream",
     "text": [
      "         start          end      obs     bad       woe   badrate       pop  \\\n",
      "0         -inf -9999.000000  28035.0  2556.0 -0.105196  0.091172  0.417697   \n",
      "1 -9999.000000   610.000000   9873.0  1350.0  0.351551  0.136737  0.147099   \n",
      "2   610.000000   630.000000  12798.0  1544.0  0.207868  0.120644  0.190679   \n",
      "3   630.000000   640.000000   7348.0   653.0 -0.133324  0.088868  0.109479   \n",
      "4   640.000000          inf   9064.0   627.0 -0.405220  0.069175  0.135046   \n",
      "\n",
      "         iv  \n",
      "0  0.004432  \n",
      "1  0.020902  \n",
      "2  0.008951  \n",
      "3  0.001845  \n",
      "4  0.018862  \n"
     ]
    }
   ],
   "source": [
    "F4 = 'honeypot_model_score'\n",
    "cuts = [-float('Inf'),-9999,610,630,640,float('Inf')]\n",
    "woe_F4 = get_woe_list(train,F4,cuts)\n",
    "#print(cuts)\n",
    "woe_F4.to_csv(\"woe_F4.csv\")\n",
    "print(woe_F4)"
   ]
  },
  {
   "cell_type": "code",
   "execution_count": 31,
   "metadata": {},
   "outputs": [
    {
     "name": "stdout",
     "output_type": "stream",
     "text": [
      "         start          end       obs      bad       woe   badrate       pop  \\\n",
      "0         -inf -9999.000000  190420.0  16160.0 -0.189393  0.084865  0.283583   \n",
      "1 -9999.000000    10.000000  114610.0  12970.0  0.129818  0.113166  0.170683   \n",
      "2    10.000000    15.000000   81230.0   9140.0  0.123362  0.112520  0.120972   \n",
      "3    15.000000    30.000000  154930.0  16440.0  0.057536  0.106112  0.230729   \n",
      "4    30.000000          inf  130290.0  12960.0 -0.014506  0.099470  0.194034   \n",
      "\n",
      "         iv  \n",
      "0  0.009431  \n",
      "1  0.003029  \n",
      "2  0.001934  \n",
      "3  0.000782  \n",
      "4  0.000041  \n"
     ]
    }
   ],
   "source": [
    "#del\n",
    "F6 = \"contacts_relatives_redline_cnt\"\n",
    "cuts = [-float('Inf'),-9999,10,15,30,float('Inf')]\n",
    "woe_F6 = get_woe_list(train,F6,cuts)\n",
    "woe_F6.to_csv('woe_F6.csv')\n",
    "print(woe_F6)"
   ]
  },
  {
   "cell_type": "code",
   "execution_count": 206,
   "metadata": {},
   "outputs": [
    {
     "name": "stdout",
     "output_type": "stream",
     "text": [
      "         start          end      obs     bad       woe   badrate       pop  \\\n",
      "0         -inf -9999.000000  19101.0  1580.0 -0.211760  0.082718  0.284588   \n",
      "1 -9999.000000     1.000000  37227.0  4003.0  0.077987  0.107529  0.554650   \n",
      "2     1.000000          inf  10790.0  1147.0  0.065133  0.106302  0.160762   \n",
      "\n",
      "         iv  \n",
      "0  0.011725  \n",
      "1  0.003480  \n",
      "2  0.000700  \n"
     ]
    }
   ],
   "source": [
    "F7 = \"contacts_loankeywords_redline_cnt\"\n",
    "cuts_F7 = [-float('Inf'),-9999,1,float('Inf')]\n",
    "woe_F7 = get_woe_list(train,F7,cuts_F7)\n",
    "woe_F7.to_csv(\"woe_F7.csv\")\n",
    "print(woe_F7)"
   ]
  },
  {
   "cell_type": "code",
   "execution_count": 207,
   "metadata": {},
   "outputs": [
    {
     "name": "stdout",
     "output_type": "stream",
     "text": [
      "      start       end      obs     bad       woe   badrate       pop        iv\n",
      "0      -inf  0.110000  20229.0  1697.0 -0.196422  0.083889  0.301395  0.010750\n",
      "1  0.110000  0.130000  12137.0  1025.0 -0.189118  0.084453  0.180831  0.005996\n",
      "2  0.130000  0.150000  14804.0  1564.0  0.058219  0.105647  0.220567  0.000765\n",
      "3  0.150000  0.200000  11743.0  1353.0  0.155696  0.115218  0.174961  0.004513\n",
      "4  0.200000       inf   8205.0  1091.0  0.319245  0.132968  0.122247  0.014144\n"
     ]
    }
   ],
   "source": [
    "F9 = \"tongdun_score\"\n",
    "cuts_F9 = [-float('Inf'),0.11,0.13,0.15,0.20,float('Inf')]\n",
    "woe_F9 = get_woe_list(train,F9,cuts_F9)\n",
    "woe_F9.to_csv(\"woe_F9.csv\")\n",
    "print(woe_F9)"
   ]
  },
  {
   "cell_type": "code",
   "execution_count": 170,
   "metadata": {},
   "outputs": [
    {
     "name": "stdout",
     "output_type": "stream",
     "text": [
      "      start       end       obs      bad       woe   badrate       pop  \\\n",
      "0      -inf  1.000000  366896.0  34368.0 -0.075383  0.093672  0.683304   \n",
      "1  1.000000       inf  170048.0  19472.0  0.148725  0.114509  0.316696   \n",
      "\n",
      "         iv  \n",
      "0  0.003768  \n",
      "1  0.007433  \n"
     ]
    }
   ],
   "source": [
    "F11 = \"n_91applytimes_cnt\"\n",
    "cuts_F11 = [-float('Inf'),1,float('Inf')]\n",
    "woe_F11 = get_woe_list(train,F11,cuts_F11)\n",
    "woe_F11.to_csv(\"woe_F11.csv\")\n",
    "print(woe_F11)"
   ]
  },
  {
   "cell_type": "code",
   "execution_count": 171,
   "metadata": {},
   "outputs": [
    {
     "name": "stdout",
     "output_type": "stream",
     "text": [
      "      start       end       obs      bad       woe   badrate       pop  \\\n",
      "0      -inf  0.100000  303888.0  27120.0 -0.128693  0.089243  0.565958   \n",
      "1  0.100000  0.800000   85928.0   9776.0  0.141414  0.113770  0.160032   \n",
      "2  0.800000       inf  147128.0  16944.0  0.155180  0.115165  0.274010   \n",
      "\n",
      "         iv  \n",
      "0  0.008903  \n",
      "1  0.003386  \n",
      "2  0.007020  \n"
     ]
    }
   ],
   "source": [
    "F12 = \"n_91rejectprecent\"\n",
    "cuts_F12 = [-float('Inf'),0.1,0.8,float('Inf')]\n",
    "woe_F12 = get_woe_list(train,F12,cuts_F12)\n",
    "woe_F12.to_csv(\"woe_F12.csv\")\n",
    "print(woe_F12)"
   ]
  },
  {
   "cell_type": "code",
   "execution_count": 172,
   "metadata": {},
   "outputs": [
    {
     "name": "stdout",
     "output_type": "stream",
     "text": [
      "        start         end       obs      bad       woe   badrate       pop  \\\n",
      "0        -inf    0.000000  237536.0  22968.0 -0.040309  0.096693  0.442385   \n",
      "1    0.000000  600.000000   66376.0   9424.0  0.395266  0.141979  0.123618   \n",
      "2  600.000000  630.000000   83152.0   9064.0  0.093272  0.109005  0.154862   \n",
      "3  630.000000  660.000000   76720.0   7200.0 -0.073318  0.093848  0.142883   \n",
      "4  660.000000  680.000000   34856.0   2880.0 -0.212980  0.082626  0.064916   \n",
      "5  680.000000         inf   38304.0   2304.0 -0.554657  0.060150  0.071337   \n",
      "\n",
      "         iv  \n",
      "0  0.000707  \n",
      "1  0.022589  \n",
      "2  0.001398  \n",
      "3  0.000746  \n",
      "4  0.002704  \n",
      "5  0.017596  \n"
     ]
    }
   ],
   "source": [
    "F14 = 'ant_score'\n",
    "cuts_F14 = [-float('Inf'),0,600,630,660,680,float('Inf')]\n",
    "woe_F14 = get_woe_list(train,F14,cuts_F14)\n",
    "woe_F14.to_csv(\"woe_F14.csv\")\n",
    "print(woe_F14)"
   ]
  },
  {
   "cell_type": "code",
   "execution_count": 173,
   "metadata": {},
   "outputs": [
    {
     "name": "stdout",
     "output_type": "stream",
     "text": [
      "         start          end       obs      bad       woe   badrate       pop  \\\n",
      "0         -inf -9999.000000  247640.0  22192.0 -0.124142  0.089614  0.461203   \n",
      "1 -9999.000000   500.000000   95048.0  11552.0  0.216275  0.121539  0.177017   \n",
      "2   500.000000   560.000000  125704.0  13312.0  0.060888  0.105900  0.234110   \n",
      "3   560.000000          inf   68552.0   6784.0 -0.014603  0.098961  0.127671   \n",
      "\n",
      "         iv  \n",
      "0  0.006763  \n",
      "1  0.009025  \n",
      "2  0.000889  \n",
      "3  0.000027  \n"
     ]
    }
   ],
   "source": [
    "F15 = 'ar_score'\n",
    "cuts_F15 = [-float('Inf'),-9999,500,560,float('Inf')]\n",
    "woe_F15 = get_woe_list(train,F15,cuts_F15)\n",
    "woe_F15.to_csv(\"woe_F15.csv\")\n",
    "print(woe_F15)"
   ]
  },
  {
   "cell_type": "code",
   "execution_count": 152,
   "metadata": {},
   "outputs": [],
   "source": [
    "#change the dataframe to woe\n",
    "def convert_woe_F2(data):\n",
    "    if data<=0:\n",
    "        out = -0.067800\n",
    "    elif data >0 and data <=50:\n",
    "        out = 0.149807\n",
    "    elif data >50 and data <=75:\n",
    "        out = 0.059014\n",
    "    elif data >75:\n",
    "        out = -0.036569\n",
    "    return out\n",
    "def convert_woe_F4(data):\n",
    "    #分段法进行表示\n",
    "    if data<=-9999:\n",
    "        out = -0.105196\n",
    "    elif data >-9999 and data<=610:\n",
    "        out = 0.351551\n",
    "    elif (data>610) and (data <=630):\n",
    "        out = 0.207868\n",
    "    elif data>630 and data <= 640:\n",
    "        out = -0.133324\n",
    "    elif data>640:\n",
    "        out = -0.405220\n",
    "    return out\n",
    "def convert_woe_F6(data):\n",
    "    if data<=-9999:\n",
    "        out = -0.189393\n",
    "    elif data >-9999 and data <=10:\n",
    "        out = 0.129818\n",
    "    elif data >10 and data <=15:\n",
    "        out = 0.123362\n",
    "    elif data >15 and data <=30:\n",
    "        out = 0.057536\n",
    "    elif data >30:\n",
    "        out = -0.014506\n",
    "    return out\n",
    "def convert_woe_F7(data):\n",
    "    #分段法进行表示\n",
    "    if data <=-9999:\n",
    "        out = -0.211760\n",
    "    elif data >-9999 and data<=1:\n",
    "        out = 0.077987\n",
    "    elif data>1:\n",
    "        out = 0.065133\n",
    "    return out\n",
    "def convert_woe_F9(data):\n",
    "    #分段法进行表示\n",
    "    if data <= 0.11:\n",
    "        out = -0.196422\n",
    "    elif data >0.11 and data<=0.13:\n",
    "        out = -0.189118\n",
    "    elif data>0.13 and data <=0.15:\n",
    "        out = 0.058219\n",
    "    elif data>0.15 and data <=0.20:\n",
    "        out = 0.155696\n",
    "    elif data>0.20:\n",
    "        out = 0.319245\n",
    "    return out\n",
    "def convert_woe_F11(data):\n",
    "    #分段法进行表示\n",
    "    if data <= 1:\n",
    "        out = -0.075383\n",
    "    elif data>1:\n",
    "        out = 0.148725\n",
    "    return out\n",
    "def convert_woe_F12(data):\n",
    "    #分段法进行表示\n",
    "    if data <=0.1:\n",
    "        out = -0.128693\n",
    "    elif data>0.1 and data <= 0.8:\n",
    "        out = 0.141414\n",
    "    elif data>0.8:\n",
    "        out = 0.155180\n",
    "    return out\n",
    "def convert_woe_F14(data):\n",
    "    #分段法进行表示\n",
    "    if data <=0:\n",
    "        out = -0.040309\n",
    "    elif data>0 and data<= 600:\n",
    "        out = 0.395266\n",
    "    elif data>600 and data<=630:\n",
    "        out = 0.093272\n",
    "    elif data>630 and data<=660:\n",
    "        out = -0.073318\n",
    "    elif data >660 and data <=680:\n",
    "        out = -0.212980\n",
    "    elif data>680:\n",
    "        out = -0.554657\n",
    "    return out\n",
    "def convert_woe_F15(data):\n",
    "    #分段法进行表示\n",
    "    if data <=-9999:\n",
    "        out = -0.124142\n",
    "    if data>-9999 and data<=500:\n",
    "        out = 0.216275\n",
    "    elif data>500 and data<=560:\n",
    "        out = 0.060888\n",
    "    elif data>560:\n",
    "        out = -0.014603\n",
    "    return out\n",
    "def woe_insert_df(df):\n",
    "    #每一列进行转换\n",
    "    #df['phone_gray_score'] = df[\"phone_gray_score\"].map(convert_woe_F2)\n",
    "    df[\"honeypot_model_score\"] = df[\"honeypot_model_score\"].map(convert_woe_F4)\n",
    "    #df[\"contacts_relatives_redline_cnt\"] = df[\"contacts_relatives_redline_cnt\"].map(convert_woe_F6)\n",
    "    df[\"contacts_loankeywords_redline_cnt\"] = df[\"contacts_loankeywords_redline_cnt\"].map(convert_woe_F7)\n",
    "    df[\"tongdun_score\"] = df[\"tongdun_score\"].map(convert_woe_F9)\n",
    "    df[\"n_91applytimes_cnt\"] = df[\"n_91applytimes_cnt\"].map(convert_woe_F11)\n",
    "    df[\"n_91rejectprecent\"] = df[\"n_91rejectprecent\"].map(convert_woe_F12)\n",
    "    df[\"ant_score\"] = df[\"ant_score\"].map(convert_woe_F14)\n",
    "    df[\"ar_score\"] = df[\"ar_score\"].map(convert_woe_F15)\n",
    "    #drop n_91applytimes_cnt\n",
    "    #df.drop('n_91applytimes_cnt',axis=1,inplace = True)\n",
    "    return df"
   ]
  },
  {
   "cell_type": "code",
   "execution_count": 153,
   "metadata": {},
   "outputs": [],
   "source": [
    "#model_train\n",
    "from sklearn.preprocessing import StandardScaler \n",
    "from sklearn.linear_model import LogisticRegression\n",
    "from sklearn.metrics import roc_auc_score,roc_curve\n",
    "def train_lr_woe_get():\n",
    "    #train,test = get_df_woe_train_test(df)\n",
    "    #golable values train and test\n",
    "    train_copy = train.copy()\n",
    "    test_copy = test.copy()\n",
    "    train_woe = woe_insert_df(train_copy)\n",
    "    test_woe = woe_insert_df(test_copy)\n",
    "    yTrain = train_woe['labels'].to_frame().values.ravel()\n",
    "    train_woe.drop(train_woe.columns[[0]],axis=1,inplace=True)\n",
    "    xTrain = train_woe.values\n",
    "    yTest = test_woe['labels'].to_frame().values.ravel()\n",
    "    test_woe.drop(test_woe.columns[[0]],axis=1,inplace=True)\n",
    "    xTest = test_woe.values\n",
    "    return xTrain,xTest,yTrain,yTest\n",
    "def train_lr_woe():\n",
    "    xTrain,xTest,yTrain,yTest = train_lr_woe_get()\n",
    "    lr = LogisticRegression(C = 1.0,random_state = 0,class_weight = 'balanced')\n",
    "    #select_feature = lr.transform(xTrain)\n",
    "    #print(select_feature)\n",
    "    lr.fit(xTrain,yTrain)\n",
    "    prediction = lr.predict_proba(xTest)\n",
    "    #print(prediction[:,1:2])\n",
    "    auc = roc_auc_score(yTest,prediction[:,1:2])\n",
    "    print (\"online-------AUC Score (test):%f\" % auc)\n",
    "    return lr"
   ]
  },
  {
   "cell_type": "code",
   "execution_count": 154,
   "metadata": {},
   "outputs": [],
   "source": [
    "import statsmodels.formula.api as smf\n",
    "import pandas as pd\n",
    "from sklearn.metrics import roc_auc_score,roc_curve\n",
    "def get_data_forward_selected():\n",
    "    train_copy = train.copy()\n",
    "    test_copy = test.copy()\n",
    "    train_woe = woe_insert_df(train_copy)\n",
    "    test_woe = woe_insert_df(test_copy)\n",
    "    return train_woe,test_woe\n",
    "def forward_selected(data,response):\n",
    "    remaining = set(data.columns)\n",
    "    remaining.remove(response)\n",
    "    selected = []\n",
    "    current_score,best_new_score = 0.0,0.0\n",
    "    while remaining and current_score == best_new_score:\n",
    "        scores_with_candidates = []\n",
    "        for candidate in remaining:\n",
    "            formula = \"{} ~ {} + 1\".format(response,'+'.join(selected+[candidate]))\n",
    "            score = smf.ols(formula,data).fit().rsquared_adj\n",
    "            scores_with_candidates.append((score,candidate))\n",
    "        scores_with_candidates.sort()\n",
    "        best_new_score,best_candidate = scores_with_candidates.pop()\n",
    "        if current_score < best_new_score:\n",
    "            remaining.remove(best_candidate)\n",
    "            selected.append(best_candidate)\n",
    "            current_score = best_new_score\n",
    "    formula = \"{} ~ {} +1\".format(response,'+'.join(selected))\n",
    "    model = smf.ols(formula,data).fit()\n",
    "    return model\n",
    "def train_forward_selected():\n",
    "    train,test = get_data_forward_selected()\n",
    "    model = forward_selected(train,'labels')\n",
    "    yTest = test['labels'].to_frame().values.ravel()\n",
    "    pred = model.predict(test)\n",
    "    auc = roc_auc_score(yTest,pred)\n",
    "    print (\"online-------AUC Score (test):%f\" % auc)\n",
    "    return model"
   ]
  },
  {
   "cell_type": "code",
   "execution_count": 54,
   "metadata": {},
   "outputs": [],
   "source": [
    "%matplotlib inline"
   ]
  },
  {
   "cell_type": "code",
   "execution_count": 157,
   "metadata": {},
   "outputs": [],
   "source": [
    "#Ridge Regression\n",
    "import numpy as np\n",
    "import matplotlib.pyplot as plt\n",
    "from sklearn import linear_model\n",
    "def get_y_x_ridge_regression(df):\n",
    "    df_online = get_df_time(df,'2017-02-01','2017-04-01')\n",
    "    df_online = get_df_woe(df_online)\n",
    "    df_online = change_df_numeric(df_online)\n",
    "    df_online = df_fillna(df_online)\n",
    "    data = df_online.copy()\n",
    "    data = woe_insert_df(data)\n",
    "    y = data['labels'].to_frame().values.ravel()\n",
    "    data.drop(data.columns[[0]],axis=1,inplace=True)\n",
    "    X= data.values\n",
    "    return X,y\n",
    "def plot_alpha_ridge_regression(df):\n",
    "    #get y x\n",
    "    X,y = get_y_x_ridge_regression(df)\n",
    "    #show\n",
    "    n_alphas = 200\n",
    "    alphas = np.logspace(-10,-2,n_alphas)\n",
    "    clf = linear_model.Ridge(fit_intercept = False)\n",
    "    coefs = []\n",
    "    for a in alphas:\n",
    "        clf.set_params(alpha = a)\n",
    "        clf.fit(X,y)\n",
    "        coefs.append(clf.coef_)\n",
    "    ax = plt.gca()\n",
    "    ax.plot(alphas,coefs)\n",
    "    ax.set_xscale('log')\n",
    "    ax.set_xlim(ax.get_xlim()[::-1])\n",
    "    plt.xlabel('alpha')\n",
    "    plt.ylabel('weights')\n",
    "    plt.axis('tight')\n",
    "    plt.show()\n",
    "def best_alpha(df):\n",
    "    X,y = get_y_x_ridge_regression(df)\n",
    "    clf = linear_model.RidgeCV(alphas=[0.1,1.0,8.0,9.0,10.0,11.0,20.0,30.0,40.0,45.0,50.0,51.0,60.0,70.0,100.0,1000.0])\n",
    "    clf.fit(X,y)\n",
    "    #linear_model.RidgeCV(alphas=[0.1,1.0,8.0,9.0,10.0,11.0,20.0,30.0,40.0,45.0,50.0,51.0,60.0,70.0,100.0,1000.0],cv =None,fit_intercept = True,scoring = None,normalize = False)\n",
    "    return clf.alpha_\n",
    "def sigmoid(inX):  \n",
    "    return 1.0 / (1 + np.exp(-inX))\n",
    "def train_ridge_regression():\n",
    "    xTrain,xTest,yTrain,yTest = train_lr_woe_get()\n",
    "    clf = linear_model.Ridge(fit_intercept = True)\n",
    "    clf.set_params(alpha =45)\n",
    "    clf.fit(xTrain,yTrain)\n",
    "    prediction = clf.predict(xTest)\n",
    "    #prediction = sigmoid(prediction)\n",
    "    print(prediction)\n",
    "    auc = roc_auc_score(yTest,prediction)\n",
    "    print (\"online-------AUC Score (test):%f\" % auc)\n",
    "    return clf"
   ]
  },
  {
   "cell_type": "code",
   "execution_count": 158,
   "metadata": {},
   "outputs": [
    {
     "data": {
      "text/plain": [
       "45.0"
      ]
     },
     "execution_count": 158,
     "metadata": {},
     "output_type": "execute_result"
    }
   ],
   "source": [
    "#plot_alpha_ridge_regression(df_drop)\n",
    "best_alpha(df_drop)"
   ]
  },
  {
   "cell_type": "raw",
   "metadata": {},
   "source": [
    "测试"
   ]
  },
  {
   "cell_type": "code",
   "execution_count": 159,
   "metadata": {},
   "outputs": [
    {
     "name": "stdout",
     "output_type": "stream",
     "text": [
      "[ 0.11805225  0.07956226  0.04717336 ...,  0.12552514  0.14361264\n",
      "  0.08671106]\n",
      "online-------AUC Score (test):0.589541\n"
     ]
    },
    {
     "data": {
      "text/plain": [
       "array([ 0.05265962,  0.03781687,  0.0711045 ,  0.00470664,  0.0448961 ,\n",
       "        0.08214107, -0.03155062])"
      ]
     },
     "execution_count": 159,
     "metadata": {},
     "output_type": "execute_result"
    }
   ],
   "source": [
    "ridge = train_ridge_regression()\n",
    "ridge.coef_"
   ]
  },
  {
   "cell_type": "code",
   "execution_count": 175,
   "metadata": {},
   "outputs": [
    {
     "name": "stdout",
     "output_type": "stream",
     "text": [
      "online-------AUC Score (test):0.589731\n",
      "labels ~ honeypot_model_score+ant_score+tongdun_score+n_91rejectprecent+contacts_loankeywords_redline_cnt+ar_score +1\n"
     ]
    },
    {
     "data": {
      "text/plain": [
       "Intercept                            0.104417\n",
       "honeypot_model_score                 0.053447\n",
       "ant_score                            0.083353\n",
       "tongdun_score                        0.073040\n",
       "n_91rejectprecent                    0.048155\n",
       "contacts_loankeywords_redline_cnt    0.040774\n",
       "ar_score                            -0.036369\n",
       "dtype: float64"
      ]
     },
     "execution_count": 175,
     "metadata": {},
     "output_type": "execute_result"
    }
   ],
   "source": [
    "model_selected = train_forward_selected()\n",
    "print(model_selected.model.formula)\n",
    "model_selected.params"
   ]
  },
  {
   "cell_type": "code",
   "execution_count": 174,
   "metadata": {},
   "outputs": [
    {
     "name": "stdout",
     "output_type": "stream",
     "text": [
      "online-------AUC Score (test):0.589567\n"
     ]
    },
    {
     "data": {
      "text/plain": [
       "array([[ 0.57755067,  0.54589567,  0.79544261,  0.0537072 ,  0.56778598,\n",
       "         0.93250173, -0.42417155]])"
      ]
     },
     "execution_count": 174,
     "metadata": {},
     "output_type": "execute_result"
    }
   ],
   "source": [
    "lr_woe_all = train_lr_woe()\n",
    "lr_woe_all.coef_"
   ]
  },
  {
   "cell_type": "code",
   "execution_count": 353,
   "metadata": {},
   "outputs": [
    {
     "data": {
      "text/plain": [
       "array([[-0.65977649,  0.62621007,  1.07773027, -0.52507218,  0.79804137,\n",
       "        -0.07358959,  0.15217059,  0.84984036, -0.13822202]])"
      ]
     },
     "execution_count": 353,
     "metadata": {},
     "output_type": "execute_result"
    }
   ],
   "source": [
    "lr_woe_all.coef_"
   ]
  },
  {
   "cell_type": "code",
   "execution_count": 333,
   "metadata": {},
   "outputs": [
    {
     "name": "stdout",
     "output_type": "stream",
     "text": [
      "[ 0.47828455]\n",
      "[[ 0.52171545  0.47828455]]\n"
     ]
    }
   ],
   "source": [
    "xtest = [[0.087041,0.067389,-0.203955,-0.073754,0.168285,-0.063447,0.181256]]\n",
    "pre = lr_woe_all_1.predict_proba(xtest)\n",
    "a = lr_woe_all_1.coef_\n",
    "#print(a)\n",
    "sum = 0\n",
    "for i in range(7):\n",
    "    sum +=xtest[0][i]*a[0][i]\n",
    "sum +=  lr_woe_all_1.intercept_\n",
    "from math import e\n",
    "print(1./(1+e**(-sum)))\n",
    "#print(sum)\n",
    "print(pre)"
   ]
  },
  {
   "cell_type": "code",
   "execution_count": 299,
   "metadata": {},
   "outputs": [
    {
     "name": "stdout",
     "output_type": "stream",
     "text": [
      "online-------AUC Score (test):0.591702\n"
     ]
    }
   ],
   "source": [
    "lr_woe_all_1 = train_lr_woe()"
   ]
  },
  {
   "cell_type": "code",
   "execution_count": 315,
   "metadata": {},
   "outputs": [
    {
     "data": {
      "text/plain": [
       "array([[ 0.56592706,  0.5496456 ,  0.80801066, -0.06267855,  0.65678485,\n",
       "         0.86047866, -0.44524436]])"
      ]
     },
     "execution_count": 315,
     "metadata": {},
     "output_type": "execute_result"
    }
   ],
   "source": [
    "lr_woe_all_1.coef_\n",
    "#lr_woe_all_1.n_iter_ "
   ]
  },
  {
   "cell_type": "code",
   "execution_count": 326,
   "metadata": {},
   "outputs": [
    {
     "data": {
      "text/plain": [
       "array([ 0.01173057])"
      ]
     },
     "execution_count": 326,
     "metadata": {},
     "output_type": "execute_result"
    }
   ],
   "source": [
    "lr_woe_all_1.intercept_"
   ]
  },
  {
   "cell_type": "code",
   "execution_count": 327,
   "metadata": {},
   "outputs": [
    {
     "name": "stdout",
     "output_type": "stream",
     "text": [
      "online----------oob_score:0.600694\n",
      "online-------AUC Score (test):0.594595\n"
     ]
    }
   ],
   "source": [
    "rf = train_online(df_drop_any)"
   ]
  },
  {
   "cell_type": "code",
   "execution_count": 36,
   "metadata": {},
   "outputs": [
    {
     "name": "stdout",
     "output_type": "stream",
     "text": [
      "online-------AUC Score (test):0.582784\n"
     ]
    }
   ],
   "source": [
    "lr = train_lr(df_drop_any)"
   ]
  },
  {
   "cell_type": "raw",
   "metadata": {},
   "source": [
    "ks值计算"
   ]
  },
  {
   "cell_type": "code",
   "execution_count": 162,
   "metadata": {},
   "outputs": [],
   "source": [
    "#ks\n",
    "import numpy as np\n",
    "import pandas as pd\n",
    "from collections import Counter\n",
    "def ks_value(pred,true,n):\n",
    "    score = (1.-pred)*1000\n",
    "    index = score.argsort()\n",
    "    score_sort = np.sort(score)\n",
    "    true_sort = true[index]\n",
    "    len_num = pred.size\n",
    "    add = int(len_num/n)\n",
    "    out = []\n",
    "    for i in get_split_len(len_num,n):\n",
    "        if i == get_split_len(len_num,n)[-1]:\n",
    "            good_num,bad_num,total = get_good_bad(true_sort,i,-1)\n",
    "            min_value,max_value = get_max_min(score_sort,i,-1)\n",
    "            temp = [min_value,max_value,total,bad_num,good_num]\n",
    "        else:\n",
    "            good_num,bad_num,total = get_good_bad(true_sort,i,i+add)\n",
    "            min_value,max_value = get_max_min(score_sort,i,i+add)\n",
    "            temp = [min_value,max_value,total,bad_num,good_num]\n",
    "        out.append(temp)\n",
    "    return out\n",
    "def list_to_dataframe(out):\n",
    "    df = pd.DataFrame.from_records(out,columns = [\"min_value\",\"max_value\",\"total\",\"bad_num\",\"good_num\"])\n",
    "    return df\n",
    "def get_good_bad(true,startindex,endindex):\n",
    "    if endindex == -1:\n",
    "        true_index = true[startindex:]\n",
    "    else:\n",
    "        true_index = true[startindex:endindex]\n",
    "    c = Counter([i for i in true_index])\n",
    "    total = true_index.size\n",
    "    return c[0],c[1],total\n",
    "def get_max_min(pred,startindex,endindex):\n",
    "    return pred[startindex],pred[endindex]\n",
    "def get_split_len(len_num,n):\n",
    "    out = [0]\n",
    "    add = int(len_num/n)\n",
    "    index = 0\n",
    "    for i in range(n-1):\n",
    "        index += add\n",
    "        out.append(int(index))\n",
    "    return out\n",
    "def get_ksvalue_offline(rf,df,start,end,name):\n",
    "    df_offline = get_df_time(df,start,end)\n",
    "    y,X = get_Y_X(df_offline)\n",
    "    X = get_fix_X(X)\n",
    "    xTest,yTest = X.values,y.values.ravel()\n",
    "    prediction = rf.predict_proba(xTest)\n",
    "    pred = prediction[:,1:2].ravel()\n",
    "    out = ks_value(pred,yTest,10)\n",
    "    df = list_to_dataframe(out)\n",
    "    df.to_csv(name)\n",
    "    return df\n",
    "def get_ksvalue_lr(lr,df,start,end,name):\n",
    "    df_offline = get_df_time(df,start,end)\n",
    "    y,X = get_Y_X(df_offline)\n",
    "    X = get_fix_X(X)\n",
    "    X = normalize(X)\n",
    "    xTest,yTest = X.values,y.values.ravel()\n",
    "    prediction = lr.predict_proba(xTest)\n",
    "    #print(prediction)\n",
    "    pred = prediction[:,1:2].ravel()\n",
    "    #print(pred)\n",
    "    out = ks_value(pred,yTest,10)\n",
    "    df = list_to_dataframe(out)\n",
    "    df.to_csv(name)\n",
    "    return df\n",
    "def get_ksvalue_lr_woe(lr,df,start,end,name):\n",
    "    df_offline = get_df_time(df,start,end)\n",
    "    df_offline = get_df_woe(df_offline)\n",
    "    df_offline = change_df_numeric(df_offline)\n",
    "    #fillna\n",
    "    df_offline = df_fillna(df_offline)\n",
    "    df_offline_woe = woe_insert_df(df_offline)\n",
    "    yTest = df_offline_woe['labels'].to_frame().values.ravel()\n",
    "    df_offline_woe.drop(df_offline_woe.columns[[0]],axis=1,inplace=True)\n",
    "    xTest = df_offline_woe.values\n",
    "    prediction = lr.predict_proba(xTest)\n",
    "    #print(prediction)\n",
    "    pred = prediction[:,1:2].ravel()\n",
    "    #print(pred)\n",
    "    out = ks_value(pred,yTest,10)\n",
    "    df = list_to_dataframe(out)\n",
    "    df.to_csv(name)\n",
    "    return df\n",
    "def get_ksvalue_ridge(lr,df,start,end,name):\n",
    "    df_offline = get_df_time(df,start,end)\n",
    "    df_offline = get_df_woe(df_offline)\n",
    "    df_offline = change_df_numeric(df_offline)\n",
    "    #fillna\n",
    "    df_offline = df_fillna(df_offline)\n",
    "    df_offline_woe = woe_insert_df(df_offline)\n",
    "    yTest = df_offline_woe['labels'].to_frame().values.ravel()\n",
    "    df_offline_woe.drop(df_offline_woe.columns[[0]],axis=1,inplace=True)\n",
    "    xTest = df_offline_woe.values\n",
    "    pred= lr.predict(xTest)\n",
    "    #print(prediction)\n",
    "    #print(pred)\n",
    "    out = ks_value(pred,yTest,10)\n",
    "    df = list_to_dataframe(out)\n",
    "    df.to_csv(name)\n",
    "    return df"
   ]
  },
  {
   "cell_type": "code",
   "execution_count": 163,
   "metadata": {},
   "outputs": [],
   "source": [
    "#selected_forward\n",
    "def get_data_selected(df,st,end):\n",
    "    df_offline = get_df_time(df,st,end)\n",
    "    df_offline = get_df_woe(df_offline)\n",
    "    df_offline = change_df_numeric(df_offline)\n",
    "    #fillna\n",
    "    df_offline = df_fillna(df_offline)\n",
    "    df_offline_woe = woe_insert_df(df_offline)\n",
    "    return df_offline_woe\n",
    "def get_ksvalue_selected_forward(model,df,start,end,name):\n",
    "    df_offline = get_df_time(df,start,end)\n",
    "    df_offline = get_df_woe(df_offline)\n",
    "    df_offline = change_df_numeric(df_offline)\n",
    "    #fillna\n",
    "    df_offline = df_fillna(df_offline)\n",
    "    data = woe_insert_df(df_offline)\n",
    "    yTest = data['labels'].to_frame().values.ravel()\n",
    "    pred = model.predict(data)\n",
    "    out = ks_value(pred,yTest,10)\n",
    "    df = list_to_dataframe(out)\n",
    "    df.to_csv(name)\n",
    "    return df"
   ]
  },
  {
   "cell_type": "code",
   "execution_count": 164,
   "metadata": {},
   "outputs": [
    {
     "data": {
      "text/html": [
       "<div>\n",
       "<table border=\"1\" class=\"dataframe\">\n",
       "  <thead>\n",
       "    <tr style=\"text-align: right;\">\n",
       "      <th></th>\n",
       "      <th>min_value</th>\n",
       "      <th>max_value</th>\n",
       "      <th>total</th>\n",
       "      <th>bad_num</th>\n",
       "      <th>good_num</th>\n",
       "    </tr>\n",
       "  </thead>\n",
       "  <tbody>\n",
       "    <tr>\n",
       "      <th>0</th>\n",
       "      <td>810.885818</td>\n",
       "      <td>872.508881</td>\n",
       "      <td>4793</td>\n",
       "      <td>481</td>\n",
       "      <td>4312</td>\n",
       "    </tr>\n",
       "    <tr>\n",
       "      <th>1</th>\n",
       "      <td>872.508881</td>\n",
       "      <td>886.330485</td>\n",
       "      <td>4793</td>\n",
       "      <td>466</td>\n",
       "      <td>4327</td>\n",
       "    </tr>\n",
       "    <tr>\n",
       "      <th>2</th>\n",
       "      <td>886.330485</td>\n",
       "      <td>893.278737</td>\n",
       "      <td>4793</td>\n",
       "      <td>405</td>\n",
       "      <td>4388</td>\n",
       "    </tr>\n",
       "    <tr>\n",
       "      <th>3</th>\n",
       "      <td>893.278737</td>\n",
       "      <td>903.359792</td>\n",
       "      <td>4793</td>\n",
       "      <td>362</td>\n",
       "      <td>4431</td>\n",
       "    </tr>\n",
       "    <tr>\n",
       "      <th>4</th>\n",
       "      <td>903.359792</td>\n",
       "      <td>907.078323</td>\n",
       "      <td>4793</td>\n",
       "      <td>372</td>\n",
       "      <td>4421</td>\n",
       "    </tr>\n",
       "    <tr>\n",
       "      <th>5</th>\n",
       "      <td>907.078323</td>\n",
       "      <td>917.203129</td>\n",
       "      <td>4793</td>\n",
       "      <td>298</td>\n",
       "      <td>4495</td>\n",
       "    </tr>\n",
       "    <tr>\n",
       "      <th>6</th>\n",
       "      <td>917.203129</td>\n",
       "      <td>918.875393</td>\n",
       "      <td>4793</td>\n",
       "      <td>361</td>\n",
       "      <td>4432</td>\n",
       "    </tr>\n",
       "    <tr>\n",
       "      <th>7</th>\n",
       "      <td>918.875393</td>\n",
       "      <td>929.067460</td>\n",
       "      <td>4793</td>\n",
       "      <td>212</td>\n",
       "      <td>4581</td>\n",
       "    </tr>\n",
       "    <tr>\n",
       "      <th>8</th>\n",
       "      <td>929.067460</td>\n",
       "      <td>934.011589</td>\n",
       "      <td>4793</td>\n",
       "      <td>208</td>\n",
       "      <td>4585</td>\n",
       "    </tr>\n",
       "    <tr>\n",
       "      <th>9</th>\n",
       "      <td>934.011589</td>\n",
       "      <td>970.932759</td>\n",
       "      <td>4802</td>\n",
       "      <td>207</td>\n",
       "      <td>4595</td>\n",
       "    </tr>\n",
       "  </tbody>\n",
       "</table>\n",
       "</div>"
      ],
      "text/plain": [
       "    min_value   max_value  total  bad_num  good_num\n",
       "0  810.885818  872.508881   4793      481      4312\n",
       "1  872.508881  886.330485   4793      466      4327\n",
       "2  886.330485  893.278737   4793      405      4388\n",
       "3  893.278737  903.359792   4793      362      4431\n",
       "4  903.359792  907.078323   4793      372      4421\n",
       "5  907.078323  917.203129   4793      298      4495\n",
       "6  917.203129  918.875393   4793      361      4432\n",
       "7  918.875393  929.067460   4793      212      4581\n",
       "8  929.067460  934.011589   4793      208      4585\n",
       "9  934.011589  970.932759   4802      207      4595"
      ]
     },
     "execution_count": 164,
     "metadata": {},
     "output_type": "execute_result"
    }
   ],
   "source": [
    "get_ksvalue_ridge(ridge,df_drop,'2017-02-01','2017-04-01','df1_ridge.csv')\n",
    "get_ksvalue_ridge(ridge,df_drop,'2017-04-01','2017-04-05','df2_ridge.csv')\n",
    "get_ksvalue_ridge(ridge,df_drop,'2017-04-05','2017-04-10','df3_ridge.csv')"
   ]
  },
  {
   "cell_type": "code",
   "execution_count": 165,
   "metadata": {},
   "outputs": [
    {
     "data": {
      "text/html": [
       "<div>\n",
       "<table border=\"1\" class=\"dataframe\">\n",
       "  <thead>\n",
       "    <tr style=\"text-align: right;\">\n",
       "      <th></th>\n",
       "      <th>min_value</th>\n",
       "      <th>max_value</th>\n",
       "      <th>total</th>\n",
       "      <th>bad_num</th>\n",
       "      <th>good_num</th>\n",
       "    </tr>\n",
       "  </thead>\n",
       "  <tbody>\n",
       "    <tr>\n",
       "      <th>0</th>\n",
       "      <td>809.346167</td>\n",
       "      <td>872.182761</td>\n",
       "      <td>4793</td>\n",
       "      <td>485</td>\n",
       "      <td>4308</td>\n",
       "    </tr>\n",
       "    <tr>\n",
       "      <th>1</th>\n",
       "      <td>872.182761</td>\n",
       "      <td>886.067437</td>\n",
       "      <td>4793</td>\n",
       "      <td>476</td>\n",
       "      <td>4317</td>\n",
       "    </tr>\n",
       "    <tr>\n",
       "      <th>2</th>\n",
       "      <td>886.067437</td>\n",
       "      <td>893.378630</td>\n",
       "      <td>4793</td>\n",
       "      <td>390</td>\n",
       "      <td>4403</td>\n",
       "    </tr>\n",
       "    <tr>\n",
       "      <th>3</th>\n",
       "      <td>893.378630</td>\n",
       "      <td>903.211499</td>\n",
       "      <td>4793</td>\n",
       "      <td>364</td>\n",
       "      <td>4429</td>\n",
       "    </tr>\n",
       "    <tr>\n",
       "      <th>4</th>\n",
       "      <td>903.211499</td>\n",
       "      <td>907.412059</td>\n",
       "      <td>4793</td>\n",
       "      <td>372</td>\n",
       "      <td>4421</td>\n",
       "    </tr>\n",
       "    <tr>\n",
       "      <th>5</th>\n",
       "      <td>907.412059</td>\n",
       "      <td>916.881492</td>\n",
       "      <td>4793</td>\n",
       "      <td>301</td>\n",
       "      <td>4492</td>\n",
       "    </tr>\n",
       "    <tr>\n",
       "      <th>6</th>\n",
       "      <td>916.881492</td>\n",
       "      <td>918.973442</td>\n",
       "      <td>4793</td>\n",
       "      <td>285</td>\n",
       "      <td>4508</td>\n",
       "    </tr>\n",
       "    <tr>\n",
       "      <th>7</th>\n",
       "      <td>918.973442</td>\n",
       "      <td>929.951764</td>\n",
       "      <td>4793</td>\n",
       "      <td>280</td>\n",
       "      <td>4513</td>\n",
       "    </tr>\n",
       "    <tr>\n",
       "      <th>8</th>\n",
       "      <td>929.951764</td>\n",
       "      <td>934.436986</td>\n",
       "      <td>4793</td>\n",
       "      <td>212</td>\n",
       "      <td>4581</td>\n",
       "    </tr>\n",
       "    <tr>\n",
       "      <th>9</th>\n",
       "      <td>934.436986</td>\n",
       "      <td>972.101514</td>\n",
       "      <td>4802</td>\n",
       "      <td>207</td>\n",
       "      <td>4595</td>\n",
       "    </tr>\n",
       "  </tbody>\n",
       "</table>\n",
       "</div>"
      ],
      "text/plain": [
       "    min_value   max_value  total  bad_num  good_num\n",
       "0  809.346167  872.182761   4793      485      4308\n",
       "1  872.182761  886.067437   4793      476      4317\n",
       "2  886.067437  893.378630   4793      390      4403\n",
       "3  893.378630  903.211499   4793      364      4429\n",
       "4  903.211499  907.412059   4793      372      4421\n",
       "5  907.412059  916.881492   4793      301      4492\n",
       "6  916.881492  918.973442   4793      285      4508\n",
       "7  918.973442  929.951764   4793      280      4513\n",
       "8  929.951764  934.436986   4793      212      4581\n",
       "9  934.436986  972.101514   4802      207      4595"
      ]
     },
     "execution_count": 165,
     "metadata": {},
     "output_type": "execute_result"
    }
   ],
   "source": [
    "get_ksvalue_selected_forward(model_selected,df_drop,'2017-02-01','2017-04-01','df1_selected.csv')\n",
    "get_ksvalue_selected_forward(model_selected,df_drop,'2017-04-01','2017-04-05','df2_selected.csv')\n",
    "get_ksvalue_selected_forward(model_selected,df_drop,'2017-04-05','2017-04-10','df3_selected.csv')"
   ]
  },
  {
   "cell_type": "code",
   "execution_count": 166,
   "metadata": {},
   "outputs": [
    {
     "data": {
      "text/html": [
       "<div>\n",
       "<table border=\"1\" class=\"dataframe\">\n",
       "  <thead>\n",
       "    <tr style=\"text-align: right;\">\n",
       "      <th></th>\n",
       "      <th>min_value</th>\n",
       "      <th>max_value</th>\n",
       "      <th>total</th>\n",
       "      <th>bad_num</th>\n",
       "      <th>good_num</th>\n",
       "    </tr>\n",
       "  </thead>\n",
       "  <tbody>\n",
       "    <tr>\n",
       "      <th>0</th>\n",
       "      <td>274.629073</td>\n",
       "      <td>432.943986</td>\n",
       "      <td>4793</td>\n",
       "      <td>493</td>\n",
       "      <td>4300</td>\n",
       "    </tr>\n",
       "    <tr>\n",
       "      <th>1</th>\n",
       "      <td>432.943986</td>\n",
       "      <td>471.265057</td>\n",
       "      <td>4793</td>\n",
       "      <td>460</td>\n",
       "      <td>4333</td>\n",
       "    </tr>\n",
       "    <tr>\n",
       "      <th>2</th>\n",
       "      <td>471.265057</td>\n",
       "      <td>492.449014</td>\n",
       "      <td>4793</td>\n",
       "      <td>384</td>\n",
       "      <td>4409</td>\n",
       "    </tr>\n",
       "    <tr>\n",
       "      <th>3</th>\n",
       "      <td>492.449014</td>\n",
       "      <td>515.601776</td>\n",
       "      <td>4793</td>\n",
       "      <td>374</td>\n",
       "      <td>4419</td>\n",
       "    </tr>\n",
       "    <tr>\n",
       "      <th>4</th>\n",
       "      <td>515.601776</td>\n",
       "      <td>532.793442</td>\n",
       "      <td>4793</td>\n",
       "      <td>370</td>\n",
       "      <td>4423</td>\n",
       "    </tr>\n",
       "    <tr>\n",
       "      <th>5</th>\n",
       "      <td>532.793442</td>\n",
       "      <td>557.206597</td>\n",
       "      <td>4793</td>\n",
       "      <td>311</td>\n",
       "      <td>4482</td>\n",
       "    </tr>\n",
       "    <tr>\n",
       "      <th>6</th>\n",
       "      <td>557.206597</td>\n",
       "      <td>564.438664</td>\n",
       "      <td>4793</td>\n",
       "      <td>266</td>\n",
       "      <td>4527</td>\n",
       "    </tr>\n",
       "    <tr>\n",
       "      <th>7</th>\n",
       "      <td>564.438664</td>\n",
       "      <td>596.145753</td>\n",
       "      <td>4793</td>\n",
       "      <td>309</td>\n",
       "      <td>4484</td>\n",
       "    </tr>\n",
       "    <tr>\n",
       "      <th>8</th>\n",
       "      <td>596.145753</td>\n",
       "      <td>610.538222</td>\n",
       "      <td>4793</td>\n",
       "      <td>197</td>\n",
       "      <td>4596</td>\n",
       "    </tr>\n",
       "    <tr>\n",
       "      <th>9</th>\n",
       "      <td>610.538222</td>\n",
       "      <td>705.461968</td>\n",
       "      <td>4802</td>\n",
       "      <td>208</td>\n",
       "      <td>4594</td>\n",
       "    </tr>\n",
       "  </tbody>\n",
       "</table>\n",
       "</div>"
      ],
      "text/plain": [
       "    min_value   max_value  total  bad_num  good_num\n",
       "0  274.629073  432.943986   4793      493      4300\n",
       "1  432.943986  471.265057   4793      460      4333\n",
       "2  471.265057  492.449014   4793      384      4409\n",
       "3  492.449014  515.601776   4793      374      4419\n",
       "4  515.601776  532.793442   4793      370      4423\n",
       "5  532.793442  557.206597   4793      311      4482\n",
       "6  557.206597  564.438664   4793      266      4527\n",
       "7  564.438664  596.145753   4793      309      4484\n",
       "8  596.145753  610.538222   4793      197      4596\n",
       "9  610.538222  705.461968   4802      208      4594"
      ]
     },
     "execution_count": 166,
     "metadata": {},
     "output_type": "execute_result"
    }
   ],
   "source": [
    "get_ksvalue_lr_woe(lr_woe_all,df_drop,'2017-02-01','2017-04-01','df1_woe.csv')\n",
    "get_ksvalue_lr_woe(lr_woe_all,df_drop,'2017-04-01','2017-04-05','df2_woe.csv')\n",
    "get_ksvalue_lr_woe(lr_woe_all,df_drop,'2017-04-05','2017-04-10','df3_woe.csv')"
   ]
  },
  {
   "cell_type": "code",
   "execution_count": 183,
   "metadata": {},
   "outputs": [
    {
     "data": {
      "text/html": [
       "<div>\n",
       "<table border=\"1\" class=\"dataframe\">\n",
       "  <thead>\n",
       "    <tr style=\"text-align: right;\">\n",
       "      <th></th>\n",
       "      <th>min_value</th>\n",
       "      <th>max_value</th>\n",
       "      <th>total</th>\n",
       "      <th>bad_num</th>\n",
       "      <th>good_num</th>\n",
       "    </tr>\n",
       "  </thead>\n",
       "  <tbody>\n",
       "    <tr>\n",
       "      <th>0</th>\n",
       "      <td>297.519206</td>\n",
       "      <td>395.011383</td>\n",
       "      <td>4793</td>\n",
       "      <td>617</td>\n",
       "      <td>4176</td>\n",
       "    </tr>\n",
       "    <tr>\n",
       "      <th>1</th>\n",
       "      <td>395.011383</td>\n",
       "      <td>414.579700</td>\n",
       "      <td>4793</td>\n",
       "      <td>481</td>\n",
       "      <td>4312</td>\n",
       "    </tr>\n",
       "    <tr>\n",
       "      <th>2</th>\n",
       "      <td>414.579700</td>\n",
       "      <td>434.760468</td>\n",
       "      <td>4793</td>\n",
       "      <td>413</td>\n",
       "      <td>4380</td>\n",
       "    </tr>\n",
       "    <tr>\n",
       "      <th>3</th>\n",
       "      <td>434.760468</td>\n",
       "      <td>453.363677</td>\n",
       "      <td>4793</td>\n",
       "      <td>355</td>\n",
       "      <td>4438</td>\n",
       "    </tr>\n",
       "    <tr>\n",
       "      <th>4</th>\n",
       "      <td>453.363677</td>\n",
       "      <td>476.607780</td>\n",
       "      <td>4793</td>\n",
       "      <td>339</td>\n",
       "      <td>4454</td>\n",
       "    </tr>\n",
       "    <tr>\n",
       "      <th>5</th>\n",
       "      <td>476.607780</td>\n",
       "      <td>510.291524</td>\n",
       "      <td>4793</td>\n",
       "      <td>298</td>\n",
       "      <td>4495</td>\n",
       "    </tr>\n",
       "    <tr>\n",
       "      <th>6</th>\n",
       "      <td>510.291524</td>\n",
       "      <td>538.412042</td>\n",
       "      <td>4793</td>\n",
       "      <td>277</td>\n",
       "      <td>4516</td>\n",
       "    </tr>\n",
       "    <tr>\n",
       "      <th>7</th>\n",
       "      <td>538.412042</td>\n",
       "      <td>562.949632</td>\n",
       "      <td>4793</td>\n",
       "      <td>196</td>\n",
       "      <td>4597</td>\n",
       "    </tr>\n",
       "    <tr>\n",
       "      <th>8</th>\n",
       "      <td>562.949632</td>\n",
       "      <td>591.651882</td>\n",
       "      <td>4793</td>\n",
       "      <td>200</td>\n",
       "      <td>4593</td>\n",
       "    </tr>\n",
       "    <tr>\n",
       "      <th>9</th>\n",
       "      <td>591.651882</td>\n",
       "      <td>779.894918</td>\n",
       "      <td>4802</td>\n",
       "      <td>196</td>\n",
       "      <td>4606</td>\n",
       "    </tr>\n",
       "  </tbody>\n",
       "</table>\n",
       "</div>"
      ],
      "text/plain": [
       "    min_value   max_value  total  bad_num  good_num\n",
       "0  297.519206  395.011383   4793      617      4176\n",
       "1  395.011383  414.579700   4793      481      4312\n",
       "2  414.579700  434.760468   4793      413      4380\n",
       "3  434.760468  453.363677   4793      355      4438\n",
       "4  453.363677  476.607780   4793      339      4454\n",
       "5  476.607780  510.291524   4793      298      4495\n",
       "6  510.291524  538.412042   4793      277      4516\n",
       "7  538.412042  562.949632   4793      196      4597\n",
       "8  562.949632  591.651882   4793      200      4593\n",
       "9  591.651882  779.894918   4802      196      4606"
      ]
     },
     "execution_count": 183,
     "metadata": {},
     "output_type": "execute_result"
    }
   ],
   "source": [
    "get_ksvalue_offline(rf,df_drop,'2017-02-01','2017-04-01','df1.csv')\n",
    "get_ksvalue_offline(rf,df_drop,'2017-04-01','2017-04-05','df2.csv')\n",
    "get_ksvalue_offline(rf,df_drop,'2017-04-05','2017-04-10','df3.csv')"
   ]
  },
  {
   "cell_type": "code",
   "execution_count": null,
   "metadata": {},
   "outputs": [],
   "source": []
  },
  {
   "cell_type": "code",
   "execution_count": null,
   "metadata": {},
   "outputs": [],
   "source": []
  }
 ],
 "metadata": {
  "kernelspec": {
   "display_name": "Python 3.5",
   "language": "python",
   "name": "py35"
  },
  "language_info": {
   "codemirror_mode": {
    "name": "ipython",
    "version": 3
   },
   "file_extension": ".py",
   "mimetype": "text/x-python",
   "name": "python",
   "nbconvert_exporter": "python",
   "pygments_lexer": "ipython3",
   "version": "3.5.3"
  }
 },
 "nbformat": 4,
 "nbformat_minor": 2
}
