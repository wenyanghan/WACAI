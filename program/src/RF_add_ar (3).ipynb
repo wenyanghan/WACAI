{
 "cells": [
  {
   "cell_type": "raw",
   "metadata": {},
   "source": [
    "准备工作"
   ]
  },
  {
   "cell_type": "code",
   "execution_count": 1,
   "metadata": {},
   "outputs": [],
   "source": [
    "%matplotlib inline"
   ]
  },
  {
   "cell_type": "code",
   "execution_count": 2,
   "metadata": {},
   "outputs": [],
   "source": [
    "import sys\n",
    "sys.path.append('/notebook/shared/extra')\n",
    "from ggplot import *"
   ]
  },
  {
   "cell_type": "code",
   "execution_count": 3,
   "metadata": {},
   "outputs": [],
   "source": [
    "import pandas as pd \n",
    "import math \n",
    "from impala.dbapi import connect\n",
    "from impala.util import as_pandas\n",
    "import re "
   ]
  },
  {
   "cell_type": "code",
   "execution_count": 4,
   "metadata": {},
   "outputs": [],
   "source": [
    "#get data\n",
    "def get_data(sql):\n",
    "    conn = connect(host = '10.1.169.3',port = 10000, auth_mechanism = 'PLAIN')\n",
    "    cursor = conn.cursor()\n",
    "    cursor.execute(sql)\n",
    "    df = as_pandas(cursor)\n",
    "    return df\n",
    "def dropna_all(df):\n",
    "    df_copy = df.copy()\n",
    "    df_copy = df_copy.dropna(subset = ['phone_gray_score','honeypot_model_score','contacts_relatives_redline_cnt','contacts_loankeywords_redline_cnt','tongdun_score','n_91applytimes_cnt','n_91rejectprecent','ant_score','tc_loankeywords_callcnt_last1m','tc_collection_callcnt_last3m','tc_relatives_callcnt_lasthalfyear'],\n",
    "                    how ='all')\n",
    "    return df_copy\n",
    "#get_everyday_num\n",
    "def get_oneday_num(df,time):\n",
    "    num =len( df[df['dt'] == time])\n",
    "    return num\n",
    "def get_everyday_num(df):\n",
    "    nums =[]\n",
    "    times = pd.date_range('20170201','20170520')\n",
    "    for time in times:\n",
    "        time = str(time).split(' ')[0]\n",
    "        num = get_oneday_num(df,time)\n",
    "        temp = [time,num]\n",
    "        nums.append(temp)\n",
    "    return nums\n",
    "# caculate the mounts of nan\n",
    "def missing_values_table(df): \n",
    "        mis_val = df.isnull().sum()\n",
    "        mis_val_percent = 100 * df.isnull().sum()/len(df)\n",
    "        mis_val_table = pd.concat([mis_val, mis_val_percent], axis=1)\n",
    "        mis_val_table_ren_columns = mis_val_table.rename(\n",
    "        columns = {0 : 'Missing Values', 1 : '% of Total Values'})\n",
    "        return mis_val_table_ren_columns\n",
    "def get_df_time(df,start,end):\n",
    "    df_copy = df.copy()\n",
    "    df_copy = df_copy[(df_copy.dt >=start) & (df_copy.dt <end)]\n",
    "    return df_copy\n",
    "def col_names():\n",
    "    col_names = []\n",
    "    #add time\n",
    "    #col_names = ['dt']\n",
    "    for i in range(1,18):\n",
    "        col_name = \"F\"+str(i)\n",
    "        col_names.append(col_name)\n",
    "    return col_names\n",
    "def get_Y_X(df):\n",
    "    df_copy = df.copy()\n",
    "    df_Y = df_copy['labels'].to_frame(name = 'Y')\n",
    "    #del df_copy[['labels','aid','uid','dt']]\n",
    "    #save dt\n",
    "    #df_Y['Y'] = df_Y['Y'].map(convert_labels)\n",
    "    df_copy.drop(df.columns[[0,1,2,3]],axis=1, inplace=True)\n",
    "    df_X = df_copy\n",
    "    df_X.columns = col_names()\n",
    "    return df_Y,df_X\n",
    "#map categorical variable\n",
    "def map_X(df_x):\n",
    "    return df_x\n",
    "def drop_X(df_x):\n",
    "    del df_x['F1']\n",
    "    del df_x['F3']\n",
    "    del df_x['F5']\n",
    "    del df_x['F8']\n",
    "    del df_x['F10']\n",
    "    del df_x['F13']\n",
    "    return df_x\n",
    "def fillna(df):\n",
    "    return df.fillna(-999)\n",
    "def get_fix_X(df_x):\n",
    "    #df_x = map_X(df_x)\n",
    "    df_x = drop_X(df_x)\n",
    "    #df_x = dummies_X_all(df_x)\n",
    "    df_x = fillna(df_x)\n",
    "    return df_x"
   ]
  },
  {
   "cell_type": "raw",
   "metadata": {},
   "source": [
    "获取数据"
   ]
  },
  {
   "cell_type": "code",
   "execution_count": 5,
   "metadata": {},
   "outputs": [],
   "source": [
    "df_all_train = get_data('select * from tmp.cebai_project1_datasource_02010520_labels_fix')\n",
    "df_ar_train = get_data('select * from tmp.cebai_armodel_20170201_20170520_labels_fix')\n",
    "df_ar_score_before = get_data('select * from tmp.cebai_armodel_20170201_20170520_fix ')\n",
    "df_ar_score_now = get_data('select * from tmp.cebai_armodel_20170620_20170630_fix')"
   ]
  },
  {
   "cell_type": "code",
   "execution_count": 133,
   "metadata": {},
   "outputs": [
    {
     "name": "stdout",
     "output_type": "stream",
     "text": [
      "Stored 'df_all_train' (DataFrame)\n",
      "Stored 'df_ar_train' (DataFrame)\n",
      "Stored 'df_ar_score_before' (DataFrame)\n",
      "Stored 'df_ar_score_now' (DataFrame)\n"
     ]
    }
   ],
   "source": [
    "%store df_all_train\n",
    "%store df_ar_train\n",
    "%store df_ar_score_before\n",
    "%store df_ar_score_now"
   ]
  },
  {
   "cell_type": "raw",
   "metadata": {},
   "source": [
    "删除全部缺失值的数据"
   ]
  },
  {
   "cell_type": "code",
   "execution_count": 6,
   "metadata": {},
   "outputs": [
    {
     "name": "stdout",
     "output_type": "stream",
     "text": [
      "1037407 1036863\n",
      "505307 505307\n",
      "728507 728507\n",
      "132947 132947\n"
     ]
    }
   ],
   "source": [
    "df_all_train_drop = dropna_all(df_all_train)\n",
    "df_ar_train_drop = dropna_all(df_ar_train)\n",
    "df_ar_score_before_drop = dropna_all(df_ar_score_before)\n",
    "df_ar_score_now_drop = dropna_all(df_ar_score_now)\n",
    "print(len(df_all_train),len(df_all_train_drop))\n",
    "print(len(df_ar_train),len(df_ar_train_drop))\n",
    "print(len(df_ar_score_before),len(df_ar_score_before_drop))\n",
    "print(len(df_ar_score_now),len(df_ar_score_now_drop))"
   ]
  },
  {
   "cell_type": "code",
   "execution_count": 7,
   "metadata": {},
   "outputs": [
    {
     "name": "stdout",
     "output_type": "stream",
     "text": [
      "661206\n",
      "332572\n"
     ]
    }
   ],
   "source": [
    "print(len(get_df_time(df_all_train_drop,'2017-02-01','2017-05-01')))\n",
    "print(len(get_df_time(df_ar_train_drop,'2017-02-01','2017-05-01')))"
   ]
  },
  {
   "cell_type": "code",
   "execution_count": 84,
   "metadata": {},
   "outputs": [],
   "source": [
    "df_reference_pass02 = get_data('select * from tmp.cebai_armodel_20170201_20170520_fix_reference_pass')\n",
    "df_reference_pass06 = get_data('select * from tmp.cebai_armodel_20170620_20170630_fixreference_pass')"
   ]
  },
  {
   "cell_type": "code",
   "execution_count": 94,
   "metadata": {},
   "outputs": [
    {
     "name": "stdout",
     "output_type": "stream",
     "text": [
      "88216 88216\n",
      "5269 5269\n"
     ]
    }
   ],
   "source": [
    "df_reference_pass02_drop = dropna_all(df_reference_pass02)\n",
    "df_reference_pass06_drop = dropna_all(df_reference_pass06)\n",
    "df_reference_pass02_drop.drop(['loan_status'],axis = 1 ,inplace = True)\n",
    "df_reference_pass06_drop.drop(['loan_status'],axis = 1 ,inplace = True)\n",
    "print(len(df_reference_pass02),len(df_reference_pass02_drop))\n",
    "print(len(df_reference_pass06),len(df_reference_pass06_drop))"
   ]
  },
  {
   "cell_type": "code",
   "execution_count": 134,
   "metadata": {},
   "outputs": [
    {
     "name": "stdout",
     "output_type": "stream",
     "text": [
      "Stored 'df_reference_pass02_drop' (DataFrame)\n",
      "Stored 'df_reference_pass06_drop' (DataFrame)\n"
     ]
    }
   ],
   "source": [
    "%store df_reference_pass02_drop\n",
    "%store df_reference_pass06_drop"
   ]
  },
  {
   "cell_type": "code",
   "execution_count": 96,
   "metadata": {},
   "outputs": [
    {
     "name": "stdout",
     "output_type": "stream",
     "text": [
      "      status        uid          dt       aid direct_contact_score  \\\n",
      "0  reference  109423270  2017-06-29  41432175                 None   \n",
      "1  reference   93904428  2017-06-23  40055845                 None   \n",
      "2  reference   93574164  2017-06-28  40771639                 None   \n",
      "3  reference  116024537  2017-06-21  39604774                 None   \n",
      "4  reference  103076874  2017-06-26  39544466                 None   \n",
      "\n",
      "  phone_gray_score mob_score honeypot_model_score  \\\n",
      "0               79      None                  597   \n",
      "1               20      None                  581   \n",
      "2               91      None                  569   \n",
      "3               -1      None                  624   \n",
      "4               86      None                  622   \n",
      "\n",
      "  contacts_relatives_redline_cnt2 contacts_relatives_redline_cnt  \\\n",
      "0                            None                             56   \n",
      "1                            None                              3   \n",
      "2                            None                              5   \n",
      "3                            None                              8   \n",
      "4                            None                              3   \n",
      "\n",
      "                 ...                contacts_relatives_redline_cnt1  \\\n",
      "0                ...                                           None   \n",
      "1                ...                                           None   \n",
      "2                ...                                           None   \n",
      "3                ...                                           None   \n",
      "4                ...                                           None   \n",
      "\n",
      "  tongdun_score n_91overduetimes_cnt n_91applytimes_cnt   n_91rejectprecent  \\\n",
      "0       0.19824                    0                  0                 0.0   \n",
      "1       0.12691                    0                  7  0.2857142857142857   \n",
      "2          None                    0                  0                 0.0   \n",
      "3       0.10335                    0                  0                 0.0   \n",
      "4       0.16024                    0                  0                 0.0   \n",
      "\n",
      "  rong360_fuzzy_black_hit ant_score tc_loankeywords_callcnt_last1m  \\\n",
      "0                       0       583                              0   \n",
      "1                       0       554                              0   \n",
      "2                       0       601                              0   \n",
      "3                       0       604                              0   \n",
      "4                       0       612                              1   \n",
      "\n",
      "  tc_collection_callcnt_last3m tc_relatives_callcnt_lasthalfyear  \n",
      "0                            0                               167  \n",
      "1                            1                                 9  \n",
      "2                            1                                12  \n",
      "3                            0                                29  \n",
      "4                            0                                46  \n",
      "\n",
      "[5 rows x 21 columns]\n"
     ]
    }
   ],
   "source": [
    "print(df_reference_pass06_drop.head(5))"
   ]
  },
  {
   "cell_type": "raw",
   "metadata": {},
   "source": [
    "缺失值分析"
   ]
  },
  {
   "cell_type": "code",
   "execution_count": 1,
   "metadata": {},
   "outputs": [
    {
     "ename": "NameError",
     "evalue": "name 'missing_values_table' is not defined",
     "output_type": "error",
     "traceback": [
      "\u001b[0;31m---------------------------------------------------------------------------\u001b[0m",
      "\u001b[0;31mNameError\u001b[0m                                 Traceback (most recent call last)",
      "\u001b[0;32m<ipython-input-1-90cfb0194943>\u001b[0m in \u001b[0;36m<module>\u001b[0;34m()\u001b[0m\n\u001b[0;32m----> 1\u001b[0;31m \u001b[0mmissing_values_table\u001b[0m\u001b[0;34m(\u001b[0m\u001b[0mget_df_time\u001b[0m\u001b[0;34m(\u001b[0m\u001b[0mdf_ar_train_drop\u001b[0m\u001b[0;34m,\u001b[0m\u001b[0;34m'2017-02-01'\u001b[0m\u001b[0;34m,\u001b[0m\u001b[0;34m'2017-04-01'\u001b[0m\u001b[0;34m)\u001b[0m\u001b[0;34m)\u001b[0m\u001b[0;34m\u001b[0m\u001b[0m\n\u001b[0m",
      "\u001b[0;31mNameError\u001b[0m: name 'missing_values_table' is not defined"
     ]
    }
   ],
   "source": [
    "missing_values_table(get_df_time(df_ar_train_drop,'2017-02-01','2017-04-01'))"
   ]
  },
  {
   "cell_type": "raw",
   "metadata": {},
   "source": [
    "随机森林"
   ]
  },
  {
   "cell_type": "code",
   "execution_count": 34,
   "metadata": {},
   "outputs": [],
   "source": [
    "#RF_tarin\n",
    "from scipy.stats import ks_2samp\n",
    "from sklearn.model_selection import train_test_split\n",
    "from sklearn import ensemble\n",
    "from sklearn.metrics import roc_auc_score,roc_curve\n",
    "import matplotlib.pyplot as plot\n",
    "import numpy as np\n",
    "from math import sqrt,fabs,exp\n",
    "def train_online(df):\n",
    "    df_online = get_df_time(df,'2017-02-01','2017-04-01')\n",
    "    y,X = get_Y_X(df_online)\n",
    "    X = get_fix_X(X)\n",
    "    #y = normalize(y)\n",
    "    #X = normalize(X)\n",
    "    xTrain,xTest,yTrain,yTest = train_test_split(X.values,y.values.ravel(),test_size = 0.2,random_state = 520)\n",
    "    rf = ensemble.RandomForestClassifier(n_estimators=2000,max_depth=7,oob_score = True,random_state = 531,class_weight = 'auto')\n",
    "    rf.fit(xTrain,yTrain)\n",
    "    print(\"online----------oob_score:%f\" % rf.oob_score_)\n",
    "    prediction = rf.predict_proba(xTest)\n",
    "    auc = roc_auc_score(yTest,prediction[:,1:2])\n",
    "    print (\"online-------AUC Score (test):%f\" % auc)\n",
    "    return rf"
   ]
  },
  {
   "cell_type": "code",
   "execution_count": 20,
   "metadata": {},
   "outputs": [],
   "source": [
    "#grid search\n",
    "import pandas as pd\n",
    "import numpy as np\n",
    "from sklearn.ensemble import RandomForestClassifier\n",
    "from sklearn.grid_search import GridSearchCV\n",
    "from sklearn import cross_validation, metrics\n",
    "def grid_search(df):\n",
    "    df_online = get_df_time(df,'2017-02-01','2017-04-01')\n",
    "    y,X = get_Y_X(df_online)\n",
    "    X = get_fix_X(X)\n",
    "    #y = normalize(y)\n",
    "    #X = normalize(X)\n",
    "    X,y  = X.values,y.values.ravel()\n",
    "    \n",
    "    param_test1 = {'n_estimators':np.linspace(10,200,50,dtype = int),'max_depth':np.linspace(1,11,9,dtype = int)}\n",
    "    gsearch1 = GridSearchCV(estimator = RandomForestClassifier(random_state=531,n_jobs=-1), \n",
    "                       param_grid = param_test1, scoring='roc_auc',cv=5)\n",
    "    gsearch1.fit(X,y)\n",
    "    print(gsearch1.grid_scores_)\n",
    "    print('***********************')\n",
    "    print(gsearch1.best_params_)\n",
    "    print('***********************')\n",
    "    print(gsearch1.best_score_)"
   ]
  },
  {
   "cell_type": "raw",
   "metadata": {},
   "source": [
    "the best n_estimators is 230\n",
    "the best max_depth is 3"
   ]
  },
  {
   "cell_type": "code",
   "execution_count": 21,
   "metadata": {},
   "outputs": [
    {
     "name": "stdout",
     "output_type": "stream",
     "text": [
      "online----------oob_score:0.545765\n",
      "online-------AUC Score (test):0.642182\n"
     ]
    }
   ],
   "source": [
    "rf_fix = train_online(df_all_train_drop)#n_estimators=800,max_depth=7"
   ]
  },
  {
   "cell_type": "code",
   "execution_count": 33,
   "metadata": {},
   "outputs": [
    {
     "name": "stdout",
     "output_type": "stream",
     "text": [
      "online----------oob_score:0.607806\n",
      "online-------AUC Score (test):0.615998\n"
     ]
    }
   ],
   "source": [
    "rf_ar_fix = train_online(delete_armodel_status(df_ar_train_drop))#1000,7"
   ]
  },
  {
   "cell_type": "code",
   "execution_count": 35,
   "metadata": {},
   "outputs": [
    {
     "name": "stdout",
     "output_type": "stream",
     "text": [
      "online----------oob_score:0.573893\n",
      "online-------AUC Score (test):0.606060\n"
     ]
    }
   ],
   "source": [
    "rf_ar_fix_04 = train_online(delete_armodel_status(df_ar_train_drop))#2000 7"
   ]
  },
  {
   "cell_type": "code",
   "execution_count": 129,
   "metadata": {},
   "outputs": [],
   "source": [
    "%store -r est"
   ]
  },
  {
   "cell_type": "raw",
   "metadata": {},
   "source": [
    "ks值计算"
   ]
  },
  {
   "cell_type": "code",
   "execution_count": 36,
   "metadata": {},
   "outputs": [],
   "source": [
    "import numpy as np\n",
    "import pandas as pd\n",
    "from collections import Counter\n",
    "def ks_value(pred,true,n):\n",
    "    score = (1.-pred)*1000\n",
    "    index = score.argsort()\n",
    "    score_sort = np.sort(score)\n",
    "    true_sort = true[index]\n",
    "    len_num = pred.size\n",
    "    add = int(len_num/n)\n",
    "    out = []\n",
    "    for i in get_split_len(len_num,n):\n",
    "        if i == get_split_len(len_num,n)[-1]:\n",
    "            good_num,bad_num,total = get_good_bad(true_sort,i,-1)\n",
    "            min_value,max_value = get_max_min(score_sort,i,-1)\n",
    "            temp = [min_value,max_value,total,bad_num,good_num]\n",
    "        else:\n",
    "            good_num,bad_num,total = get_good_bad(true_sort,i,i+add)\n",
    "            min_value,max_value = get_max_min(score_sort,i,i+add)\n",
    "            temp = [min_value,max_value,total,bad_num,good_num]\n",
    "        out.append(temp)\n",
    "    return out\n",
    "def list_to_dataframe(out):\n",
    "    df = pd.DataFrame.from_records(out,columns = [\"min_value\",\"max_value\",\"total\",\"bad_num\",\"good_num\"])\n",
    "    return df\n",
    "def get_good_bad(true,startindex,endindex):\n",
    "    if endindex == -1:\n",
    "        true_index = true[startindex:]\n",
    "    else:\n",
    "        true_index = true[startindex:endindex]\n",
    "    c = Counter([i for i in true_index])\n",
    "    total = true_index.size\n",
    "    return c[0],c[1],total\n",
    "def get_max_min(pred,startindex,endindex):\n",
    "    return pred[startindex],pred[endindex]\n",
    "def get_split_len(len_num,n):\n",
    "    out = [0]\n",
    "    add = int(len_num/n)\n",
    "    index = 0\n",
    "    for i in range(n-1):\n",
    "        index += add\n",
    "        out.append(int(index))\n",
    "    return out\n",
    "def get_ksvalue_offline(rf,df,start,end,name):\n",
    "    df_offline = get_df_time(df,start,end)\n",
    "    y,X = get_Y_X(df_offline)\n",
    "    X = get_fix_X(X)\n",
    "    xTest,yTest = X.values,y.values.ravel()\n",
    "    prediction = rf.predict_proba(xTest)\n",
    "    pred = prediction[:,1:2].ravel()\n",
    "    out = ks_value(pred,yTest,10)\n",
    "    df = list_to_dataframe(out)\n",
    "    df.to_csv(name)\n",
    "    return df"
   ]
  },
  {
   "cell_type": "code",
   "execution_count": 50,
   "metadata": {},
   "outputs": [],
   "source": [
    "def get_start_end(pred,cuts):\n",
    "    out1 = cuts_off_array(pred,cuts)\n",
    "    out2 = get_cuts_num(out1)\n",
    "    out = [0]\n",
    "    index = 0\n",
    "    for i in out2:\n",
    "        index += i\n",
    "        out.append(int(index))\n",
    "    return out\n",
    "def ks_value_cuts(pred,true,cuts):\n",
    "    score = (1.-pred)*1000\n",
    "    index = score.argsort()\n",
    "    score_sort = np.sort(score)\n",
    "    true_sort = true[index]\n",
    "    out = []\n",
    "    start_end = get_start_end(score_sort,cuts)\n",
    "    for i in range(10):\n",
    "        if i == 9:\n",
    "            good_num,bad_num,total = get_good_bad(true_sort,start_end[i],-1)\n",
    "            min_value,max_value = get_max_min(score_sort,start_end[i],-1)\n",
    "            temp = [min_value,max_value,total,bad_num,good_num]\n",
    "        else:\n",
    "            good_num,bad_num,total = get_good_bad(true_sort,start_end[i],start_end[i+1])\n",
    "            min_value,max_value = get_max_min(score_sort,start_end[i],start_end[i+1])\n",
    "            temp = [min_value,max_value,total,bad_num,good_num]\n",
    "        out.append(temp)\n",
    "    return out\n",
    "def get_ksvalue_offline_cuts(rf,df,start,end,name,cuts):\n",
    "    df_offline = get_df_time(df,start,end)\n",
    "    y,X = get_Y_X(df_offline)\n",
    "    X = get_fix_X(X)\n",
    "    xTest,yTest = X.values,y.values.ravel()\n",
    "    prediction = rf.predict_proba(xTest)\n",
    "    pred = prediction[:,1:2].ravel()\n",
    "    #fix\n",
    "    out = ks_value_cuts(pred,yTest,cuts)\n",
    "    df = list_to_dataframe(out)\n",
    "    df.to_csv(name)\n",
    "    return df"
   ]
  },
  {
   "cell_type": "code",
   "execution_count": 38,
   "metadata": {},
   "outputs": [],
   "source": [
    "def get_ks_max(total,bad):\n",
    "    sum_total = np.sum(total)\n",
    "    sum_bad= np.sum(bad)\n",
    "    ks = []\n",
    "    for i in range(9):\n",
    "        ks_temp = -(-(sum(total[:i+1])-sum(bad[:i+1]))/(sum_total-sum_bad)+sum(bad[:i+1])/sum_bad)\n",
    "        ks.append(ks_temp)   \n",
    "    max_ks = np.amax(ks)\n",
    "    return max_ks"
   ]
  },
  {
   "cell_type": "code",
   "execution_count": 39,
   "metadata": {},
   "outputs": [],
   "source": [
    "def delete_armodel_status(df):\n",
    "    df_copy = df.copy()\n",
    "    df_copy.drop(['status'],axis = 1 ,inplace = True)\n",
    "    return df_copy"
   ]
  },
  {
   "cell_type": "raw",
   "metadata": {},
   "source": [
    "分割cuts"
   ]
  },
  {
   "cell_type": "code",
   "execution_count": 44,
   "metadata": {},
   "outputs": [],
   "source": [
    "cuts=[401.24,434.55,455.51,474.88,507.85,545.93,582.47,612.77,671.79]\n",
    "cuts1=[422.59,454.10,476.80,499.63,521.30,539.68,560.84,587.72,620.07]\n",
    "cuts2 = [434.59,454.20,470.81,490.46,516.38,542.38,571.05,598.341,623.24]"
   ]
  },
  {
   "cell_type": "raw",
   "metadata": {},
   "source": [
    "xgboost模型训练ks值计算"
   ]
  },
  {
   "cell_type": "raw",
   "metadata": {},
   "source": [
    "20170201-20170401--AR模型训练ks值计算"
   ]
  },
  {
   "cell_type": "code",
   "execution_count": 40,
   "metadata": {},
   "outputs": [
    {
     "data": {
      "text/html": [
       "<div>\n",
       "<table border=\"1\" class=\"dataframe\">\n",
       "  <thead>\n",
       "    <tr style=\"text-align: right;\">\n",
       "      <th></th>\n",
       "      <th>min_value</th>\n",
       "      <th>max_value</th>\n",
       "      <th>total</th>\n",
       "      <th>bad_num</th>\n",
       "      <th>good_num</th>\n",
       "    </tr>\n",
       "  </thead>\n",
       "  <tbody>\n",
       "    <tr>\n",
       "      <th>0</th>\n",
       "      <td>315.833258</td>\n",
       "      <td>434.598292</td>\n",
       "      <td>14793</td>\n",
       "      <td>2206</td>\n",
       "      <td>12587</td>\n",
       "    </tr>\n",
       "    <tr>\n",
       "      <th>1</th>\n",
       "      <td>434.598292</td>\n",
       "      <td>454.203674</td>\n",
       "      <td>14793</td>\n",
       "      <td>1515</td>\n",
       "      <td>13278</td>\n",
       "    </tr>\n",
       "    <tr>\n",
       "      <th>2</th>\n",
       "      <td>454.203674</td>\n",
       "      <td>470.812234</td>\n",
       "      <td>14793</td>\n",
       "      <td>1215</td>\n",
       "      <td>13578</td>\n",
       "    </tr>\n",
       "    <tr>\n",
       "      <th>3</th>\n",
       "      <td>470.812234</td>\n",
       "      <td>490.467824</td>\n",
       "      <td>14793</td>\n",
       "      <td>1077</td>\n",
       "      <td>13716</td>\n",
       "    </tr>\n",
       "    <tr>\n",
       "      <th>4</th>\n",
       "      <td>490.467824</td>\n",
       "      <td>516.380040</td>\n",
       "      <td>14793</td>\n",
       "      <td>990</td>\n",
       "      <td>13803</td>\n",
       "    </tr>\n",
       "    <tr>\n",
       "      <th>5</th>\n",
       "      <td>516.380040</td>\n",
       "      <td>542.382799</td>\n",
       "      <td>14793</td>\n",
       "      <td>864</td>\n",
       "      <td>13929</td>\n",
       "    </tr>\n",
       "    <tr>\n",
       "      <th>6</th>\n",
       "      <td>542.382799</td>\n",
       "      <td>571.059650</td>\n",
       "      <td>14793</td>\n",
       "      <td>760</td>\n",
       "      <td>14033</td>\n",
       "    </tr>\n",
       "    <tr>\n",
       "      <th>7</th>\n",
       "      <td>571.059650</td>\n",
       "      <td>598.341000</td>\n",
       "      <td>14793</td>\n",
       "      <td>666</td>\n",
       "      <td>14127</td>\n",
       "    </tr>\n",
       "    <tr>\n",
       "      <th>8</th>\n",
       "      <td>598.341000</td>\n",
       "      <td>623.245514</td>\n",
       "      <td>14793</td>\n",
       "      <td>505</td>\n",
       "      <td>14288</td>\n",
       "    </tr>\n",
       "    <tr>\n",
       "      <th>9</th>\n",
       "      <td>623.245514</td>\n",
       "      <td>820.666231</td>\n",
       "      <td>14796</td>\n",
       "      <td>297</td>\n",
       "      <td>14499</td>\n",
       "    </tr>\n",
       "  </tbody>\n",
       "</table>\n",
       "</div>"
      ],
      "text/plain": [
       "    min_value   max_value  total  bad_num  good_num\n",
       "0  315.833258  434.598292  14793     2206     12587\n",
       "1  434.598292  454.203674  14793     1515     13278\n",
       "2  454.203674  470.812234  14793     1215     13578\n",
       "3  470.812234  490.467824  14793     1077     13716\n",
       "4  490.467824  516.380040  14793      990     13803\n",
       "5  516.380040  542.382799  14793      864     13929\n",
       "6  542.382799  571.059650  14793      760     14033\n",
       "7  571.059650  598.341000  14793      666     14127\n",
       "8  598.341000  623.245514  14793      505     14288\n",
       "9  623.245514  820.666231  14796      297     14499"
      ]
     },
     "execution_count": 40,
     "metadata": {},
     "output_type": "execute_result"
    }
   ],
   "source": [
    "get_ksvalue_offline(rf_ar_fix_04,delete_armodel_status(df_ar_train_drop),'2017-02-01','2017-04-01','02_ar_df1_fix.csv')\n",
    "#get_ksvalue_offline(rf_ar_fix_04,delete_armodel_status(df_ar_train_drop),'2017-01-20','2017-01-30','02_ar_df5_fix.csv')"
   ]
  },
  {
   "cell_type": "code",
   "execution_count": 51,
   "metadata": {},
   "outputs": [
    {
     "data": {
      "text/html": [
       "<div>\n",
       "<table border=\"1\" class=\"dataframe\">\n",
       "  <thead>\n",
       "    <tr style=\"text-align: right;\">\n",
       "      <th></th>\n",
       "      <th>min_value</th>\n",
       "      <th>max_value</th>\n",
       "      <th>total</th>\n",
       "      <th>bad_num</th>\n",
       "      <th>good_num</th>\n",
       "    </tr>\n",
       "  </thead>\n",
       "  <tbody>\n",
       "    <tr>\n",
       "      <th>0</th>\n",
       "      <td>321.439312</td>\n",
       "      <td>434.599019</td>\n",
       "      <td>5451</td>\n",
       "      <td>1354</td>\n",
       "      <td>4097</td>\n",
       "    </tr>\n",
       "    <tr>\n",
       "      <th>1</th>\n",
       "      <td>434.599019</td>\n",
       "      <td>454.201027</td>\n",
       "      <td>5969</td>\n",
       "      <td>1205</td>\n",
       "      <td>4764</td>\n",
       "    </tr>\n",
       "    <tr>\n",
       "      <th>2</th>\n",
       "      <td>454.201027</td>\n",
       "      <td>470.811138</td>\n",
       "      <td>6319</td>\n",
       "      <td>1111</td>\n",
       "      <td>5208</td>\n",
       "    </tr>\n",
       "    <tr>\n",
       "      <th>3</th>\n",
       "      <td>470.811138</td>\n",
       "      <td>490.463020</td>\n",
       "      <td>7079</td>\n",
       "      <td>1090</td>\n",
       "      <td>5989</td>\n",
       "    </tr>\n",
       "    <tr>\n",
       "      <th>4</th>\n",
       "      <td>490.463020</td>\n",
       "      <td>516.380933</td>\n",
       "      <td>8909</td>\n",
       "      <td>1208</td>\n",
       "      <td>7701</td>\n",
       "    </tr>\n",
       "    <tr>\n",
       "      <th>5</th>\n",
       "      <td>516.380933</td>\n",
       "      <td>542.380890</td>\n",
       "      <td>9941</td>\n",
       "      <td>1137</td>\n",
       "      <td>8804</td>\n",
       "    </tr>\n",
       "    <tr>\n",
       "      <th>6</th>\n",
       "      <td>542.380890</td>\n",
       "      <td>571.054755</td>\n",
       "      <td>12086</td>\n",
       "      <td>1262</td>\n",
       "      <td>10824</td>\n",
       "    </tr>\n",
       "    <tr>\n",
       "      <th>7</th>\n",
       "      <td>571.054755</td>\n",
       "      <td>598.341040</td>\n",
       "      <td>11200</td>\n",
       "      <td>1003</td>\n",
       "      <td>10197</td>\n",
       "    </tr>\n",
       "    <tr>\n",
       "      <th>8</th>\n",
       "      <td>598.341040</td>\n",
       "      <td>623.241628</td>\n",
       "      <td>8921</td>\n",
       "      <td>718</td>\n",
       "      <td>8203</td>\n",
       "    </tr>\n",
       "    <tr>\n",
       "      <th>9</th>\n",
       "      <td>623.241628</td>\n",
       "      <td>800.550444</td>\n",
       "      <td>11461</td>\n",
       "      <td>677</td>\n",
       "      <td>10784</td>\n",
       "    </tr>\n",
       "  </tbody>\n",
       "</table>\n",
       "</div>"
      ],
      "text/plain": [
       "    min_value   max_value  total  bad_num  good_num\n",
       "0  321.439312  434.599019   5451     1354      4097\n",
       "1  434.599019  454.201027   5969     1205      4764\n",
       "2  454.201027  470.811138   6319     1111      5208\n",
       "3  470.811138  490.463020   7079     1090      5989\n",
       "4  490.463020  516.380933   8909     1208      7701\n",
       "5  516.380933  542.380890   9941     1137      8804\n",
       "6  542.380890  571.054755  12086     1262     10824\n",
       "7  571.054755  598.341040  11200     1003     10197\n",
       "8  598.341040  623.241628   8921      718      8203\n",
       "9  623.241628  800.550444  11461      677     10784"
      ]
     },
     "execution_count": 51,
     "metadata": {},
     "output_type": "execute_result"
    }
   ],
   "source": [
    "get_ksvalue_offline_cuts(rf_ar_fix_04,delete_armodel_status(df_ar_train_drop),'2017-04-01','2017-04-06','02_ar_df2_fix.csv',cuts2)\n",
    "get_ksvalue_offline_cuts(rf_ar_fix_04,delete_armodel_status(df_ar_train_drop),'2017-05-01','2017-05-10','02_ar_df3_fix.csv',cuts2)\n",
    "get_ksvalue_offline_cuts(rf_ar_fix_04,delete_armodel_status(df_ar_train_drop),'2017-05-10','2017-05-20','02_ar_df4_fix.csv',cuts2)"
   ]
  },
  {
   "cell_type": "raw",
   "metadata": {},
   "source": [
    "20170201-20170501--AR模型训练ks值计算"
   ]
  },
  {
   "cell_type": "code",
   "execution_count": 41,
   "metadata": {},
   "outputs": [
    {
     "data": {
      "text/html": [
       "<div>\n",
       "<table border=\"1\" class=\"dataframe\">\n",
       "  <thead>\n",
       "    <tr style=\"text-align: right;\">\n",
       "      <th></th>\n",
       "      <th>min_value</th>\n",
       "      <th>max_value</th>\n",
       "      <th>total</th>\n",
       "      <th>bad_num</th>\n",
       "      <th>good_num</th>\n",
       "    </tr>\n",
       "  </thead>\n",
       "  <tbody>\n",
       "    <tr>\n",
       "      <th>0</th>\n",
       "      <td>290.510299</td>\n",
       "      <td>422.598802</td>\n",
       "      <td>33257</td>\n",
       "      <td>5551</td>\n",
       "      <td>27706</td>\n",
       "    </tr>\n",
       "    <tr>\n",
       "      <th>1</th>\n",
       "      <td>422.598802</td>\n",
       "      <td>454.104862</td>\n",
       "      <td>33257</td>\n",
       "      <td>3829</td>\n",
       "      <td>29428</td>\n",
       "    </tr>\n",
       "    <tr>\n",
       "      <th>2</th>\n",
       "      <td>454.104862</td>\n",
       "      <td>476.800587</td>\n",
       "      <td>33257</td>\n",
       "      <td>3082</td>\n",
       "      <td>30175</td>\n",
       "    </tr>\n",
       "    <tr>\n",
       "      <th>3</th>\n",
       "      <td>476.800587</td>\n",
       "      <td>499.639771</td>\n",
       "      <td>33257</td>\n",
       "      <td>2703</td>\n",
       "      <td>30554</td>\n",
       "    </tr>\n",
       "    <tr>\n",
       "      <th>4</th>\n",
       "      <td>499.639771</td>\n",
       "      <td>521.300286</td>\n",
       "      <td>33257</td>\n",
       "      <td>2429</td>\n",
       "      <td>30828</td>\n",
       "    </tr>\n",
       "    <tr>\n",
       "      <th>5</th>\n",
       "      <td>521.300286</td>\n",
       "      <td>539.688766</td>\n",
       "      <td>33257</td>\n",
       "      <td>2222</td>\n",
       "      <td>31035</td>\n",
       "    </tr>\n",
       "    <tr>\n",
       "      <th>6</th>\n",
       "      <td>539.688766</td>\n",
       "      <td>560.847836</td>\n",
       "      <td>33257</td>\n",
       "      <td>2029</td>\n",
       "      <td>31228</td>\n",
       "    </tr>\n",
       "    <tr>\n",
       "      <th>7</th>\n",
       "      <td>560.847836</td>\n",
       "      <td>587.729913</td>\n",
       "      <td>33257</td>\n",
       "      <td>1783</td>\n",
       "      <td>31474</td>\n",
       "    </tr>\n",
       "    <tr>\n",
       "      <th>8</th>\n",
       "      <td>587.729913</td>\n",
       "      <td>620.072435</td>\n",
       "      <td>33257</td>\n",
       "      <td>1460</td>\n",
       "      <td>31797</td>\n",
       "    </tr>\n",
       "    <tr>\n",
       "      <th>9</th>\n",
       "      <td>620.072435</td>\n",
       "      <td>796.292786</td>\n",
       "      <td>33259</td>\n",
       "      <td>1039</td>\n",
       "      <td>32220</td>\n",
       "    </tr>\n",
       "  </tbody>\n",
       "</table>\n",
       "</div>"
      ],
      "text/plain": [
       "    min_value   max_value  total  bad_num  good_num\n",
       "0  290.510299  422.598802  33257     5551     27706\n",
       "1  422.598802  454.104862  33257     3829     29428\n",
       "2  454.104862  476.800587  33257     3082     30175\n",
       "3  476.800587  499.639771  33257     2703     30554\n",
       "4  499.639771  521.300286  33257     2429     30828\n",
       "5  521.300286  539.688766  33257     2222     31035\n",
       "6  539.688766  560.847836  33257     2029     31228\n",
       "7  560.847836  587.729913  33257     1783     31474\n",
       "8  587.729913  620.072435  33257     1460     31797\n",
       "9  620.072435  796.292786  33259     1039     32220"
      ]
     },
     "execution_count": 41,
     "metadata": {},
     "output_type": "execute_result"
    }
   ],
   "source": [
    "get_ksvalue_offline(rf_ar_fix,delete_armodel_status(df_ar_train_drop),'2017-02-01','2017-05-01','ar_df1_fix.csv')\n",
    "#get_ksvalue_offline(rf_ar_fix,delete_armodel_status(df_ar_train_drop),'2017-01-20','2017-01-30','ar_df5_fix.csv')"
   ]
  },
  {
   "cell_type": "code",
   "execution_count": 52,
   "metadata": {},
   "outputs": [
    {
     "data": {
      "text/html": [
       "<div>\n",
       "<table border=\"1\" class=\"dataframe\">\n",
       "  <thead>\n",
       "    <tr style=\"text-align: right;\">\n",
       "      <th></th>\n",
       "      <th>min_value</th>\n",
       "      <th>max_value</th>\n",
       "      <th>total</th>\n",
       "      <th>bad_num</th>\n",
       "      <th>good_num</th>\n",
       "    </tr>\n",
       "  </thead>\n",
       "  <tbody>\n",
       "    <tr>\n",
       "      <th>0</th>\n",
       "      <td>300.103403</td>\n",
       "      <td>422.593029</td>\n",
       "      <td>6772</td>\n",
       "      <td>1583</td>\n",
       "      <td>5189</td>\n",
       "    </tr>\n",
       "    <tr>\n",
       "      <th>1</th>\n",
       "      <td>422.593029</td>\n",
       "      <td>454.100887</td>\n",
       "      <td>6726</td>\n",
       "      <td>1290</td>\n",
       "      <td>5436</td>\n",
       "    </tr>\n",
       "    <tr>\n",
       "      <th>2</th>\n",
       "      <td>454.100887</td>\n",
       "      <td>476.810376</td>\n",
       "      <td>6988</td>\n",
       "      <td>1161</td>\n",
       "      <td>5827</td>\n",
       "    </tr>\n",
       "    <tr>\n",
       "      <th>3</th>\n",
       "      <td>476.810376</td>\n",
       "      <td>499.633558</td>\n",
       "      <td>7288</td>\n",
       "      <td>1066</td>\n",
       "      <td>6222</td>\n",
       "    </tr>\n",
       "    <tr>\n",
       "      <th>4</th>\n",
       "      <td>499.633558</td>\n",
       "      <td>521.300317</td>\n",
       "      <td>8471</td>\n",
       "      <td>1087</td>\n",
       "      <td>7384</td>\n",
       "    </tr>\n",
       "    <tr>\n",
       "      <th>5</th>\n",
       "      <td>521.300317</td>\n",
       "      <td>539.681642</td>\n",
       "      <td>7356</td>\n",
       "      <td>815</td>\n",
       "      <td>6541</td>\n",
       "    </tr>\n",
       "    <tr>\n",
       "      <th>6</th>\n",
       "      <td>539.681642</td>\n",
       "      <td>560.842210</td>\n",
       "      <td>9142</td>\n",
       "      <td>959</td>\n",
       "      <td>8183</td>\n",
       "    </tr>\n",
       "    <tr>\n",
       "      <th>7</th>\n",
       "      <td>560.842210</td>\n",
       "      <td>587.720506</td>\n",
       "      <td>12446</td>\n",
       "      <td>1197</td>\n",
       "      <td>11249</td>\n",
       "    </tr>\n",
       "    <tr>\n",
       "      <th>8</th>\n",
       "      <td>587.720506</td>\n",
       "      <td>620.072748</td>\n",
       "      <td>11199</td>\n",
       "      <td>950</td>\n",
       "      <td>10249</td>\n",
       "    </tr>\n",
       "    <tr>\n",
       "      <th>9</th>\n",
       "      <td>620.072748</td>\n",
       "      <td>799.122110</td>\n",
       "      <td>10948</td>\n",
       "      <td>657</td>\n",
       "      <td>10291</td>\n",
       "    </tr>\n",
       "  </tbody>\n",
       "</table>\n",
       "</div>"
      ],
      "text/plain": [
       "    min_value   max_value  total  bad_num  good_num\n",
       "0  300.103403  422.593029   6772     1583      5189\n",
       "1  422.593029  454.100887   6726     1290      5436\n",
       "2  454.100887  476.810376   6988     1161      5827\n",
       "3  476.810376  499.633558   7288     1066      6222\n",
       "4  499.633558  521.300317   8471     1087      7384\n",
       "5  521.300317  539.681642   7356      815      6541\n",
       "6  539.681642  560.842210   9142      959      8183\n",
       "7  560.842210  587.720506  12446     1197     11249\n",
       "8  587.720506  620.072748  11199      950     10249\n",
       "9  620.072748  799.122110  10948      657     10291"
      ]
     },
     "execution_count": 52,
     "metadata": {},
     "output_type": "execute_result"
    }
   ],
   "source": [
    "get_ksvalue_offline_cuts(rf_ar_fix,delete_armodel_status(df_ar_train_drop),'2017-05-01','2017-05-05','ar_df2_fix.csv',cuts1)\n",
    "get_ksvalue_offline_cuts(rf_ar_fix,delete_armodel_status(df_ar_train_drop),'2017-05-05','2017-05-10','ar_df3_fix.csv',cuts1)\n",
    "get_ksvalue_offline_cuts(rf_ar_fix,delete_armodel_status(df_ar_train_drop),'2017-05-10','2017-05-20','ar_df4_fix.csv',cuts1)"
   ]
  },
  {
   "cell_type": "raw",
   "metadata": {},
   "source": [
    "20170201-20170501---总样本模型训练ks值计算"
   ]
  },
  {
   "cell_type": "code",
   "execution_count": 43,
   "metadata": {},
   "outputs": [
    {
     "data": {
      "text/html": [
       "<div>\n",
       "<table border=\"1\" class=\"dataframe\">\n",
       "  <thead>\n",
       "    <tr style=\"text-align: right;\">\n",
       "      <th></th>\n",
       "      <th>min_value</th>\n",
       "      <th>max_value</th>\n",
       "      <th>total</th>\n",
       "      <th>bad_num</th>\n",
       "      <th>good_num</th>\n",
       "    </tr>\n",
       "  </thead>\n",
       "  <tbody>\n",
       "    <tr>\n",
       "      <th>0</th>\n",
       "      <td>290.632158</td>\n",
       "      <td>401.247038</td>\n",
       "      <td>66120</td>\n",
       "      <td>9025</td>\n",
       "      <td>57095</td>\n",
       "    </tr>\n",
       "    <tr>\n",
       "      <th>1</th>\n",
       "      <td>401.247038</td>\n",
       "      <td>434.559459</td>\n",
       "      <td>66120</td>\n",
       "      <td>6811</td>\n",
       "      <td>59309</td>\n",
       "    </tr>\n",
       "    <tr>\n",
       "      <th>2</th>\n",
       "      <td>434.559459</td>\n",
       "      <td>455.519460</td>\n",
       "      <td>66120</td>\n",
       "      <td>5826</td>\n",
       "      <td>60294</td>\n",
       "    </tr>\n",
       "    <tr>\n",
       "      <th>3</th>\n",
       "      <td>455.519460</td>\n",
       "      <td>474.884347</td>\n",
       "      <td>66120</td>\n",
       "      <td>4830</td>\n",
       "      <td>61290</td>\n",
       "    </tr>\n",
       "    <tr>\n",
       "      <th>4</th>\n",
       "      <td>474.884347</td>\n",
       "      <td>507.852347</td>\n",
       "      <td>66120</td>\n",
       "      <td>4202</td>\n",
       "      <td>61918</td>\n",
       "    </tr>\n",
       "    <tr>\n",
       "      <th>5</th>\n",
       "      <td>507.852347</td>\n",
       "      <td>545.932380</td>\n",
       "      <td>66120</td>\n",
       "      <td>3864</td>\n",
       "      <td>62256</td>\n",
       "    </tr>\n",
       "    <tr>\n",
       "      <th>6</th>\n",
       "      <td>545.932380</td>\n",
       "      <td>582.474547</td>\n",
       "      <td>66120</td>\n",
       "      <td>3240</td>\n",
       "      <td>62880</td>\n",
       "    </tr>\n",
       "    <tr>\n",
       "      <th>7</th>\n",
       "      <td>582.474547</td>\n",
       "      <td>612.775829</td>\n",
       "      <td>66120</td>\n",
       "      <td>2648</td>\n",
       "      <td>63472</td>\n",
       "    </tr>\n",
       "    <tr>\n",
       "      <th>8</th>\n",
       "      <td>612.775829</td>\n",
       "      <td>671.796982</td>\n",
       "      <td>66120</td>\n",
       "      <td>2146</td>\n",
       "      <td>63974</td>\n",
       "    </tr>\n",
       "    <tr>\n",
       "      <th>9</th>\n",
       "      <td>671.796982</td>\n",
       "      <td>860.719127</td>\n",
       "      <td>66126</td>\n",
       "      <td>1428</td>\n",
       "      <td>64698</td>\n",
       "    </tr>\n",
       "  </tbody>\n",
       "</table>\n",
       "</div>"
      ],
      "text/plain": [
       "    min_value   max_value  total  bad_num  good_num\n",
       "0  290.632158  401.247038  66120     9025     57095\n",
       "1  401.247038  434.559459  66120     6811     59309\n",
       "2  434.559459  455.519460  66120     5826     60294\n",
       "3  455.519460  474.884347  66120     4830     61290\n",
       "4  474.884347  507.852347  66120     4202     61918\n",
       "5  507.852347  545.932380  66120     3864     62256\n",
       "6  545.932380  582.474547  66120     3240     62880\n",
       "7  582.474547  612.775829  66120     2648     63472\n",
       "8  612.775829  671.796982  66120     2146     63974\n",
       "9  671.796982  860.719127  66126     1428     64698"
      ]
     },
     "execution_count": 43,
     "metadata": {},
     "output_type": "execute_result"
    }
   ],
   "source": [
    "get_ksvalue_offline(rf_fix,df_all_train_drop,'2017-02-01','2017-05-01','df1_fix.csv')\n",
    "#get_ksvalue_offline(rf_fix,delete_armodel_status(df_ar_train_drop),'2017-01-20','2017-01-30','df5_fix.csv')"
   ]
  },
  {
   "cell_type": "code",
   "execution_count": 53,
   "metadata": {},
   "outputs": [
    {
     "data": {
      "text/html": [
       "<div>\n",
       "<table border=\"1\" class=\"dataframe\">\n",
       "  <thead>\n",
       "    <tr style=\"text-align: right;\">\n",
       "      <th></th>\n",
       "      <th>min_value</th>\n",
       "      <th>max_value</th>\n",
       "      <th>total</th>\n",
       "      <th>bad_num</th>\n",
       "      <th>good_num</th>\n",
       "    </tr>\n",
       "  </thead>\n",
       "  <tbody>\n",
       "    <tr>\n",
       "      <th>0</th>\n",
       "      <td>299.660360</td>\n",
       "      <td>401.240642</td>\n",
       "      <td>9614</td>\n",
       "      <td>2030</td>\n",
       "      <td>7584</td>\n",
       "    </tr>\n",
       "    <tr>\n",
       "      <th>1</th>\n",
       "      <td>401.240642</td>\n",
       "      <td>434.556858</td>\n",
       "      <td>9974</td>\n",
       "      <td>1776</td>\n",
       "      <td>8198</td>\n",
       "    </tr>\n",
       "    <tr>\n",
       "      <th>2</th>\n",
       "      <td>434.556858</td>\n",
       "      <td>455.510987</td>\n",
       "      <td>8820</td>\n",
       "      <td>1367</td>\n",
       "      <td>7453</td>\n",
       "    </tr>\n",
       "    <tr>\n",
       "      <th>3</th>\n",
       "      <td>455.510987</td>\n",
       "      <td>474.881623</td>\n",
       "      <td>6629</td>\n",
       "      <td>857</td>\n",
       "      <td>5772</td>\n",
       "    </tr>\n",
       "    <tr>\n",
       "      <th>4</th>\n",
       "      <td>474.881623</td>\n",
       "      <td>507.856655</td>\n",
       "      <td>10521</td>\n",
       "      <td>1249</td>\n",
       "      <td>9272</td>\n",
       "    </tr>\n",
       "    <tr>\n",
       "      <th>5</th>\n",
       "      <td>507.856655</td>\n",
       "      <td>545.931372</td>\n",
       "      <td>13758</td>\n",
       "      <td>1443</td>\n",
       "      <td>12315</td>\n",
       "    </tr>\n",
       "    <tr>\n",
       "      <th>6</th>\n",
       "      <td>545.931372</td>\n",
       "      <td>582.476434</td>\n",
       "      <td>12442</td>\n",
       "      <td>1112</td>\n",
       "      <td>11330</td>\n",
       "    </tr>\n",
       "    <tr>\n",
       "      <th>7</th>\n",
       "      <td>582.476434</td>\n",
       "      <td>612.773282</td>\n",
       "      <td>8718</td>\n",
       "      <td>647</td>\n",
       "      <td>8071</td>\n",
       "    </tr>\n",
       "    <tr>\n",
       "      <th>8</th>\n",
       "      <td>612.773282</td>\n",
       "      <td>671.795383</td>\n",
       "      <td>6048</td>\n",
       "      <td>256</td>\n",
       "      <td>5792</td>\n",
       "    </tr>\n",
       "    <tr>\n",
       "      <th>9</th>\n",
       "      <td>671.795383</td>\n",
       "      <td>751.088516</td>\n",
       "      <td>812</td>\n",
       "      <td>28</td>\n",
       "      <td>784</td>\n",
       "    </tr>\n",
       "  </tbody>\n",
       "</table>\n",
       "</div>"
      ],
      "text/plain": [
       "    min_value   max_value  total  bad_num  good_num\n",
       "0  299.660360  401.240642   9614     2030      7584\n",
       "1  401.240642  434.556858   9974     1776      8198\n",
       "2  434.556858  455.510987   8820     1367      7453\n",
       "3  455.510987  474.881623   6629      857      5772\n",
       "4  474.881623  507.856655  10521     1249      9272\n",
       "5  507.856655  545.931372  13758     1443     12315\n",
       "6  545.931372  582.476434  12442     1112     11330\n",
       "7  582.476434  612.773282   8718      647      8071\n",
       "8  612.773282  671.795383   6048      256      5792\n",
       "9  671.795383  751.088516    812       28       784"
      ]
     },
     "execution_count": 53,
     "metadata": {},
     "output_type": "execute_result"
    }
   ],
   "source": [
    "get_ksvalue_offline_cuts(rf_fix,delete_armodel_status(df_ar_train_drop),'2017-05-01','2017-05-05','df2_fix.csv',cuts)\n",
    "get_ksvalue_offline_cuts(rf_fix,delete_armodel_status(df_ar_train_drop),'2017-05-05','2017-05-10','df3_fix.csv',cuts)\n",
    "get_ksvalue_offline_cuts(rf_fix,delete_armodel_status(df_ar_train_drop),'2017-05-10','2017-05-20','df4_fix.csv',cuts)"
   ]
  },
  {
   "cell_type": "raw",
   "metadata": {},
   "source": [
    "模型打分"
   ]
  },
  {
   "cell_type": "code",
   "execution_count": 83,
   "metadata": {},
   "outputs": [],
   "source": [
    "def select_status(df,status):\n",
    "    df_copy = df.copy()\n",
    "    if status != 'all':\n",
    "        df_copy = df_copy[df_copy.status == status]\n",
    "    df_copy.drop(df_copy.columns[[0]],axis = 1 ,inplace = True)\n",
    "    return df_copy\n",
    "def get_pred_armodel(model,df,status,start,end):\n",
    "    df = get_df_time(df,start,end)\n",
    "    df = select_status(df,status)\n",
    "    df.drop(df.columns[[0,1,2]],axis=1, inplace=True)\n",
    "    df.columns = col_names() \n",
    "    X = get_fix_X(df)\n",
    "    xTest = X.values\n",
    "    prediction = model.predict_proba(xTest)\n",
    "    csvname = 'pred_'+status+'.csv'\n",
    "    score = (1.-prediction)*1000\n",
    "    #pd.DataFrame.from_records(score,columns = ['F0','F1']).to_csv(csvname,index = False)\n",
    "    pred = score[:,1:2].ravel()\n",
    "    return pred\n",
    "def get_pred_train(rf,df,start,end):\n",
    "    df_offline = get_df_time(df,start,end)\n",
    "    y,X = get_Y_X(df_offline)\n",
    "    X = get_fix_X(X)\n",
    "    xTest = X.values\n",
    "    prediction = rf.predict_proba(xTest)\n",
    "    score = (1.-prediction)*1000\n",
    "    pred = score[:,1:2].ravel()\n",
    "    return pred\n",
    "def get_pred_armodel_reference_pass(model,df,start,end):\n",
    "    df = get_df_time(df,start,end)\n",
    "    df.drop(df.columns[[0,1]],axis = 1 ,inplace = True)\n",
    "    df.drop(df.columns[[0,1,2]],axis=1, inplace=True)\n",
    "    df.columns = col_names() \n",
    "    X = get_fix_X(df)\n",
    "    xTest = X.values\n",
    "    prediction = model.predict_proba(xTest)\n",
    "    csvname = 'pred_'+status+'.csv'\n",
    "    score = (1.-prediction)*1000\n",
    "    #pd.DataFrame.from_records(score,columns = ['F0','F1']).to_csv(csvname,index = False)\n",
    "    pred = score[:,1:2].ravel()\n",
    "    return pred"
   ]
  },
  {
   "cell_type": "code",
   "execution_count": 56,
   "metadata": {},
   "outputs": [],
   "source": [
    "def get_score_and_x(rf,df,start,end):\n",
    "    df_offline = get_df_time(df,start,end)\n",
    "    y,X = get_Y_X(df_offline)\n",
    "    X = get_fix_X(X)\n",
    "    X = X.reset_index(drop=True)\n",
    "    xTest = X.values\n",
    "    prediction = rf.predict_proba(xTest)\n",
    "    score = (1.-prediction)*1000\n",
    "    score = score[:,1:2]\n",
    "    score = pd.DataFrame(score,columns  = [['pred']])\n",
    "    result = pd.concat([score,X],axis=1)\n",
    "    return result"
   ]
  },
  {
   "cell_type": "code",
   "execution_count": 57,
   "metadata": {},
   "outputs": [],
   "source": [
    "def cuts_off_array(array,cuts):\n",
    "    array.sort()\n",
    "    out =[]\n",
    "    list1,list2,list3,list4,list5,list6,list7,list8,list9,list10 = [],[],[],[],[],[],[],[],[],[]\n",
    "    for i in array:\n",
    "        if i <=cuts[0]:\n",
    "            list1.append(i)\n",
    "        elif i>cuts[0] and i <= cuts[1]:\n",
    "            list2.append(i)\n",
    "        elif i>cuts[1] and i <=cuts[2]:\n",
    "            list3.append(i)\n",
    "        elif i>cuts[2] and i <=cuts[3]:\n",
    "            list4.append(i)\n",
    "        elif i>cuts[3] and i <= cuts[4]:\n",
    "            list5.append(i)\n",
    "        elif i > cuts[4] and i <= cuts[5]:\n",
    "            list6.append(i)\n",
    "        elif i>cuts[5] and i <= cuts[6]:\n",
    "            list7.append(i)\n",
    "        elif i>cuts[6] and i <= cuts[7]:\n",
    "            list8.append(i)\n",
    "        elif i>cuts[7] and i <= cuts[8]:\n",
    "            list9.append(i)\n",
    "        elif i>cuts[8]:\n",
    "            list10.append(i)\n",
    "    out.append(list1)  \n",
    "    out.append(list2)  \n",
    "    out.append(list3)  \n",
    "    out.append(list4)  \n",
    "    out.append(list5)  \n",
    "    out.append(list6)  \n",
    "    out.append(list7)  \n",
    "    out.append(list8)\n",
    "    out.append(list9)  \n",
    "    out.append(list10)\n",
    "    return out\n",
    "def get_cuts_num(cuts):\n",
    "    out =[]\n",
    "    for i in cuts:\n",
    "        out.append(len(i))\n",
    "    return out\n",
    "def get_cuts_mean(cuts):\n",
    "    out = []\n",
    "    for i in cuts:\n",
    "        if len(i) == 0:\n",
    "            out.append(0.0)\n",
    "        else:\n",
    "            out.append(sum(i) / float(len(i)))\n",
    "    return out"
   ]
  },
  {
   "cell_type": "code",
   "execution_count": 58,
   "metadata": {},
   "outputs": [],
   "source": [
    "def get_sub():\n",
    "    big_aid = df_drop['aid'].tolist()\n",
    "    small_aid = df_armodel_labels_drop['aid'].tolist()\n",
    "    sub_set = set(big_aid) - set(small_aid)\n",
    "    sub = [i for i in sub_set]\n",
    "    df_drop_sub = df_drop[df_drop['aid'].isin(sub)]"
   ]
  },
  {
   "cell_type": "raw",
   "metadata": {},
   "source": [
    "拒绝样本分布-----总样本"
   ]
  },
  {
   "cell_type": "code",
   "execution_count": 59,
   "metadata": {},
   "outputs": [
    {
     "name": "stdout",
     "output_type": "stream",
     "text": [
      "[66110, 66099, 66115, 66137, 66133, 66122, 66111, 66128, 66123, 66128]\n",
      "[371.90361258409905, 419.75040765269222, 445.5494412595271, 465.25611345965717, 490.60041842570507, 525.5673571335858, 565.24079487132246, 596.69703811114391, 640.00364215235118, 728.48154301851923]\n"
     ]
    }
   ],
   "source": [
    "train_score = get_pred_train(rf_fix,df_all_train_drop,'2017-02-01','2017-05-01')\n",
    "print(get_cuts_num(cuts_off_array(train_score,cuts)))\n",
    "print(get_cuts_mean(cuts_off_array(train_score,cuts)))"
   ]
  },
  {
   "cell_type": "code",
   "execution_count": 82,
   "metadata": {},
   "outputs": [
    {
     "name": "stdout",
     "output_type": "stream",
     "text": [
      "[1478, 3106, 1424, 566, 731, 675, 573, 206, 59, 5]\n",
      "[376.49541434452425, 421.09174225984771, 444.29273815360165, 463.80589233276606, 492.1830776463994, 526.19145732136883, 565.17103988699068, 593.33894512073971, 636.38005260720706, 678.61445588188099]\n"
     ]
    }
   ],
   "source": [
    "armodel_reject_score_fix = get_pred_armodel(rf_fix,df_ar_score_before_drop,'reject','2017-05-01','2017-05-10')\n",
    "print(get_cuts_num(cuts_off_array(armodel_reject_score_fix,cuts)))\n",
    "print(get_cuts_mean(cuts_off_array(armodel_reject_score_fix,cuts)))"
   ]
  },
  {
   "cell_type": "code",
   "execution_count": 110,
   "metadata": {},
   "outputs": [
    {
     "name": "stdout",
     "output_type": "stream",
     "text": [
      "[13590, 11845, 10490, 7477, 10680, 11593, 11311, 8076, 5892, 582]\n",
      "[368.59676225953092, 420.0047865705119, 445.09964397343884, 464.45455572510951, 491.90687377279812, 526.59189470715182, 564.76444368663829, 595.91115700731439, 633.90675508401773, 686.41657640336734]\n"
     ]
    }
   ],
   "source": [
    "armodel_reject_score_fix = get_pred_armodel(rf_fix,df_ar_score_before_drop,'pass','2017-05-01','2017-05-10')\n",
    "print(get_cuts_num(cuts_off_array(armodel_reject_score_fix,cuts)))\n",
    "print(get_cuts_mean(cuts_off_array(armodel_reject_score_fix,cuts)))"
   ]
  },
  {
   "cell_type": "code",
   "execution_count": 60,
   "metadata": {},
   "outputs": [
    {
     "name": "stdout",
     "output_type": "stream",
     "text": [
      "[19612, 17843, 13740, 9164, 12727, 13405, 12809, 8534, 6067, 597]\n",
      "[368.48223028774385, 420.05842636275452, 444.95021363980118, 464.4294720101592, 491.87296018614296, 526.5105406133282, 564.73919328881971, 595.74356678102936, 633.95603698395075, 686.28002022300814]\n"
     ]
    }
   ],
   "source": [
    "armodel_reject_score_fix = get_pred_armodel(rf_fix,df_ar_score_before_drop,'all','2017-05-01','2017-05-10')\n",
    "print(get_cuts_num(cuts_off_array(armodel_reject_score_fix,cuts)))\n",
    "print(get_cuts_mean(cuts_off_array(armodel_reject_score_fix,cuts)))"
   ]
  },
  {
   "cell_type": "code",
   "execution_count": 109,
   "metadata": {},
   "outputs": [
    {
     "name": "stdout",
     "output_type": "stream",
     "text": [
      "[4544, 2892, 1826, 1121, 1316, 1137, 925, 252, 116, 10]\n",
      "[365.53329201034302, 419.16834481458875, 444.60449671346817, 464.5770145264184, 491.42547312768744, 525.8704730780247, 564.16291723424547, 592.33838183869045, 635.22631312736382, 682.16523269665902]\n"
     ]
    }
   ],
   "source": [
    "armodel_reject_score_fix = get_pred_armodel(rf_fix,df_ar_score_before_drop,'reference','2017-05-01','2017-05-10')\n",
    "print(get_cuts_num(cuts_off_array(armodel_reject_score_fix,cuts)))\n",
    "print(get_cuts_mean(cuts_off_array(armodel_reject_score_fix,cuts)))"
   ]
  },
  {
   "cell_type": "code",
   "execution_count": 98,
   "metadata": {},
   "outputs": [
    {
     "name": "stdout",
     "output_type": "stream",
     "text": [
      "[2039, 1482, 1000, 594, 702, 580, 460, 129, 49, 7]\n",
      "[367.67631577239331, 419.04803269115797, 444.64700047479761, 464.36899160278875, 491.69319816867039, 525.82936304311875, 564.39591534201452, 593.18674654571237, 634.16225906058344, 684.024245900035]\n"
     ]
    }
   ],
   "source": [
    "armodel_reject_score_fix = get_pred_armodel(rf_fix,df_reference_pass02_drop,'all','2017-05-01','2017-05-10')\n",
    "print(get_cuts_num(cuts_off_array(armodel_reject_score_fix,cuts)))\n",
    "print(get_cuts_mean(cuts_off_array(armodel_reject_score_fix,cuts)))"
   ]
  },
  {
   "cell_type": "raw",
   "metadata": {},
   "source": [
    "-------------------------------------------------------"
   ]
  },
  {
   "cell_type": "code",
   "execution_count": 61,
   "metadata": {},
   "outputs": [
    {
     "name": "stdout",
     "output_type": "stream",
     "text": [
      "[1034, 3061, 1559, 671, 923, 1157, 824, 308, 96, 4]\n",
      "[377.96109272142741, 421.5602435009352, 444.43706550964544, 463.96647708082628, 493.23794431841378, 528.41539637782546, 562.50588678086513, 593.24606880620479, 637.36519856258985, 682.6491644140749]\n"
     ]
    }
   ],
   "source": [
    "armodel_reject_score_fix_0510 = get_pred_armodel(rf_fix,df_ar_score_before_drop,'reject','2017-05-10','2017-05-20')\n",
    "print(get_cuts_num(cuts_off_array(armodel_reject_score_fix_0510,cuts)))\n",
    "print(get_cuts_mean(cuts_off_array(armodel_reject_score_fix_0510,cuts)))"
   ]
  },
  {
   "cell_type": "code",
   "execution_count": 62,
   "metadata": {},
   "outputs": [
    {
     "name": "stdout",
     "output_type": "stream",
     "text": [
      "[15175, 15673, 12325, 8729, 13691, 17947, 15744, 10751, 7329, 1027]\n",
      "[368.34942038133721, 420.06674253730432, 444.83981385115646, 464.75894705281291, 492.08362084193578, 528.60825853979986, 563.45320892908444, 595.62342630422427, 636.2085782877059, 686.52497768751311]\n"
     ]
    }
   ],
   "source": [
    "armodel_reject_score_fix_0510 = get_pred_armodel(rf_fix,df_ar_score_before_drop,'all','2017-05-10','2017-05-20')\n",
    "print(get_cuts_num(cuts_off_array(armodel_reject_score_fix_0510,cuts)))\n",
    "print(get_cuts_mean(cuts_off_array(armodel_reject_score_fix_0510,cuts)))"
   ]
  },
  {
   "cell_type": "code",
   "execution_count": 111,
   "metadata": {},
   "outputs": [
    {
     "name": "stdout",
     "output_type": "stream",
     "text": [
      "[10558, 9935, 8850, 6831, 10970, 14736, 13646, 10004, 7055, 1010]\n",
      "[368.04464273380944, 419.80462042047293, 445.00204953875681, 464.85270463521289, 492.02064530528037, 528.6933199980715, 563.521924768811, 595.8137545470986, 636.17123819809649, 686.60117678901099]\n"
     ]
    }
   ],
   "source": [
    "armodel_reject_score_fix_0510 = get_pred_armodel(rf_fix,df_ar_score_before_drop,'pass','2017-05-10','2017-05-20')\n",
    "print(get_cuts_num(cuts_off_array(armodel_reject_score_fix_0510,cuts)))\n",
    "print(get_cuts_mean(cuts_off_array(armodel_reject_score_fix_0510,cuts)))"
   ]
  },
  {
   "cell_type": "code",
   "execution_count": 113,
   "metadata": {},
   "outputs": [
    {
     "name": "stdout",
     "output_type": "stream",
     "text": [
      "[3583, 2677, 1916, 1227, 1798, 2054, 1274, 439, 178, 13]\n",
      "[366.47372214046771, 419.33180670653138, 444.41815353234574, 464.67034828005796, 491.87527883321826, 528.10664017188094, 563.32989425187384, 592.95413784792538, 637.06475124165513, 681.79745157835782]\n"
     ]
    }
   ],
   "source": [
    "armodel_reject_score_fix_0510 = get_pred_armodel(rf_fix,df_ar_score_before_drop,'reference','2017-05-10','2017-05-20')\n",
    "print(get_cuts_num(cuts_off_array(armodel_reject_score_fix_0510,cuts)))\n",
    "print(get_cuts_mean(cuts_off_array(armodel_reject_score_fix_0510,cuts)))"
   ]
  },
  {
   "cell_type": "code",
   "execution_count": 99,
   "metadata": {},
   "outputs": [
    {
     "name": "stdout",
     "output_type": "stream",
     "text": [
      "[1624, 1313, 978, 639, 925, 1012, 658, 238, 99, 8]\n",
      "[367.50639217354603, 419.55111026008069, 444.34409911440827, 464.66552264755973, 491.47919034449893, 527.82330414300679, 562.99730120147069, 593.17619167310784, 637.345507257794, 684.5586230538978]\n"
     ]
    }
   ],
   "source": [
    "armodel_reject_score_fix_0510 = get_pred_armodel(rf_fix,df_reference_pass02_drop,'all','2017-05-10','2017-05-20')\n",
    "print(get_cuts_num(cuts_off_array(armodel_reject_score_fix_0510,cuts)))\n",
    "print(get_cuts_mean(cuts_off_array(armodel_reject_score_fix_0510,cuts)))"
   ]
  },
  {
   "cell_type": "raw",
   "metadata": {},
   "source": [
    "----------------------------------------"
   ]
  },
  {
   "cell_type": "code",
   "execution_count": 63,
   "metadata": {},
   "outputs": [
    {
     "name": "stdout",
     "output_type": "stream",
     "text": [
      "[769, 1265, 943, 545, 634, 602, 572, 160, 69, 2]\n",
      "[382.33388005240101, 419.63764553204197, 444.01531347018323, 464.03145056826168, 492.17703633369541, 527.82966708997583, 566.80714452122868, 592.22435553884122, 633.62024813076641, 682.77648823061679]\n"
     ]
    }
   ],
   "source": [
    "armodel_reject_score_fix_06 = get_pred_armodel(rf_fix,df_ar_score_now_drop,'reject','2017-06-20','2017-06-30')\n",
    "print(get_cuts_num(cuts_off_array(armodel_reject_score_fix_06,cuts)))\n",
    "print(get_cuts_mean(cuts_off_array(armodel_reject_score_fix_06,cuts)))"
   ]
  },
  {
   "cell_type": "code",
   "execution_count": 64,
   "metadata": {},
   "outputs": [
    {
     "name": "stdout",
     "output_type": "stream",
     "text": [
      "[13938, 17221, 15906, 11819, 16394, 17222, 17152, 12040, 10301, 954]\n",
      "[375.6316691394988, 419.9651240847806, 444.65677247771197, 464.2604709945079, 492.28870756693249, 526.52598615617524, 564.9400372794131, 596.1687603649633, 633.79564036418367, 685.13625429313493]\n"
     ]
    }
   ],
   "source": [
    "armodel_reject_score_fix_06 = get_pred_armodel(rf_fix,df_ar_score_now_drop,'all','2017-06-20','2017-06-30')\n",
    "print(get_cuts_num(cuts_off_array(armodel_reject_score_fix_06,cuts)))\n",
    "print(get_cuts_mean(cuts_off_array(armodel_reject_score_fix_06,cuts)))"
   ]
  },
  {
   "cell_type": "code",
   "execution_count": 114,
   "metadata": {},
   "outputs": [
    {
     "name": "stdout",
     "output_type": "stream",
     "text": [
      "[10557, 13249, 12937, 10052, 14226, 15145, 15308, 11563, 10111, 940]\n",
      "[375.39340126907518, 420.07052494842424, 444.73887937418351, 464.30426994654096, 492.31761654543311, 526.44644749887993, 564.91342965993329, 596.30016176030597, 633.80376358236833, 685.19074256034037]\n"
     ]
    }
   ],
   "source": [
    "armodel_reject_score_fix_06 = get_pred_armodel(rf_fix,df_ar_score_now_drop,'pass','2017-06-20','2017-06-30')\n",
    "print(get_cuts_num(cuts_off_array(armodel_reject_score_fix_06,cuts)))\n",
    "print(get_cuts_mean(cuts_off_array(armodel_reject_score_fix_06,cuts)))"
   ]
  },
  {
   "cell_type": "code",
   "execution_count": 115,
   "metadata": {},
   "outputs": [
    {
     "name": "stdout",
     "output_type": "stream",
     "text": [
      "[2612, 2707, 2026, 1222, 1534, 1475, 1272, 317, 121, 12]\n",
      "[374.62148296647206, 419.60228859411961, 444.43104637921329, 464.00232784105123, 492.06676521601753, 526.81059432063603, 564.42063798432355, 593.36658508997789, 633.21686519923708, 681.26130103909748]\n"
     ]
    }
   ],
   "source": [
    "armodel_reject_score_fix_06 = get_pred_armodel(rf_fix,df_ar_score_now_drop,'reference','2017-06-20','2017-06-30')\n",
    "print(get_cuts_num(cuts_off_array(armodel_reject_score_fix_06,cuts)))\n",
    "print(get_cuts_mean(cuts_off_array(armodel_reject_score_fix_06,cuts)))"
   ]
  },
  {
   "cell_type": "code",
   "execution_count": 97,
   "metadata": {},
   "outputs": [
    {
     "name": "stdout",
     "output_type": "stream",
     "text": [
      "[968, 1040, 838, 481, 626, 586, 523, 143, 57, 7]\n",
      "[375.68189829737128, 419.75240801050603, 444.36509445919148, 463.95082571734554, 492.01544489824124, 526.93345771754446, 564.40141911979231, 592.47370285349257, 633.88215684554939, 682.39859644151409]\n"
     ]
    }
   ],
   "source": [
    "armodel_reject_score_fix_06 = get_pred_armodel(rf_fix,df_reference_pass06_drop,'all','2017-06-20','2017-06-30')\n",
    "print(get_cuts_num(cuts_off_array(armodel_reject_score_fix_06,cuts)))\n",
    "print(get_cuts_mean(cuts_off_array(armodel_reject_score_fix_06,cuts)))"
   ]
  },
  {
   "cell_type": "raw",
   "metadata": {},
   "source": [
    "拒绝样本打分---在ar_model样本上"
   ]
  },
  {
   "cell_type": "code",
   "execution_count": 65,
   "metadata": {},
   "outputs": [
    {
     "name": "stdout",
     "output_type": "stream",
     "text": [
      "[33252, 33252, 33266, 33244, 33271, 33238, 33268, 33253, 33266, 33262]\n",
      "[386.19194040698932, 439.8961280724925, 465.46678418241601, 488.32818100015533, 510.83475535597745, 530.69482976108736, 549.70160810591403, 573.43497827095109, 603.80995648545229, 644.51422459952767]\n"
     ]
    }
   ],
   "source": [
    "train_score = get_pred_train(rf_ar_fix,delete_armodel_status(df_ar_train_drop),'2017-02-01','2017-05-01')\n",
    "print(get_cuts_num(cuts_off_array(train_score,cuts1)))\n",
    "print(get_cuts_mean(cuts_off_array(train_score,cuts1)))"
   ]
  },
  {
   "cell_type": "code",
   "execution_count": 66,
   "metadata": {},
   "outputs": [
    {
     "name": "stdout",
     "output_type": "stream",
     "text": [
      "[3104, 1819, 896, 684, 646, 492, 371, 313, 379, 119]\n",
      "[389.75975499003556, 437.26898615073321, 464.58959448345314, 487.73093148380383, 510.98242093289997, 530.29244594154557, 550.51440885970123, 571.69663195784369, 603.17549337371861, 642.04513384393397]\n"
     ]
    }
   ],
   "source": [
    "armodel_reject_score_fix = get_pred_armodel(rf_ar_fix,df_ar_score_before_drop,'reject','2017-05-01','2017-05-10')\n",
    "print(get_cuts_num(cuts_off_array(armodel_reject_score_fix,cuts1)))\n",
    "print(get_cuts_mean(cuts_off_array(armodel_reject_score_fix,cuts1)))"
   ]
  },
  {
   "cell_type": "code",
   "execution_count": 116,
   "metadata": {},
   "outputs": [
    {
     "name": "stdout",
     "output_type": "stream",
     "text": [
      "[10906, 8963, 7706, 8179, 9328, 8025, 8759, 9101, 10451, 10118]\n",
      "[385.21096549253951, 439.26438489805139, 465.30685368272754, 488.70374029690294, 510.75526518909612, 530.57441589966368, 550.28299934867459, 573.22134430176982, 604.09096091721335, 649.12981553531699]\n"
     ]
    }
   ],
   "source": [
    "armodel_reject_score_fix = get_pred_armodel(rf_ar_fix,df_ar_score_before_drop,'pass','2017-05-01','2017-05-10')\n",
    "print(get_cuts_num(cuts_off_array(armodel_reject_score_fix,cuts1)))\n",
    "print(get_cuts_mean(cuts_off_array(armodel_reject_score_fix,cuts1)))"
   ]
  },
  {
   "cell_type": "code",
   "execution_count": 117,
   "metadata": {},
   "outputs": [
    {
     "name": "stdout",
     "output_type": "stream",
     "text": [
      "[3795, 2345, 1600, 1452, 1324, 1005, 842, 702, 777, 297]\n",
      "[382.59793843386592, 438.4341699542282, 464.7831683228523, 488.29727363103501, 510.57853710701386, 530.32690240602699, 550.46635625748638, 572.21665229589826, 603.14371002236862, 643.31854641944881]\n"
     ]
    }
   ],
   "source": [
    "armodel_reject_score_fix = get_pred_armodel(rf_ar_fix,df_ar_score_before_drop,'reference','2017-05-01','2017-05-10')\n",
    "print(get_cuts_num(cuts_off_array(armodel_reject_score_fix,cuts1)))\n",
    "print(get_cuts_mean(cuts_off_array(armodel_reject_score_fix,cuts1)))"
   ]
  },
  {
   "cell_type": "code",
   "execution_count": 67,
   "metadata": {},
   "outputs": [
    {
     "name": "stdout",
     "output_type": "stream",
     "text": [
      "[17805, 13127, 10202, 10315, 11298, 9522, 9972, 10116, 11607, 10534]\n",
      "[385.44702305572616, 438.83957463183691, 465.16172911711772, 488.58201554392002, 510.74754299311616, 530.53372273851198, 550.30709074917752, 573.10444743029893, 603.99765720873768, 648.88593628254762]\n"
     ]
    }
   ],
   "source": [
    "armodel_reject_score_fix = get_pred_armodel(rf_ar_fix,df_ar_score_before_drop,'all','2017-05-01','2017-05-10')\n",
    "print(get_cuts_num(cuts_off_array(armodel_reject_score_fix,cuts1)))\n",
    "print(get_cuts_mean(cuts_off_array(armodel_reject_score_fix,cuts1)))"
   ]
  },
  {
   "cell_type": "code",
   "execution_count": 100,
   "metadata": {},
   "outputs": [
    {
     "name": "stdout",
     "output_type": "stream",
     "text": [
      "[1704, 1182, 819, 742, 710, 528, 451, 379, 382, 145]\n",
      "[384.17109274018696, 438.50203971108465, 464.9342748304262, 488.3470326843717, 510.63931602090696, 530.66387397578239, 550.11119149743536, 572.4650920196583, 603.49899166867283, 642.57253547974699]\n"
     ]
    }
   ],
   "source": [
    "armodel_reject_score_fix = get_pred_armodel(rf_ar_fix,df_reference_pass02_drop,'all','2017-05-01','2017-05-10')\n",
    "print(get_cuts_num(cuts_off_array(armodel_reject_score_fix,cuts1)))\n",
    "print(get_cuts_mean(cuts_off_array(armodel_reject_score_fix,cuts1)))"
   ]
  },
  {
   "cell_type": "raw",
   "metadata": {},
   "source": [
    "-------------------------------------"
   ]
  },
  {
   "cell_type": "code",
   "execution_count": 68,
   "metadata": {},
   "outputs": [
    {
     "name": "stdout",
     "output_type": "stream",
     "text": [
      "[2385, 2008, 1141, 818, 756, 589, 664, 622, 487, 167]\n",
      "[392.67955463028483, 437.86792027217393, 464.65415720573651, 488.00332938495472, 511.22283126975094, 529.97364620091605, 551.36320555731004, 570.32131819629558, 604.38435577930863, 642.86375232981868]\n"
     ]
    }
   ],
   "source": [
    "armodel_reject_score_fix_0510 = get_pred_armodel(rf_ar_fix,df_ar_score_before_drop,'reject','2017-05-10','2017-05-20')\n",
    "print(get_cuts_num(cuts_off_array(armodel_reject_score_fix_0510,cuts1)))\n",
    "print(get_cuts_mean(cuts_off_array(armodel_reject_score_fix_0510,cuts1)))"
   ]
  },
  {
   "cell_type": "code",
   "execution_count": 118,
   "metadata": {},
   "outputs": [
    {
     "name": "stdout",
     "output_type": "stream",
     "text": [
      "[2707, 1989, 1801, 1604, 1632, 1217, 1353, 1436, 975, 445]\n",
      "[383.5713881028413, 439.38666534249359, 465.65872665030122, 488.21655522344349, 510.4876185468159, 530.641313660121, 551.29044534146908, 571.6340939220496, 603.34172829679233, 641.78012296225222]\n"
     ]
    }
   ],
   "source": [
    "armodel_reject_score_fix_0510 = get_pred_armodel(rf_ar_fix,df_ar_score_before_drop,'reference','2017-05-10','2017-05-20')\n",
    "print(get_cuts_num(cuts_off_array(armodel_reject_score_fix_0510,cuts1)))\n",
    "print(get_cuts_mean(cuts_off_array(armodel_reject_score_fix_0510,cuts1)))"
   ]
  },
  {
   "cell_type": "code",
   "execution_count": 119,
   "metadata": {},
   "outputs": [
    {
     "name": "stdout",
     "output_type": "stream",
     "text": [
      "[7538, 6735, 7060, 7434, 8709, 7635, 9702, 13631, 12533, 12618]\n",
      "[385.27395279802653, 439.8219134508393, 465.52735241650339, 488.63174410094024, 510.81150116686382, 530.64039969585826, 550.79197551243044, 573.15545080279037, 604.03665346446894, 650.43409240972471]\n"
     ]
    }
   ],
   "source": [
    "armodel_reject_score_fix_0510 = get_pred_armodel(rf_ar_fix,df_ar_score_before_drop,'pass','2017-05-10','2017-05-20')\n",
    "print(get_cuts_num(cuts_off_array(armodel_reject_score_fix_0510,cuts1)))\n",
    "print(get_cuts_mean(cuts_off_array(armodel_reject_score_fix_0510,cuts1)))"
   ]
  },
  {
   "cell_type": "code",
   "execution_count": 69,
   "metadata": {},
   "outputs": [
    {
     "name": "stdout",
     "output_type": "stream",
     "text": [
      "[12630, 10732, 10002, 9856, 11097, 9441, 11719, 15689, 13995, 13230]\n",
      "[386.30748547736681, 439.37564744354785, 465.45139653363788, 488.51201944619231, 510.79189128328085, 530.59892045488709, 550.88189158278317, 572.90384146108806, 604.00033899421874, 650.04745120054224]\n"
     ]
    }
   ],
   "source": [
    "armodel_reject_score_fix_0510 = get_pred_armodel(rf_ar_fix,df_ar_score_before_drop,'all','2017-05-10','2017-05-20')\n",
    "print(get_cuts_num(cuts_off_array(armodel_reject_score_fix_0510,cuts1)))\n",
    "print(get_cuts_mean(cuts_off_array(armodel_reject_score_fix_0510,cuts1)))"
   ]
  },
  {
   "cell_type": "code",
   "execution_count": 101,
   "metadata": {},
   "outputs": [
    {
     "name": "stdout",
     "output_type": "stream",
     "text": [
      "[1257, 938, 849, 787, 836, 645, 692, 743, 496, 251]\n",
      "[384.99202341780085, 439.49589307404824, 465.51266632106331, 488.25826782573853, 510.37426095776266, 530.50290921272017, 550.92740375212861, 572.05367387055435, 603.24944506734323, 642.26578158944483]\n"
     ]
    }
   ],
   "source": [
    "armodel_reject_score_fix_0510 = get_pred_armodel(rf_ar_fix,df_reference_pass02_drop,'all','2017-05-10','2017-05-20')\n",
    "print(get_cuts_num(cuts_off_array(armodel_reject_score_fix_0510,cuts1)))\n",
    "print(get_cuts_mean(cuts_off_array(armodel_reject_score_fix_0510,cuts1)))"
   ]
  },
  {
   "cell_type": "raw",
   "metadata": {},
   "source": [
    "------------------------------"
   ]
  },
  {
   "cell_type": "code",
   "execution_count": 70,
   "metadata": {},
   "outputs": [
    {
     "name": "stdout",
     "output_type": "stream",
     "text": [
      "[978, 1116, 705, 517, 542, 446, 364, 320, 436, 137]\n",
      "[394.95455260471067, 438.33428871781803, 464.32510492517332, 487.78213695309876, 511.18573332756648, 530.22104708908637, 550.96202039674483, 570.63402718749069, 604.79579279104985, 640.82531499314075]\n"
     ]
    }
   ],
   "source": [
    "armodel_reject_score_fix_06 = get_pred_armodel(rf_ar_fix,df_ar_score_now_drop,'reject','2017-06-20','2017-06-30')\n",
    "print(get_cuts_num(cuts_off_array(armodel_reject_score_fix_06,cuts1)))\n",
    "print(get_cuts_mean(cuts_off_array(armodel_reject_score_fix_06,cuts1)))"
   ]
  },
  {
   "cell_type": "code",
   "execution_count": 121,
   "metadata": {},
   "outputs": [
    {
     "name": "stdout",
     "output_type": "stream",
     "text": [
      "[2370, 2204, 1475, 1299, 1463, 1118, 1025, 898, 1070, 376]\n",
      "[390.93173882282343, 438.85513867464056, 464.7339894871144, 488.2566404698581, 511.06411195355605, 530.93444718883359, 550.24135935045365, 572.27586411324819, 604.24356402230967, 641.95731345815318]\n"
     ]
    }
   ],
   "source": [
    "armodel_reject_score_fix_06 = get_pred_armodel(rf_ar_fix,df_ar_score_now_drop,'reference','2017-06-20','2017-06-30')\n",
    "print(get_cuts_num(cuts_off_array(armodel_reject_score_fix_06,cuts1)))\n",
    "print(get_cuts_mean(cuts_off_array(armodel_reject_score_fix_06,cuts1)))"
   ]
  },
  {
   "cell_type": "code",
   "execution_count": 120,
   "metadata": {},
   "outputs": [
    {
     "name": "stdout",
     "output_type": "stream",
     "text": [
      "[9130, 10903, 9238, 9027, 10614, 10217, 11340, 12834, 14392, 16393]\n",
      "[391.70815664470268, 439.4880962894033, 465.08129144659563, 488.59612747141171, 511.08677276398333, 530.86469834726347, 550.19617737202532, 573.38395701721379, 604.52176966642116, 649.96911699819918]\n"
     ]
    }
   ],
   "source": [
    "armodel_reject_score_fix_06 = get_pred_armodel(rf_ar_fix,df_ar_score_now_drop,'pass','2017-06-20','2017-06-30')\n",
    "print(get_cuts_num(cuts_off_array(armodel_reject_score_fix_06,cuts1)))\n",
    "print(get_cuts_mean(cuts_off_array(armodel_reject_score_fix_06,cuts1)))"
   ]
  },
  {
   "cell_type": "code",
   "execution_count": 71,
   "metadata": {},
   "outputs": [
    {
     "name": "stdout",
     "output_type": "stream",
     "text": [
      "[12478, 14223, 11418, 10843, 12619, 11781, 12729, 14052, 15898, 16906]\n",
      "[391.81513412595143, 439.299480116106, 464.98973584247517, 488.51664515904707, 511.08839601937586, 530.84695034146785, 550.22171577951269, 573.25052085344726, 604.51056033462703, 649.71683147792601]\n"
     ]
    }
   ],
   "source": [
    "armodel_reject_score_fix_06 = get_pred_armodel(rf_ar_fix,df_ar_score_now_drop,'all','2017-06-20','2017-06-30')\n",
    "print(get_cuts_num(cuts_off_array(armodel_reject_score_fix_06,cuts1)))\n",
    "print(get_cuts_mean(cuts_off_array(armodel_reject_score_fix_06,cuts1)))"
   ]
  },
  {
   "cell_type": "code",
   "execution_count": 102,
   "metadata": {},
   "outputs": [
    {
     "name": "stdout",
     "output_type": "stream",
     "text": [
      "[897, 865, 546, 491, 574, 452, 430, 401, 451, 162]\n",
      "[391.89726472591593, 438.57992476315667, 464.60942262996298, 488.61583596084614, 511.2917935178283, 531.06737612410257, 549.79618691071425, 572.52535838464814, 604.40998082742908, 644.5743154272219]\n"
     ]
    }
   ],
   "source": [
    "armodel_reject_score_fix_06 = get_pred_armodel(rf_ar_fix,df_reference_pass06_drop,'all','2017-06-20','2017-06-30')\n",
    "print(get_cuts_num(cuts_off_array(armodel_reject_score_fix_06,cuts1)))\n",
    "print(get_cuts_mean(cuts_off_array(armodel_reject_score_fix_06,cuts1)))"
   ]
  },
  {
   "cell_type": "raw",
   "metadata": {},
   "source": [
    "拒绝样本打分---在ar_model_04样本上"
   ]
  },
  {
   "cell_type": "code",
   "execution_count": 72,
   "metadata": {},
   "outputs": [
    {
     "name": "stdout",
     "output_type": "stream",
     "text": [
      "[14789, 14794, 14794, 14792, 14796, 14788, 14794, 14798, 14787, 14801]\n",
      "[410.39090853533969, 445.12100039820672, 462.51325332235325, 480.07395180174956, 503.09816081934838, 529.30740154569821, 556.70346415068616, 585.04673456404987, 610.26111872261515, 658.69744617394701]\n"
     ]
    }
   ],
   "source": [
    "train_score = get_pred_train(rf_ar_fix_04,delete_armodel_status(df_ar_train_drop),'2017-02-01','2017-04-01')\n",
    "print(get_cuts_num(cuts_off_array(train_score,cuts2)))\n",
    "print(get_cuts_mean(cuts_off_array(train_score,cuts2)))"
   ]
  },
  {
   "cell_type": "code",
   "execution_count": 103,
   "metadata": {},
   "outputs": [
    {
     "name": "stdout",
     "output_type": "stream",
     "text": [
      "[1732, 1603, 1357, 1156, 890, 637, 480, 399, 317, 252]\n",
      "[415.02597794102809, 444.8331730692708, 462.12068330969339, 479.68566757144362, 502.67139374399989, 528.9038615933091, 555.49503927470346, 583.12905262856816, 610.04416023883027, 650.18586051878685]\n"
     ]
    }
   ],
   "source": [
    "armodel_reject_score_fix_04 = get_pred_armodel(rf_ar_fix_04,df_ar_score_before_drop,'reject','2017-05-01','2017-05-10')\n",
    "print(get_cuts_num(cuts_off_array(armodel_reject_score_fix_04,cuts2)))\n",
    "print(get_cuts_mean(cuts_off_array(armodel_reject_score_fix_04,cuts2)))"
   ]
  },
  {
   "cell_type": "code",
   "execution_count": 122,
   "metadata": {},
   "outputs": [
    {
     "name": "stdout",
     "output_type": "stream",
     "text": [
      "[2802, 2261, 1771, 1613, 1539, 1301, 1026, 827, 554, 445]\n",
      "[411.43938343055783, 444.47325138775312, 462.57544416513014, 480.26223762674567, 502.86882719268374, 528.70168564358437, 555.98743232542404, 584.22859267277283, 610.02026837322614, 650.93639313366316]\n"
     ]
    }
   ],
   "source": [
    "armodel_reject_score_fix_04 = get_pred_armodel(rf_ar_fix_04,df_ar_score_before_drop,'reference','2017-05-01','2017-05-10')\n",
    "print(get_cuts_num(cuts_off_array(armodel_reject_score_fix_04,cuts2)))\n",
    "print(get_cuts_mean(cuts_off_array(armodel_reject_score_fix_04,cuts2)))"
   ]
  },
  {
   "cell_type": "code",
   "execution_count": 123,
   "metadata": {},
   "outputs": [
    {
     "name": "stdout",
     "output_type": "stream",
     "text": [
      "[7578, 7798, 8014, 8814, 10281, 9909, 10524, 10077, 8710, 9831]\n",
      "[412.30268214383079, 444.91221836439013, 462.45978703545512, 480.35136978355183, 503.34123081923423, 529.29168524519605, 556.71607293035629, 584.91117218755574, 610.1843936555756, 657.52186523224054]\n"
     ]
    }
   ],
   "source": [
    "armodel_reject_score_fix_04 = get_pred_armodel(rf_ar_fix_04,df_ar_score_before_drop,'pass','2017-05-01','2017-05-10')\n",
    "print(get_cuts_num(cuts_off_array(armodel_reject_score_fix_04,cuts2)))\n",
    "print(get_cuts_mean(cuts_off_array(armodel_reject_score_fix_04,cuts2)))"
   ]
  },
  {
   "cell_type": "code",
   "execution_count": 104,
   "metadata": {},
   "outputs": [
    {
     "name": "stdout",
     "output_type": "stream",
     "text": [
      "[12112, 11662, 11142, 11583, 12710, 11847, 12030, 11303, 9581, 10528]\n",
      "[412.49239361395564, 444.81624735236289, 462.43687059503151, 480.27251957841384, 503.2371250617046, 529.20604051252417, 556.60520996981029, 584.79832082395774, 610.17026366919242, 657.06791307877813]\n"
     ]
    }
   ],
   "source": [
    "armodel_reject_score_fix_04 = get_pred_armodel(rf_ar_fix_04,df_ar_score_before_drop,'all','2017-05-01','2017-05-10')\n",
    "print(get_cuts_num(cuts_off_array(armodel_reject_score_fix_04,cuts2)))\n",
    "print(get_cuts_mean(cuts_off_array(armodel_reject_score_fix_04,cuts2)))"
   ]
  },
  {
   "cell_type": "code",
   "execution_count": 105,
   "metadata": {},
   "outputs": [
    {
     "name": "stdout",
     "output_type": "stream",
     "text": [
      "[1302, 1122, 877, 816, 810, 676, 522, 425, 272, 220]\n",
      "[412.36693066237535, 444.4639935187509, 462.54417648949493, 480.52008114736816, 502.90899570466235, 528.66353703545008, 556.10741616822463, 583.94844980206085, 609.91720590280227, 650.75161309165014]\n"
     ]
    }
   ],
   "source": [
    "armodel_reject_score_fix_04 = get_pred_armodel(rf_ar_fix_04,df_reference_pass02_drop,'all','2017-05-01','2017-05-10')\n",
    "print(get_cuts_num(cuts_off_array(armodel_reject_score_fix_04,cuts2)))\n",
    "print(get_cuts_mean(cuts_off_array(armodel_reject_score_fix_04,cuts2)))"
   ]
  },
  {
   "cell_type": "raw",
   "metadata": {},
   "source": [
    "------------------------------------"
   ]
  },
  {
   "cell_type": "code",
   "execution_count": 75,
   "metadata": {},
   "outputs": [
    {
     "name": "stdout",
     "output_type": "stream",
     "text": [
      "[1180, 1461, 1418, 1294, 1112, 894, 875, 682, 377, 344]\n",
      "[415.09760496906648, 445.25168048029667, 462.47415080282889, 480.16218644025861, 503.125758078535, 529.31494437811841, 557.06322049232358, 583.43694463608972, 610.27336540751389, 652.32338702268146]\n"
     ]
    }
   ],
   "source": [
    "armodel_reject_score_fix_0510_04 = get_pred_armodel(rf_ar_fix_04,df_ar_score_before_drop,'reject','2017-05-10','2017-05-20')\n",
    "print(get_cuts_num(cuts_off_array(armodel_reject_score_fix_0510_04,cuts2)))\n",
    "print(get_cuts_mean(cuts_off_array(armodel_reject_score_fix_0510_04,cuts2)))"
   ]
  },
  {
   "cell_type": "code",
   "execution_count": 124,
   "metadata": {},
   "outputs": [
    {
     "name": "stdout",
     "output_type": "stream",
     "text": [
      "[2070, 1856, 1706, 1587, 1775, 1673, 1807, 1223, 775, 687]\n",
      "[411.62496271296652, 444.94226876824592, 462.57016752651106, 480.13731161093312, 503.20675840759964, 529.4579521474933, 556.29241486211276, 583.53597162641915, 609.92689435413388, 654.18675805987959]\n"
     ]
    }
   ],
   "source": [
    "armodel_reject_score_fix_0510_04 = get_pred_armodel(rf_ar_fix_04,df_ar_score_before_drop,'reference','2017-05-10','2017-05-20')\n",
    "print(get_cuts_num(cuts_off_array(armodel_reject_score_fix_0510_04,cuts2)))\n",
    "print(get_cuts_mean(cuts_off_array(armodel_reject_score_fix_0510_04,cuts2)))"
   ]
  },
  {
   "cell_type": "code",
   "execution_count": 125,
   "metadata": {},
   "outputs": [
    {
     "name": "stdout",
     "output_type": "stream",
     "text": [
      "[5472, 6001, 6366, 7387, 9382, 10459, 12934, 12404, 9971, 13219]\n",
      "[412.9257223746722, 445.11755031366931, 462.58816707621941, 480.43308634664788, 503.46908915544901, 529.78206725439293, 557.17170534489378, 584.50128387375992, 610.56491996426701, 660.11591424373648]\n"
     ]
    }
   ],
   "source": [
    "armodel_reject_score_fix_0510_04 = get_pred_armodel(rf_ar_fix_04,df_ar_score_before_drop,'pass','2017-05-10','2017-05-20')\n",
    "print(get_cuts_num(cuts_off_array(armodel_reject_score_fix_0510_04,cuts2)))\n",
    "print(get_cuts_mean(cuts_off_array(armodel_reject_score_fix_0510_04,cuts2)))"
   ]
  },
  {
   "cell_type": "code",
   "execution_count": 76,
   "metadata": {},
   "outputs": [
    {
     "name": "stdout",
     "output_type": "stream",
     "text": [
      "[8722, 9318, 9490, 10268, 12269, 13026, 15616, 14309, 11123, 14250]\n",
      "[412.9108460804336, 445.10366768060663, 462.56789496795142, 480.35323253047682, 503.40001904093572, 529.70837982730825, 557.06387989994153, 584.36804910972251, 610.51058337200357, 659.6419521621666]\n"
     ]
    }
   ],
   "source": [
    "armodel_reject_score_fix_0510_04 = get_pred_armodel(rf_ar_fix_04,df_ar_score_before_drop,'all','2017-05-10','2017-05-20')\n",
    "print(get_cuts_num(cuts_off_array(armodel_reject_score_fix_0510_04,cuts2)))\n",
    "print(get_cuts_mean(cuts_off_array(armodel_reject_score_fix_0510_04,cuts2)))"
   ]
  },
  {
   "cell_type": "code",
   "execution_count": 106,
   "metadata": {},
   "outputs": [
    {
     "name": "stdout",
     "output_type": "stream",
     "text": [
      "[954, 924, 823, 793, 886, 835, 890, 613, 426, 350]\n",
      "[411.8628035895282, 444.93552657415921, 462.37920266918582, 479.97486781234301, 503.4321430404438, 529.36815134818903, 556.52424239330526, 583.75557908107146, 610.28370823322939, 655.94357141652006]\n"
     ]
    }
   ],
   "source": [
    "armodel_reject_score_fix_0510_04 = get_pred_armodel(rf_ar_fix_04,df_reference_pass02_drop,'all','2017-05-10','2017-05-20')\n",
    "print(get_cuts_num(cuts_off_array(armodel_reject_score_fix_0510_04,cuts2)))\n",
    "print(get_cuts_mean(cuts_off_array(armodel_reject_score_fix_0510_04,cuts2)))"
   ]
  },
  {
   "cell_type": "raw",
   "metadata": {},
   "source": [
    "------------------------------------------------"
   ]
  },
  {
   "cell_type": "code",
   "execution_count": 77,
   "metadata": {},
   "outputs": [
    {
     "name": "stdout",
     "output_type": "stream",
     "text": [
      "[765, 849, 725, 657, 642, 586, 437, 352, 322, 226]\n",
      "[417.73092004175504, 444.56660018478919, 462.28650465316349, 479.72859551242794, 503.22353957519374, 528.75588704276356, 556.47666650111648, 584.3474496827447, 609.34339717485307, 651.9563971722547]\n"
     ]
    }
   ],
   "source": [
    "armodel_reject_score_fix_06_04 = get_pred_armodel(rf_ar_fix_04,df_ar_score_now_drop,'reject','2017-06-20','2017-06-30')\n",
    "print(get_cuts_num(cuts_off_array(armodel_reject_score_fix_06_04,cuts2)))\n",
    "print(get_cuts_mean(cuts_off_array(armodel_reject_score_fix_06_04,cuts2)))"
   ]
  },
  {
   "cell_type": "code",
   "execution_count": 127,
   "metadata": {},
   "outputs": [
    {
     "name": "stdout",
     "output_type": "stream",
     "text": [
      "[2098, 1756, 1626, 1534, 1453, 1296, 1257, 1018, 743, 517]\n",
      "[413.62669854207115, 444.66317667190748, 462.13610144792739, 480.08882100030593, 503.38272377173951, 529.1509874131682, 556.32718581043275, 585.08896299479875, 608.87827349942654, 650.97303230146599]\n"
     ]
    }
   ],
   "source": [
    "armodel_reject_score_fix_06_04 = get_pred_armodel(rf_ar_fix_04,df_ar_score_now_drop,'reference','2017-06-20','2017-06-30')\n",
    "print(get_cuts_num(cuts_off_array(armodel_reject_score_fix_06_04,cuts2)))\n",
    "print(get_cuts_mean(cuts_off_array(armodel_reject_score_fix_06_04,cuts2)))"
   ]
  },
  {
   "cell_type": "code",
   "execution_count": 126,
   "metadata": {},
   "outputs": [
    {
     "name": "stdout",
     "output_type": "stream",
     "text": [
      "[7119, 7944, 8524, 10430, 12814, 12307, 13494, 14067, 12370, 15019]\n",
      "[414.05043236129995, 444.89089652351106, 462.59656687333813, 480.51963975709174, 503.3566073830836, 529.42454947060378, 556.69473355080891, 584.94461019470452, 610.14455734546561, 657.34047332941111]\n"
     ]
    }
   ],
   "source": [
    "armodel_reject_score_fix_06_04 = get_pred_armodel(rf_ar_fix_04,df_ar_score_now_drop,'pass','2017-06-20','2017-06-30')\n",
    "print(get_cuts_num(cuts_off_array(armodel_reject_score_fix_06_04,cuts2)))\n",
    "print(get_cuts_mean(cuts_off_array(armodel_reject_score_fix_06_04,cuts2)))"
   ]
  },
  {
   "cell_type": "code",
   "execution_count": 78,
   "metadata": {},
   "outputs": [
    {
     "name": "stdout",
     "output_type": "stream",
     "text": [
      "[9982, 10549, 10875, 12621, 14909, 14189, 15188, 15437, 13435, 15762]\n",
      "[414.24343772323272, 444.82689011048643, 462.50704853850124, 480.42609787913909, 503.35342256720457, 529.37194727107044, 556.65803992357871, 584.94051293813038, 610.05532604866323, 657.05442027631182]\n"
     ]
    }
   ],
   "source": [
    "armodel_reject_score_fix_06_04 = get_pred_armodel(rf_ar_fix_04,df_ar_score_now_drop,'all','2017-06-20','2017-06-30')\n",
    "print(get_cuts_num(cuts_off_array(armodel_reject_score_fix_06_04,cuts2)))\n",
    "print(get_cuts_mean(cuts_off_array(armodel_reject_score_fix_06_04,cuts2)))"
   ]
  },
  {
   "cell_type": "code",
   "execution_count": 108,
   "metadata": {},
   "outputs": [
    {
     "name": "stdout",
     "output_type": "stream",
     "text": [
      "[790, 686, 649, 635, 545, 521, 487, 437, 316, 203]\n",
      "[413.85357295054126, 444.93473039622478, 462.09032681264404, 480.02000670496369, 503.34305832634033, 529.17261972166682, 556.00080106591361, 585.2259775900767, 609.36393265937943, 652.28530878741572]\n"
     ]
    }
   ],
   "source": [
    "armodel_reject_score_fix_06_04 = get_pred_armodel(rf_ar_fix_04,df_reference_pass06_drop,'all','2017-06-20','2017-06-30')\n",
    "print(get_cuts_num(cuts_off_array(armodel_reject_score_fix_06_04,cuts2)))\n",
    "print(get_cuts_mean(cuts_off_array(armodel_reject_score_fix_06_04,cuts2)))"
   ]
  },
  {
   "cell_type": "code",
   "execution_count": null,
   "metadata": {},
   "outputs": [],
   "source": []
  }
 ],
 "metadata": {
  "kernelspec": {
   "display_name": "Python 3.5",
   "language": "python",
   "name": "py35"
  },
  "language_info": {
   "codemirror_mode": {
    "name": "ipython",
    "version": 3
   },
   "file_extension": ".py",
   "mimetype": "text/x-python",
   "name": "python",
   "nbconvert_exporter": "python",
   "pygments_lexer": "ipython3",
   "version": "3.5.3"
  }
 },
 "nbformat": 4,
 "nbformat_minor": 2
}
