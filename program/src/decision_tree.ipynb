{
 "cells": [
  {
   "cell_type": "code",
   "execution_count": 44,
   "metadata": {},
   "outputs": [],
   "source": [
    "import pickle\n",
    "import pandas as pd\n",
    "import re \n",
    "from sklearn import tree\n",
    "from IPython.display import Image \n",
    "import sys\n",
    "sys.path.append('/notebook/shared/extra/')\n",
    "import pydotplus\n",
    "%matplotlib inline"
   ]
  },
  {
   "cell_type": "code",
   "execution_count": 2,
   "metadata": {},
   "outputs": [],
   "source": [
    "df = pd.read_csv('planx_randomforest.csv')"
   ]
  },
  {
   "cell_type": "raw",
   "metadata": {},
   "source": [
    "变量处理"
   ]
  },
  {
   "cell_type": "code",
   "execution_count": 10,
   "metadata": {},
   "outputs": [],
   "source": [
    "def convert_str_num(str):\n",
    "    str = str.strip()\n",
    "    if str.isalpha() or len(str) == 0:\n",
    "        return 0\n",
    "    else:\n",
    "        return int(re.findall(\"\\d+\",str)[0])\n",
    "def convert_reject(str):\n",
    "    list = [\"reject\",'reference','pass']\n",
    "    if str in list:\n",
    "        out = list.index(str)+1\n",
    "    else:\n",
    "        out = 0\n",
    "    return out\n",
    "def get_Y_X(df):\n",
    "    df_copy = df.copy()\n",
    "    df_Y = df_copy['bad'].to_frame(name = 'Y')\n",
    "    df_copy.drop(['bad'],axis = 1,inplace = True)\n",
    "    df_X = df_copy\n",
    "    return df_Y,df_X\n",
    "def map_X(df_x):\n",
    "    df_x['merged_2_rate_level'] = df_x['merged_2_rate_level'].map(convert_str_num)\n",
    "    df_x['merged_2_level'] = df_x['merged_2_level'].map(convert_str_num)\n",
    "    df_x['merged_level'] = df_x['merged_level'].map(convert_str_num)\n",
    "    df_x['telecom_2_level'] = df_x['telecom_2_level'].map(convert_str_num)\n",
    "    df_x['alipay_level'] = df_x['alipay_level'].map(convert_str_num)\n",
    "    df_x['merged_verdict'] = df_x['merged_verdict'].map(convert_reject)\n",
    "    df_x['merged_2_verdict'] = df_x['merged_2_verdict'].map(convert_reject)\n",
    "    df_x['thirdparty_reg_cutoff_verdict'] = df_x['thirdparty_reg_cutoff_verdict'].map(convert_reject)\n",
    "    df_x['thirdparty_apply_cutoff_verdict'] = df_x['thirdparty_apply_cutoff_verdict'].map(convert_reject)\n",
    "    return df_x"
   ]
  },
  {
   "cell_type": "raw",
   "metadata": {},
   "source": [
    "构造决策树"
   ]
  },
  {
   "cell_type": "code",
   "execution_count": 85,
   "metadata": {},
   "outputs": [],
   "source": [
    "def get_decision_tree_image(df):\n",
    "    y,X= get_Y_X(df)\n",
    "    X = map_X(X)\n",
    "    clf = tree.DecisionTreeClassifier(max_depth = 6,random_state=520)\n",
    "    clf = clf.fit(X.values, y.values.ravel())\n",
    "    #sprint( list(X.columns))\n",
    "    with open(\"tree_classifier.dot\", \"w\") as f:\n",
    "        f = tree.export_graphviz(clf, out_file=f,\n",
    "                        feature_names = list(X.columns),\n",
    "                        filled = True, rounded = True, special_characters = True)\n",
    "    '''dot_data = tree.export_graphviz(clf, out_file=None,\n",
    "                        feature_names = X.columns,\n",
    "                        filled = True,rounded = True,special_characters = True)\n",
    "    with open ('dot_data.pkl','wb') as f:\n",
    "        pickle.dump(dot_data,f)\n",
    "    #Image(graph.create_png())'''\n",
    "    '''dot_data = tree.export_graphviz(clf, out_file=None) \n",
    "    graph = pydotplus.graph_from_dot_data(dot_data) \n",
    "    graph.write_pdf(\"out.pdf\")'''\n",
    "    return clf"
   ]
  },
  {
   "cell_type": "code",
   "execution_count": 86,
   "metadata": {},
   "outputs": [
    {
     "data": {
      "text/plain": [
       "DecisionTreeClassifier(class_weight=None, criterion='gini', max_depth=6,\n",
       "            max_features=None, max_leaf_nodes=None,\n",
       "            min_impurity_split=1e-07, min_samples_leaf=1,\n",
       "            min_samples_split=2, min_weight_fraction_leaf=0.0,\n",
       "            presort=False, random_state=520, splitter='best')"
      ]
     },
     "execution_count": 86,
     "metadata": {},
     "output_type": "execute_result"
    }
   ],
   "source": [
    "get_decision_tree_image(df)"
   ]
  },
  {
   "cell_type": "code",
   "execution_count": null,
   "metadata": {},
   "outputs": [],
   "source": []
  }
 ],
 "metadata": {
  "kernelspec": {
   "display_name": "Python 3.5",
   "language": "python",
   "name": "py35"
  },
  "language_info": {
   "codemirror_mode": {
    "name": "ipython",
    "version": 3
   },
   "file_extension": ".py",
   "mimetype": "text/x-python",
   "name": "python",
   "nbconvert_exporter": "python",
   "pygments_lexer": "ipython3",
   "version": "3.5.3"
  }
 },
 "nbformat": 4,
 "nbformat_minor": 2
}
