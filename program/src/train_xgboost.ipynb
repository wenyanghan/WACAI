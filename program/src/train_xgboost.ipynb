{
 "cells": [
  {
   "cell_type": "code",
   "execution_count": 301,
   "metadata": {},
   "outputs": [],
   "source": [
    "import pandas as pd\n",
    "import numpy as np\n",
    "import xgboost as xgb\n",
    "#from xgboost.sklearn import XGBClassifier\n",
    "from sklearn import cross_validation, metrics   #Additional scklearn functions\n",
    "from sklearn.model_selection import GridSearchCV  #Perforing grid search\n",
    "import matplotlib.pylab as plt\n",
    "%matplotlib inline\n",
    "from matplotlib.pylab import rcParams\n",
    "from sklearn import preprocessing\n",
    "import scipy\n",
    "from impala.dbapi import connect\n",
    "from impala.util import as_pandas\n",
    "from sklearn.cross_validation import StratifiedKFold\n",
    "from sklearn.linear_model import LogisticRegression\n",
    "import scipy.stats.stats as stats\n",
    "rcParams['figure.figsize'] = 12, 4\n",
    "target = 'labels'\n",
    "#change add some score\n",
    "predictors = ['phone_gray_score','honeypot_model_score','contacts_relatives_redline_cnt','contacts_loankeywords_redline_cnt','tongdun_union_score','n_91applytimes_cnt','n_91rejectprecent','ant_score','tc_loankeywords_callcnt_last1m','tc_collection_callcnt_last3m','tc_relatives_callcnt_lasthalfyear']"
   ]
  },
  {
   "cell_type": "markdown",
   "metadata": {},
   "source": [
    "获取数据"
   ]
  },
  {
   "cell_type": "code",
   "execution_count": 107,
   "metadata": {},
   "outputs": [],
   "source": [
    "def get_data(sql):\n",
    "    conn = connect(host = '10.1.169.3',port = 10000, auth_mechanism = 'PLAIN')\n",
    "    cursor = conn.cursor()\n",
    "    cursor.execute(sql)\n",
    "    df = as_pandas(cursor)\n",
    "    return df\n",
    "def get_df_time(df,start,end):\n",
    "    df_copy = df.copy()\n",
    "    df_copy = df_copy[(df_copy.dt >=start) & (df_copy.dt <end)]\n",
    "    return df_copy\n",
    "def get_and_fix_train(df,start,end):\n",
    "    train = get_df_time(df,start,end)\n",
    "    train.fillna(-999.0,inplace=True)\n",
    "    train[predictors] = train[predictors].apply(pd.to_numeric,errors='ignore')\n",
    "    return train"
   ]
  },
  {
   "cell_type": "code",
   "execution_count": 72,
   "metadata": {},
   "outputs": [],
   "source": [
    "%store -r df_all_train\n",
    "%store -r df_ar_train\n",
    "%store -r df_ar_score_before\n",
    "%store -r df_ar_score_now"
   ]
  },
  {
   "cell_type": "code",
   "execution_count": 321,
   "metadata": {},
   "outputs": [],
   "source": [
    "df_ar_train_07 = get_data('select * from tmp.cebai_armodel_20170525_20170720_labels')\n",
    "df_ar_score_07 = get_data('select * from tmp.cebai_armodel_20170525_20170720')"
   ]
  },
  {
   "cell_type": "code",
   "execution_count": 322,
   "metadata": {},
   "outputs": [
    {
     "name": "stdout",
     "output_type": "stream",
     "text": [
      "130281\n",
      "703619\n"
     ]
    }
   ],
   "source": [
    "print(len(df_ar_train_07))\n",
    "print(len(df_ar_score_07))"
   ]
  },
  {
   "cell_type": "raw",
   "metadata": {},
   "source": [
    "缺失值分析"
   ]
  },
  {
   "cell_type": "code",
   "execution_count": 196,
   "metadata": {},
   "outputs": [],
   "source": [
    "def missing_values_table(df): \n",
    "        mis_val = df.isnull().sum()\n",
    "        mis_val_percent = 100 * df.isnull().sum()/len(df)\n",
    "        mis_val_table = pd.concat([mis_val, mis_val_percent], axis=1)\n",
    "        mis_val_table_ren_columns = mis_val_table.rename(\n",
    "        columns = {0 : 'Missing Values', 1 : '% of Total Values'})\n",
    "        return mis_val_table_ren_columns"
   ]
  },
  {
   "cell_type": "code",
   "execution_count": 325,
   "metadata": {},
   "outputs": [],
   "source": [
    "train = get_and_fix_train(df_ar_train_07,'2017-05-25','2017-06-05')"
   ]
  },
  {
   "cell_type": "code",
   "execution_count": 329,
   "metadata": {},
   "outputs": [
    {
     "name": "stdout",
     "output_type": "stream",
     "text": [
      "90865\n"
     ]
    }
   ],
   "source": [
    "print(len(train))"
   ]
  },
  {
   "cell_type": "raw",
   "metadata": {},
   "source": [
    "评分卡"
   ]
  },
  {
   "cell_type": "code",
   "execution_count": 317,
   "metadata": {},
   "outputs": [],
   "source": [
    "# define a binning function\n",
    "def pct_rank_qcut(series, n):\n",
    "    edges = pd.Series([float(i) / n for i in range(n + 1)])\n",
    "    f = lambda x: (edges >= x).argmax()\n",
    "    return series.rank(pct=1).apply(f)\n",
    "def mono_bin(Y, X, n = 10):\n",
    "  # fill missings with -999\n",
    "  X2 = X.fillna(-999)\n",
    "  r = 0\n",
    "  while np.abs(r) < 1:\n",
    "    d1 = pd.DataFrame({\"X\": X2, \"Y\": Y, \"Bucket\":pct_rank_qcut(X2, 10)})\n",
    "    d2 = d1.groupby('Bucket', as_index = True)\n",
    "    r, p = stats.spearmanr(d2.mean().X, d2.mean().Y)\n",
    "    n = n - 1\n",
    "  d3 = pd.DataFrame(d2.min().X, columns = ['min_' + X.name])\n",
    "  d3['max_' + X.name] = d2.max().X\n",
    "  d3[Y.name] = d2.sum().Y\n",
    "  d3['total'] = d2.count().Y\n",
    "  d3[Y.name + '_rate'] = d2.mean().Y\n",
    "  d4 = (d3.sort_index(by = 'min_' + X.name)).reset_index(drop = True)\n",
    "  return d4"
   ]
  },
  {
   "cell_type": "raw",
   "metadata": {},
   "source": [
    "模型训练-----RF"
   ]
  },
  {
   "cell_type": "code",
   "execution_count": 244,
   "metadata": {},
   "outputs": [],
   "source": [
    "from scipy.stats import ks_2samp\n",
    "from sklearn.model_selection import train_test_split\n",
    "from sklearn import ensemble\n",
    "from sklearn.metrics import roc_auc_score,roc_curve\n",
    "import matplotlib.pyplot as plot\n",
    "import numpy as np\n",
    "from math import sqrt,fabs,exp\n",
    "alg_rf = ensemble.RandomForestClassifier(n_estimators = 2000,\n",
    "                            max_depth = 7,\n",
    "                            oob_score = True,\n",
    "                            random_state = 531,\n",
    "                            class_weight = 'auto')\n",
    "def rf_train(alg,rf_param,dtrain,predictors,target):\n",
    "    X = dtrain[predictors]\n",
    "    y = dtrain[target]\n",
    "    xTrain,xTest,yTrain,yTest = train_test_split(X.values,y.values.ravel(),test_size = 0.2,random_state = 520)\n",
    "    alg.fit(xTrain,yTrain)\n",
    "    print(\"online----------oob_score:%f\" % alg.oob_score_)\n",
    "    prediction = alg.predict_proba(xTest)\n",
    "    auc = roc_auc_score(yTest,prediction[:,1:2])\n",
    "    print (\"online-------AUC Score (test):%f\" % auc)\n",
    "    return alg\n",
    "def grid_search(alg,rf_param,dtrain,predictors,target):\n",
    "    X = dtrain[predictors]\n",
    "    y = dtrain[target]\n",
    "    X,y  = X.values,y.values.ravel()\n",
    "    param_test1 = {'n_estimators':np.linspace(10,200,50,dtype = int),'max_depth':np.linspace(1,11,9,dtype = int)}\n",
    "    gsearch1 = GridSearchCV(estimator = alg , \n",
    "                       param_grid = param_test1, scoring='roc_auc',cv=5)\n",
    "    gsearch1.fit(X,y)\n",
    "    print(gsearch1.grid_scores_)\n",
    "    print('***********************')\n",
    "    print(gsearch1.best_params_)\n",
    "    print('***********************')\n",
    "    print(gsearch1.best_score_)"
   ]
  },
  {
   "cell_type": "code",
   "execution_count": 175,
   "metadata": {},
   "outputs": [
    {
     "name": "stdout",
     "output_type": "stream",
     "text": [
      "online----------oob_score:0.609159\n",
      "online-------AUC Score (test):0.615985\n"
     ]
    }
   ],
   "source": [
    "rf = rf_train(alg_rf,rf_param,train,predictors,target)"
   ]
  },
  {
   "cell_type": "markdown",
   "metadata": {},
   "source": [
    "模型训练-----XGB"
   ]
  },
  {
   "cell_type": "code",
   "execution_count": 245,
   "metadata": {},
   "outputs": [],
   "source": [
    "def modelfit(alg, dtrain, predictors,useTrainCV=True, cv_folds=5, early_stopping_rounds=50):\n",
    "    X = dtrain[predictors]\n",
    "    y = dtrain[target]\n",
    "    if useTrainCV:\n",
    "        xgb_param = alg.get_xgb_params()\n",
    "        xgtrain = xgb.DMatrix(X.values, label=y.values)\n",
    "        cvresult = xgb.cv(xgb_param, xgtrain, num_boost_round=alg.get_params()['n_estimators'], nfold=cv_folds,\n",
    "            metrics='auc', early_stopping_rounds=early_stopping_rounds, verbose_eval= False)\n",
    "        alg.set_params(n_estimators=cvresult.shape[0])\n",
    "    alg.fit(X, y,eval_metric='auc')\n",
    "    dtrain_predictions = alg.predict(X)\n",
    "    dtrain_predprob = alg.predict_proba(X)[:,1] \n",
    "    print('the best n_estimators is %d ' % alg.get_xgb_params()['n_estimators'])\n",
    "    print (\"\\nModel Report\")\n",
    "    print (\"Accuracy : %.4g\" % metrics.accuracy_score(y.values, dtrain_predictions))\n",
    "    print (\"AUC Score (Train): %f\" % metrics.roc_auc_score(y, dtrain_predprob))             \n",
    "    feat_imp = pd.Series(alg.booster().get_fscore()).sort_values(ascending=False)\n",
    "    feat_imp.plot(kind='bar', title='Feature Importances')\n",
    "    plt.ylabel('Feature Importance Score')\n",
    "    return alg"
   ]
  },
  {
   "cell_type": "code",
   "execution_count": 266,
   "metadata": {},
   "outputs": [],
   "source": [
    "fixed_parameters = {'learning_rate':0.1,\n",
    "            'n_estimators':63,\n",
    "            'max_depth':5,\n",
    "            'min_child_weight':1,\n",
    "            'gamma':0.2,\n",
    "            'subsample':0.8,\n",
    "            'colsample_bytree':0.9,\n",
    "            'objective':'binary:logistic',\n",
    "            'nthread' :1,\n",
    "            'scale_pos_weight':1,\n",
    "            'seed':27}\n",
    "def train_xgb(train):\n",
    "    xgb1 = xgb.XGBClassifier(\n",
    "        learning_rate =0.01,\n",
    "        n_estimators=3000,\n",
    "        max_depth=5,\n",
    "        min_child_weight=1,\n",
    "        gamma=0.2,\n",
    "        subsample=0.8,\n",
    "        colsample_bytree=0.9,\n",
    "        objective= 'binary:logistic',\n",
    "        nthread=4,\n",
    "        scale_pos_weight=1,\n",
    "        seed=27  ,\n",
    "        reg_alpha = 0.005)\n",
    "    xgb_out = modelfit(xgb1, train, predictors)\n",
    "    return xgb_out"
   ]
  },
  {
   "cell_type": "code",
   "execution_count": 130,
   "metadata": {},
   "outputs": [
    {
     "name": "stdout",
     "output_type": "stream",
     "text": [
      "the best n_estimators is 1188 \n",
      "\n",
      "Model Report\n",
      "Accuracy : 0.9214\n",
      "AUC Score (Train): 0.661736\n"
     ]
    },
    {
     "data": {
      "image/png": "[encoded data removed]",
      "text/plain": [
       "<matplotlib.figure.Figure at 0x7f84b22247b8>"
      ]
     },
     "metadata": {},
     "output_type": "display_data"
    }
   ],
   "source": [
    "est = train_xgb(train)"
   ]
  },
  {
   "cell_type": "code",
   "execution_count": 201,
   "metadata": {},
   "outputs": [],
   "source": [
    "import pickle\n",
    "xgb_pk = pickle.dump(est, open(\"cb_xgb_0205.pkl\", 'wb'))\n",
    "#est.save_model('cb_xgb_0205.model')"
   ]
  },
  {
   "cell_type": "code",
   "execution_count": 326,
   "metadata": {},
   "outputs": [
    {
     "name": "stdout",
     "output_type": "stream",
     "text": [
      "the best n_estimators is 921 \n",
      "\n",
      "Model Report\n",
      "Accuracy : 0.8623\n",
      "AUC Score (Train): 0.698354\n"
     ]
    },
    {
     "data": {
      "image/png": "[encoded data removed]",
      "text/plain": [
       "<matplotlib.figure.Figure at 0x7f845da3a358>"
      ]
     },
     "metadata": {},
     "output_type": "display_data"
    }
   ],
   "source": [
    "est1 = train_xgb(train)"
   ]
  },
  {
   "cell_type": "code",
   "execution_count": 249,
   "metadata": {},
   "outputs": [],
   "source": [
    "def Tune_max_depth_and_min_child_weight(dtrain):\n",
    "    param_test1 = { 'max_depth':np.arange(3,10,2,dtype = int ), 'min_child_weight':np.arange(1,6,2,dtype = int )}\n",
    "    gsearch1 = GridSearchCV(estimator = xgb.XGBClassifier( fixed_parameters), param_grid = param_test1, scoring='roc_auc',n_jobs= 1, cv=5)\n",
    "    gsearch1.fit(dtrain[predictors],dtrain[target])\n",
    "    print(gsearch1.cv_results_)\n",
    "    print('***********************')\n",
    "    print(gsearch1.best_params_)\n",
    "    print('***********************')\n",
    "    print(gsearch1.best_score_)"
   ]
  },
  {
   "cell_type": "code",
   "execution_count": 250,
   "metadata": {},
   "outputs": [
    {
     "name": "stdout",
     "output_type": "stream",
     "text": [
      "{'mean_test_score': array([ 0.64741747,  0.64811829,  0.64801035,  0.64855084,  0.64733038,\n",
      "        0.64851448,  0.64345776,  0.64308442,  0.64267813,  0.63640485,\n",
      "        0.63504701,  0.63456288]), 'std_score_time': array([ 0.00047701,  0.00067098,  0.00051623,  0.01696854,  0.00056648,\n",
      "        0.00110923,  0.00083633,  0.00089625,  0.00182209,  0.00101835,\n",
      "        0.00043826,  0.00310026]), 'mean_score_time': array([ 0.02990417,  0.02983871,  0.03025126,  0.05575514,  0.0421834 ,\n",
      "        0.04205723,  0.05159979,  0.05214486,  0.05273695,  0.06419954,\n",
      "        0.0639535 ,  0.06691232]), 'std_train_score': array([ 0.00114995,  0.00116457,  0.00113966,  0.00264488,  0.00229   ,\n",
      "        0.00181151,  0.00143955,  0.0036791 ,  0.00290077,  0.00380343,\n",
      "        0.00339016,  0.00482053]), 'mean_train_score': array([ 0.66642248,  0.66662985,  0.66641519,  0.70463293,  0.70339114,\n",
      "        0.70212045,  0.7741877 ,  0.76641676,  0.76201638,  0.86723738,\n",
      "        0.85015953,  0.83873357]), 'std_test_score': array([ 0.00485253,  0.00493586,  0.00464055,  0.00508012,  0.0051173 ,\n",
      "        0.00380413,  0.00528221,  0.00524389,  0.00439306,  0.00500761,\n",
      "        0.00539386,  0.00412604]), 'std_fit_time': array([ 0.00773829,  0.02401457,  0.0060635 ,  0.0117871 ,  0.02093366,\n",
      "        0.03282784,  0.01976777,  0.03650834,  0.0380583 ,  0.05355931,\n",
      "        0.08649072,  0.05910834]), 'split4_train_score': array([ 0.66489231,  0.66498404,  0.66484501,  0.70305619,  0.70128677,\n",
      "        0.70079687,  0.77448619,  0.76763164,  0.76101881,  0.87335007,\n",
      "        0.85232514,  0.84521068]), 'param_max_depth': masked_array(data = [3 3 3 5 5 5 7 7 7 9 9 9],\n",
      "             mask = [False False False False False False False False False False False False],\n",
      "       fill_value = ?)\n",
      ", 'rank_test_score': array([ 5,  3,  4,  1,  6,  2,  7,  8,  9, 10, 11, 12], dtype=int32), 'param_min_child_weight': masked_array(data = [1 3 5 1 3 5 1 3 5 1 3 5],\n",
      "             mask = [False False False False False False False False False False False False],\n",
      "       fill_value = ?)\n",
      ", 'split1_test_score': array([ 0.64977709,  0.6505205 ,  0.65054931,  0.65100628,  0.64779519,\n",
      "        0.64921548,  0.64759686,  0.64570298,  0.64476119,  0.63713594,\n",
      "        0.63549398,  0.63838923]), 'split2_train_score': array([ 0.66832635,  0.66823723,  0.66751753,  0.70961047,  0.70649715,\n",
      "        0.70410298,  0.77573878,  0.77276089,  0.76534296,  0.86923688,\n",
      "        0.85581094,  0.84067093]), 'split2_test_score': array([ 0.64305967,  0.64326959,  0.6432478 ,  0.64050517,  0.64090633,\n",
      "        0.64275955,  0.63497405,  0.63486465,  0.63596634,  0.6293902 ,\n",
      "        0.6281573 ,  0.62756846]), 'params': ({'min_child_weight': 1, 'max_depth': 3}, {'min_child_weight': 3, 'max_depth': 3}, {'min_child_weight': 5, 'max_depth': 3}, {'min_child_weight': 1, 'max_depth': 5}, {'min_child_weight': 3, 'max_depth': 5}, {'min_child_weight': 5, 'max_depth': 5}, {'min_child_weight': 1, 'max_depth': 7}, {'min_child_weight': 3, 'max_depth': 7}, {'min_child_weight': 5, 'max_depth': 7}, {'min_child_weight': 1, 'max_depth': 9}, {'min_child_weight': 3, 'max_depth': 9}, {'min_child_weight': 5, 'max_depth': 9}), 'split0_test_score': array([ 0.64029147,  0.64125695,  0.64191714,  0.64477926,  0.64249803,\n",
      "        0.64571256,  0.63949395,  0.63947318,  0.63921671,  0.6320512 ,\n",
      "        0.6303008 ,  0.63332602]), 'split0_train_score': array([ 0.66691863,  0.66763315,  0.66789539,  0.70475841,  0.70586325,\n",
      "        0.704292  ,  0.77399088,  0.7657981 ,  0.76556603,  0.86674922,\n",
      "        0.84811171,  0.83917773]), 'split4_test_score': array([ 0.65260082,  0.653806  ,  0.65401717,  0.6535708 ,  0.65470967,\n",
      "        0.65258073,  0.64731488,  0.64963931,  0.64781887,  0.64148748,\n",
      "        0.64315921,  0.63903764]), 'split1_train_score': array([ 0.66609075,  0.66623871,  0.66614358,  0.70373056,  0.70165876,\n",
      "        0.70170618,  0.77156382,  0.76208398,  0.75882027,  0.86251264,\n",
      "        0.84724285,  0.83036432]), 'split3_train_score': array([ 0.66588438,  0.66605614,  0.66567442,  0.70200903,  0.70164976,\n",
      "        0.6997042 ,  0.77515885,  0.76380919,  0.75933385,  0.86433811,\n",
      "        0.84730699,  0.8382442 ]), 'mean_fit_time': array([ 1.16202798,  1.14339561,  1.16892233,  1.91436577,  1.9264535 ,\n",
      "        1.90286465,  2.73729992,  2.76393576,  2.76752357,  3.70711575,\n",
      "        3.64233017,  3.67405853]), 'split3_test_score': array([ 0.65135829,  0.65173841,  0.65032035,  0.65289268,  0.65074267,\n",
      "        0.65230408,  0.64790909,  0.64574197,  0.64562754,  0.64195943,\n",
      "        0.63812377,  0.63449306])}\n",
      "***********************\n",
      "{'min_child_weight': 1, 'max_depth': 5}\n",
      "***********************\n",
      "0.648550837295\n"
     ]
    }
   ],
   "source": [
    "Tune_max_depth_and_min_child_weight(train)"
   ]
  },
  {
   "cell_type": "code",
   "execution_count": 258,
   "metadata": {},
   "outputs": [],
   "source": [
    "def Tune_gamma(train):\n",
    "    param_test3 = {'gamma':[i/10.0 for i in range(0,5)]}\n",
    "    gsearch3 = GridSearchCV(estimator = xgb.XGBClassifier( learning_rate =0.1,\n",
    "        n_estimators=63,\n",
    "        max_depth=5,\n",
    "        min_child_weight=1,\n",
    "        gamma=0,\n",
    "        subsample=0.8,\n",
    "        colsample_bytree=0.9,\n",
    "        objective= 'binary:logistic',\n",
    "        nthread=4,\n",
    "        scale_pos_weight=1,\n",
    "        seed=27 ), \n",
    " param_grid = param_test3, scoring='roc_auc',n_jobs= 1,iid=False, cv=5)\n",
    "    gsearch3.fit(train[predictors],train[target])\n",
    "    print(gsearch3.cv_results_)\n",
    "    print('***********************')\n",
    "    print(gsearch3.best_params_)\n",
    "    print('***********************')\n",
    "    print(gsearch3.best_score_)"
   ]
  },
  {
   "cell_type": "code",
   "execution_count": 259,
   "metadata": {},
   "outputs": [
    {
     "name": "stdout",
     "output_type": "stream",
     "text": [
      "{'mean_test_score': array([ 0.64946479,  0.64931827,  0.64960185,  0.64929858,  0.64922699]), 'rank_test_score': array([2, 3, 1, 4, 5], dtype=int32), 'mean_score_time': array([ 0.0310792 ,  0.03220563,  0.03095517,  0.03099933,  0.03179173]), 'param_gamma': masked_array(data = [0.0 0.1 0.2 0.3 0.4],\n",
      "             mask = [False False False False False],\n",
      "       fill_value = ?)\n",
      ", 'std_score_time': array([ 0.00039362,  0.00088325,  0.00051983,  0.00074088,  0.00187471]), 'split3_test_score': array([ 0.65394596,  0.65301065,  0.65319731,  0.65384497,  0.65384418]), 'split2_train_score': array([ 0.69333819,  0.69333835,  0.69322229,  0.6930754 ,  0.69326351]), 'split2_test_score': array([ 0.64200864,  0.64201344,  0.64197457,  0.64079462,  0.64100968]), 'params': ({'gamma': 0.0}, {'gamma': 0.1}, {'gamma': 0.2}, {'gamma': 0.3}, {'gamma': 0.4}), 'mean_train_score': array([ 0.6916752 ,  0.69155685,  0.69165447,  0.69137949,  0.69185716]), 'std_fit_time': array([ 0.00945866,  0.01451177,  0.01001437,  0.01038714,  0.03889436]), 'std_test_score': array([ 0.00515237,  0.00501817,  0.00516553,  0.00553786,  0.00556773]), 'split0_test_score': array([ 0.64496871,  0.64495428,  0.64495428,  0.64486748,  0.64436451]), 'split0_train_score': array([ 0.69180958,  0.69180149,  0.69180149,  0.69173219,  0.69206223]), 'split4_test_score': array([ 0.6553141 ,  0.65531395,  0.65517546,  0.65515622,  0.65528913]), 'split1_train_score': array([ 0.69156503,  0.69105892,  0.69170341,  0.69048396,  0.69217328]), 'split3_train_score': array([ 0.69033296,  0.6902531 ,  0.69029919,  0.6903595 ,  0.69036117]), 'mean_fit_time': array([ 1.40360355,  1.42011294,  1.41536312,  1.41315351,  1.39206986]), 'split1_test_score': array([ 0.65108655,  0.65129902,  0.65270762,  0.65182961,  0.65162743]), 'std_train_score': array([ 0.00097122,  0.00102291,  0.00094718,  0.00098596,  0.00095332]), 'split4_train_score': array([ 0.69133026,  0.69133239,  0.69124597,  0.69124638,  0.69142561])}\n",
      "***********************\n",
      "{'gamma': 0.2}\n",
      "***********************\n",
      "0.649601846682\n"
     ]
    }
   ],
   "source": [
    "Tune_gamma(train)"
   ]
  },
  {
   "cell_type": "code",
   "execution_count": 264,
   "metadata": {},
   "outputs": [],
   "source": [
    "def Tune_subsample_and_colsample_bytree(train):\n",
    "    param_test4 = { 'subsample':[i/10.0 for i in range(6,10)],\n",
    " 'colsample_bytree':[i/10.0 for i in range(6,10)]}\n",
    "    gsearch4 = GridSearchCV(estimator = xgb.XGBClassifier( fixed_parameters), \n",
    " param_grid = param_test4, scoring='roc_auc',n_jobs=4,iid=False, cv=5)\n",
    "    gsearch4.fit(train[predictors],train[target])\n",
    "    print(gsearch4.cv_results_)\n",
    "    print('***********************')\n",
    "    print(gsearch4.best_params_)\n",
    "    print('***********************')\n",
    "    print(gsearch4.best_score_)"
   ]
  },
  {
   "cell_type": "code",
   "execution_count": 265,
   "metadata": {},
   "outputs": [
    {
     "ename": "KeyboardInterrupt",
     "evalue": "",
     "output_type": "error",
     "traceback": [
      "\u001b[0;31m---------------------------------------------------------------------------\u001b[0m",
      "\u001b[0;31mKeyboardInterrupt\u001b[0m                         Traceback (most recent call last)",
      "\u001b[0;32m<ipython-input-265-9be31b632a38>\u001b[0m in \u001b[0;36m<module>\u001b[0;34m()\u001b[0m\n\u001b[0;32m----> 1\u001b[0;31m \u001b[0mTune_subsample_and_colsample_bytree\u001b[0m\u001b[0;34m(\u001b[0m\u001b[0mtrain\u001b[0m\u001b[0;34m)\u001b[0m\u001b[0;34m\u001b[0m\u001b[0m\n\u001b[0m",
      "\u001b[0;32m<ipython-input-264-aa7675d8e972>\u001b[0m in \u001b[0;36mTune_subsample_and_colsample_bytree\u001b[0;34m(train)\u001b[0m\n\u001b[1;32m      4\u001b[0m     gsearch4 = GridSearchCV(estimator = xgb.XGBClassifier( fixed_parameters), \n\u001b[1;32m      5\u001b[0m  param_grid = param_test4, scoring='roc_auc',n_jobs=4,iid=False, cv=5)\n\u001b[0;32m----> 6\u001b[0;31m     \u001b[0mgsearch4\u001b[0m\u001b[0;34m.\u001b[0m\u001b[0mfit\u001b[0m\u001b[0;34m(\u001b[0m\u001b[0mtrain\u001b[0m\u001b[0;34m[\u001b[0m\u001b[0mpredictors\u001b[0m\u001b[0;34m]\u001b[0m\u001b[0;34m,\u001b[0m\u001b[0mtrain\u001b[0m\u001b[0;34m[\u001b[0m\u001b[0mtarget\u001b[0m\u001b[0;34m]\u001b[0m\u001b[0;34m)\u001b[0m\u001b[0;34m\u001b[0m\u001b[0m\n\u001b[0m\u001b[1;32m      7\u001b[0m     \u001b[0mprint\u001b[0m\u001b[0;34m(\u001b[0m\u001b[0mgsearch4\u001b[0m\u001b[0;34m.\u001b[0m\u001b[0mcv_results_\u001b[0m\u001b[0;34m)\u001b[0m\u001b[0;34m\u001b[0m\u001b[0m\n\u001b[1;32m      8\u001b[0m     \u001b[0mprint\u001b[0m\u001b[0;34m(\u001b[0m\u001b[0;34m'***********************'\u001b[0m\u001b[0;34m)\u001b[0m\u001b[0;34m\u001b[0m\u001b[0m\n",
      "\u001b[0;32m/data/program/miniconda/envs/py35/lib/python3.5/site-packages/sklearn/model_selection/_search.py\u001b[0m in \u001b[0;36mfit\u001b[0;34m(self, X, y, groups)\u001b[0m\n\u001b[1;32m    943\u001b[0m             \u001b[0mtrain\u001b[0m\u001b[0;34m/\u001b[0m\u001b[0mtest\u001b[0m \u001b[0mset\u001b[0m\u001b[0;34m.\u001b[0m\u001b[0;34m\u001b[0m\u001b[0m\n\u001b[1;32m    944\u001b[0m         \"\"\"\n\u001b[0;32m--> 945\u001b[0;31m         \u001b[0;32mreturn\u001b[0m \u001b[0mself\u001b[0m\u001b[0;34m.\u001b[0m\u001b[0m_fit\u001b[0m\u001b[0;34m(\u001b[0m\u001b[0mX\u001b[0m\u001b[0;34m,\u001b[0m \u001b[0my\u001b[0m\u001b[0;34m,\u001b[0m \u001b[0mgroups\u001b[0m\u001b[0;34m,\u001b[0m \u001b[0mParameterGrid\u001b[0m\u001b[0;34m(\u001b[0m\u001b[0mself\u001b[0m\u001b[0;34m.\u001b[0m\u001b[0mparam_grid\u001b[0m\u001b[0;34m)\u001b[0m\u001b[0;34m)\u001b[0m\u001b[0;34m\u001b[0m\u001b[0m\n\u001b[0m\u001b[1;32m    946\u001b[0m \u001b[0;34m\u001b[0m\u001b[0m\n\u001b[1;32m    947\u001b[0m \u001b[0;34m\u001b[0m\u001b[0m\n",
      "\u001b[0;32m/data/program/miniconda/envs/py35/lib/python3.5/site-packages/sklearn/model_selection/_search.py\u001b[0m in \u001b[0;36m_fit\u001b[0;34m(self, X, y, groups, parameter_iterable)\u001b[0m\n\u001b[1;32m    562\u001b[0m                                   \u001b[0mreturn_times\u001b[0m\u001b[0;34m=\u001b[0m\u001b[0;32mTrue\u001b[0m\u001b[0;34m,\u001b[0m \u001b[0mreturn_parameters\u001b[0m\u001b[0;34m=\u001b[0m\u001b[0;32mTrue\u001b[0m\u001b[0;34m,\u001b[0m\u001b[0;34m\u001b[0m\u001b[0m\n\u001b[1;32m    563\u001b[0m                                   error_score=self.error_score)\n\u001b[0;32m--> 564\u001b[0;31m           \u001b[0;32mfor\u001b[0m \u001b[0mparameters\u001b[0m \u001b[0;32min\u001b[0m \u001b[0mparameter_iterable\u001b[0m\u001b[0;34m\u001b[0m\u001b[0m\n\u001b[0m\u001b[1;32m    565\u001b[0m           for train, test in cv_iter)\n\u001b[1;32m    566\u001b[0m \u001b[0;34m\u001b[0m\u001b[0m\n",
      "\u001b[0;32m/data/program/miniconda/envs/py35/lib/python3.5/site-packages/sklearn/externals/joblib/parallel.py\u001b[0m in \u001b[0;36m__call__\u001b[0;34m(self, iterable)\u001b[0m\n\u001b[1;32m    766\u001b[0m                 \u001b[0;31m# consumption.\u001b[0m\u001b[0;34m\u001b[0m\u001b[0;34m\u001b[0m\u001b[0m\n\u001b[1;32m    767\u001b[0m                 \u001b[0mself\u001b[0m\u001b[0;34m.\u001b[0m\u001b[0m_iterating\u001b[0m \u001b[0;34m=\u001b[0m \u001b[0;32mFalse\u001b[0m\u001b[0;34m\u001b[0m\u001b[0m\n\u001b[0;32m--> 768\u001b[0;31m             \u001b[0mself\u001b[0m\u001b[0;34m.\u001b[0m\u001b[0mretrieve\u001b[0m\u001b[0;34m(\u001b[0m\u001b[0;34m)\u001b[0m\u001b[0;34m\u001b[0m\u001b[0m\n\u001b[0m\u001b[1;32m    769\u001b[0m             \u001b[0;31m# Make sure that we get a last message telling us we are done\u001b[0m\u001b[0;34m\u001b[0m\u001b[0;34m\u001b[0m\u001b[0m\n\u001b[1;32m    770\u001b[0m             \u001b[0melapsed_time\u001b[0m \u001b[0;34m=\u001b[0m \u001b[0mtime\u001b[0m\u001b[0;34m.\u001b[0m\u001b[0mtime\u001b[0m\u001b[0;34m(\u001b[0m\u001b[0;34m)\u001b[0m \u001b[0;34m-\u001b[0m \u001b[0mself\u001b[0m\u001b[0;34m.\u001b[0m\u001b[0m_start_time\u001b[0m\u001b[0;34m\u001b[0m\u001b[0m\n",
      "\u001b[0;32m/data/program/miniconda/envs/py35/lib/python3.5/site-packages/sklearn/externals/joblib/parallel.py\u001b[0m in \u001b[0;36mretrieve\u001b[0;34m(self)\u001b[0m\n\u001b[1;32m    717\u001b[0m                     \u001b[0mensure_ready\u001b[0m \u001b[0;34m=\u001b[0m \u001b[0mself\u001b[0m\u001b[0;34m.\u001b[0m\u001b[0m_managed_backend\u001b[0m\u001b[0;34m\u001b[0m\u001b[0m\n\u001b[1;32m    718\u001b[0m                     \u001b[0mbackend\u001b[0m\u001b[0;34m.\u001b[0m\u001b[0mabort_everything\u001b[0m\u001b[0;34m(\u001b[0m\u001b[0mensure_ready\u001b[0m\u001b[0;34m=\u001b[0m\u001b[0mensure_ready\u001b[0m\u001b[0;34m)\u001b[0m\u001b[0;34m\u001b[0m\u001b[0m\n\u001b[0;32m--> 719\u001b[0;31m                 \u001b[0;32mraise\u001b[0m \u001b[0mexception\u001b[0m\u001b[0;34m\u001b[0m\u001b[0m\n\u001b[0m\u001b[1;32m    720\u001b[0m \u001b[0;34m\u001b[0m\u001b[0m\n\u001b[1;32m    721\u001b[0m     \u001b[0;32mdef\u001b[0m \u001b[0m__call__\u001b[0m\u001b[0;34m(\u001b[0m\u001b[0mself\u001b[0m\u001b[0;34m,\u001b[0m \u001b[0miterable\u001b[0m\u001b[0;34m)\u001b[0m\u001b[0;34m:\u001b[0m\u001b[0;34m\u001b[0m\u001b[0m\n",
      "\u001b[0;32m/data/program/miniconda/envs/py35/lib/python3.5/site-packages/sklearn/externals/joblib/parallel.py\u001b[0m in \u001b[0;36mretrieve\u001b[0;34m(self)\u001b[0m\n\u001b[1;32m    680\u001b[0m                 \u001b[0;31m# check if timeout supported in backend future implementation\u001b[0m\u001b[0;34m\u001b[0m\u001b[0;34m\u001b[0m\u001b[0m\n\u001b[1;32m    681\u001b[0m                 \u001b[0;32mif\u001b[0m \u001b[0;34m'timeout'\u001b[0m \u001b[0;32min\u001b[0m \u001b[0mgetfullargspec\u001b[0m\u001b[0;34m(\u001b[0m\u001b[0mjob\u001b[0m\u001b[0;34m.\u001b[0m\u001b[0mget\u001b[0m\u001b[0;34m)\u001b[0m\u001b[0;34m.\u001b[0m\u001b[0margs\u001b[0m\u001b[0;34m:\u001b[0m\u001b[0;34m\u001b[0m\u001b[0m\n\u001b[0;32m--> 682\u001b[0;31m                     \u001b[0mself\u001b[0m\u001b[0;34m.\u001b[0m\u001b[0m_output\u001b[0m\u001b[0;34m.\u001b[0m\u001b[0mextend\u001b[0m\u001b[0;34m(\u001b[0m\u001b[0mjob\u001b[0m\u001b[0;34m.\u001b[0m\u001b[0mget\u001b[0m\u001b[0;34m(\u001b[0m\u001b[0mtimeout\u001b[0m\u001b[0;34m=\u001b[0m\u001b[0mself\u001b[0m\u001b[0;34m.\u001b[0m\u001b[0mtimeout\u001b[0m\u001b[0;34m)\u001b[0m\u001b[0;34m)\u001b[0m\u001b[0;34m\u001b[0m\u001b[0m\n\u001b[0m\u001b[1;32m    683\u001b[0m                 \u001b[0;32melse\u001b[0m\u001b[0;34m:\u001b[0m\u001b[0;34m\u001b[0m\u001b[0m\n\u001b[1;32m    684\u001b[0m                     \u001b[0mself\u001b[0m\u001b[0;34m.\u001b[0m\u001b[0m_output\u001b[0m\u001b[0;34m.\u001b[0m\u001b[0mextend\u001b[0m\u001b[0;34m(\u001b[0m\u001b[0mjob\u001b[0m\u001b[0;34m.\u001b[0m\u001b[0mget\u001b[0m\u001b[0;34m(\u001b[0m\u001b[0;34m)\u001b[0m\u001b[0;34m)\u001b[0m\u001b[0;34m\u001b[0m\u001b[0m\n",
      "\u001b[0;32m/data/program/miniconda/envs/py35/lib/python3.5/multiprocessing/pool.py\u001b[0m in \u001b[0;36mget\u001b[0;34m(self, timeout)\u001b[0m\n\u001b[1;32m    600\u001b[0m \u001b[0;34m\u001b[0m\u001b[0m\n\u001b[1;32m    601\u001b[0m     \u001b[0;32mdef\u001b[0m \u001b[0mget\u001b[0m\u001b[0;34m(\u001b[0m\u001b[0mself\u001b[0m\u001b[0;34m,\u001b[0m \u001b[0mtimeout\u001b[0m\u001b[0;34m=\u001b[0m\u001b[0;32mNone\u001b[0m\u001b[0;34m)\u001b[0m\u001b[0;34m:\u001b[0m\u001b[0;34m\u001b[0m\u001b[0m\n\u001b[0;32m--> 602\u001b[0;31m         \u001b[0mself\u001b[0m\u001b[0;34m.\u001b[0m\u001b[0mwait\u001b[0m\u001b[0;34m(\u001b[0m\u001b[0mtimeout\u001b[0m\u001b[0;34m)\u001b[0m\u001b[0;34m\u001b[0m\u001b[0m\n\u001b[0m\u001b[1;32m    603\u001b[0m         \u001b[0;32mif\u001b[0m \u001b[0;32mnot\u001b[0m \u001b[0mself\u001b[0m\u001b[0;34m.\u001b[0m\u001b[0mready\u001b[0m\u001b[0;34m(\u001b[0m\u001b[0;34m)\u001b[0m\u001b[0;34m:\u001b[0m\u001b[0;34m\u001b[0m\u001b[0m\n\u001b[1;32m    604\u001b[0m             \u001b[0;32mraise\u001b[0m \u001b[0mTimeoutError\u001b[0m\u001b[0;34m\u001b[0m\u001b[0m\n",
      "\u001b[0;32m/data/program/miniconda/envs/py35/lib/python3.5/multiprocessing/pool.py\u001b[0m in \u001b[0;36mwait\u001b[0;34m(self, timeout)\u001b[0m\n\u001b[1;32m    597\u001b[0m \u001b[0;34m\u001b[0m\u001b[0m\n\u001b[1;32m    598\u001b[0m     \u001b[0;32mdef\u001b[0m \u001b[0mwait\u001b[0m\u001b[0;34m(\u001b[0m\u001b[0mself\u001b[0m\u001b[0;34m,\u001b[0m \u001b[0mtimeout\u001b[0m\u001b[0;34m=\u001b[0m\u001b[0;32mNone\u001b[0m\u001b[0;34m)\u001b[0m\u001b[0;34m:\u001b[0m\u001b[0;34m\u001b[0m\u001b[0m\n\u001b[0;32m--> 599\u001b[0;31m         \u001b[0mself\u001b[0m\u001b[0;34m.\u001b[0m\u001b[0m_event\u001b[0m\u001b[0;34m.\u001b[0m\u001b[0mwait\u001b[0m\u001b[0;34m(\u001b[0m\u001b[0mtimeout\u001b[0m\u001b[0;34m)\u001b[0m\u001b[0;34m\u001b[0m\u001b[0m\n\u001b[0m\u001b[1;32m    600\u001b[0m \u001b[0;34m\u001b[0m\u001b[0m\n\u001b[1;32m    601\u001b[0m     \u001b[0;32mdef\u001b[0m \u001b[0mget\u001b[0m\u001b[0;34m(\u001b[0m\u001b[0mself\u001b[0m\u001b[0;34m,\u001b[0m \u001b[0mtimeout\u001b[0m\u001b[0;34m=\u001b[0m\u001b[0;32mNone\u001b[0m\u001b[0;34m)\u001b[0m\u001b[0;34m:\u001b[0m\u001b[0;34m\u001b[0m\u001b[0m\n",
      "\u001b[0;32m/data/program/miniconda/envs/py35/lib/python3.5/threading.py\u001b[0m in \u001b[0;36mwait\u001b[0;34m(self, timeout)\u001b[0m\n\u001b[1;32m    547\u001b[0m             \u001b[0msignaled\u001b[0m \u001b[0;34m=\u001b[0m \u001b[0mself\u001b[0m\u001b[0;34m.\u001b[0m\u001b[0m_flag\u001b[0m\u001b[0;34m\u001b[0m\u001b[0m\n\u001b[1;32m    548\u001b[0m             \u001b[0;32mif\u001b[0m \u001b[0;32mnot\u001b[0m \u001b[0msignaled\u001b[0m\u001b[0;34m:\u001b[0m\u001b[0;34m\u001b[0m\u001b[0m\n\u001b[0;32m--> 549\u001b[0;31m                 \u001b[0msignaled\u001b[0m \u001b[0;34m=\u001b[0m \u001b[0mself\u001b[0m\u001b[0;34m.\u001b[0m\u001b[0m_cond\u001b[0m\u001b[0;34m.\u001b[0m\u001b[0mwait\u001b[0m\u001b[0;34m(\u001b[0m\u001b[0mtimeout\u001b[0m\u001b[0;34m)\u001b[0m\u001b[0;34m\u001b[0m\u001b[0m\n\u001b[0m\u001b[1;32m    550\u001b[0m             \u001b[0;32mreturn\u001b[0m \u001b[0msignaled\u001b[0m\u001b[0;34m\u001b[0m\u001b[0m\n\u001b[1;32m    551\u001b[0m \u001b[0;34m\u001b[0m\u001b[0m\n",
      "\u001b[0;32m/data/program/miniconda/envs/py35/lib/python3.5/threading.py\u001b[0m in \u001b[0;36mwait\u001b[0;34m(self, timeout)\u001b[0m\n\u001b[1;32m    291\u001b[0m         \u001b[0;32mtry\u001b[0m\u001b[0;34m:\u001b[0m    \u001b[0;31m# restore state no matter what (e.g., KeyboardInterrupt)\u001b[0m\u001b[0;34m\u001b[0m\u001b[0m\n\u001b[1;32m    292\u001b[0m             \u001b[0;32mif\u001b[0m \u001b[0mtimeout\u001b[0m \u001b[0;32mis\u001b[0m \u001b[0;32mNone\u001b[0m\u001b[0;34m:\u001b[0m\u001b[0;34m\u001b[0m\u001b[0m\n\u001b[0;32m--> 293\u001b[0;31m                 \u001b[0mwaiter\u001b[0m\u001b[0;34m.\u001b[0m\u001b[0macquire\u001b[0m\u001b[0;34m(\u001b[0m\u001b[0;34m)\u001b[0m\u001b[0;34m\u001b[0m\u001b[0m\n\u001b[0m\u001b[1;32m    294\u001b[0m                 \u001b[0mgotit\u001b[0m \u001b[0;34m=\u001b[0m \u001b[0;32mTrue\u001b[0m\u001b[0;34m\u001b[0m\u001b[0m\n\u001b[1;32m    295\u001b[0m             \u001b[0;32melse\u001b[0m\u001b[0;34m:\u001b[0m\u001b[0;34m\u001b[0m\u001b[0m\n",
      "\u001b[0;31mKeyboardInterrupt\u001b[0m: "
     ]
    }
   ],
   "source": [
    "Tune_subsample_and_colsample_bytree(train)"
   ]
  },
  {
   "cell_type": "code",
   "execution_count": 49,
   "metadata": {},
   "outputs": [],
   "source": [
    "def Tuning_Regularization_Parameters(train):\n",
    "    param_test6 = { 'reg_alpha':[1e-5, 1e-2, 0.1, 1, 100]}\n",
    "    gsearch6 = GridSearchCV(estimator = xgb.XGBClassifier( fixed_parameters ), \n",
    " param_grid = param_test6, scoring='roc_auc',n_jobs=4,iid=False, cv=5)\n",
    "    gsearch6.fit(train[predictors],train[target])\n",
    "    print(gsearch6.cv_results_)\n",
    "    print('***********************')\n",
    "    print(gsearch6.best_params_)\n",
    "    print('***********************')\n",
    "    print(gsearch6.best_score_)"
   ]
  },
  {
   "cell_type": "raw",
   "metadata": {},
   "source": [
    "Reducing Learning Rate"
   ]
  },
  {
   "cell_type": "raw",
   "metadata": {},
   "source": [
    "模型训练----combine"
   ]
  },
  {
   "cell_type": "code",
   "execution_count": 237,
   "metadata": {},
   "outputs": [],
   "source": [
    "from sklearn.ensemble import RandomForestClassifier, ExtraTreesClassifier\n",
    "from sklearn.ensemble import GradientBoostingClassifier\n",
    "def logloss(attempt,actual,epsilon=1.0e-15):\n",
    "    attempt = np.clip(attempt,epsilon,1.0-epsilon)\n",
    "    return -np.mean(actual*np.log(attempt)+(1.0-actual)*np.log(1.0-attempt))\n",
    "def blend(clfs,X,y,X_submission):\n",
    "    np.random.seed(0)\n",
    "    n_folds = 10\n",
    "    verbose = True\n",
    "    shuffle = False\n",
    "    #xi pai\n",
    "    if shuffle:\n",
    "        idx = np.random.permutation(y.size)\n",
    "        X = X[idx]\n",
    "        y = y[idx]\n",
    "    skf = list(StratifiedKFold(y,n_folds))\n",
    "    print(\"Creating train and test sets for blending\")\n",
    "    dataset_blend_train = np.zeros((X.shape[0],len(clfs)))\n",
    "    dataset_blend_test = np.zeros((X_submission.shape[0],len(clfs)))\n",
    "    for j,clf in enumerate(clfs):\n",
    "        dataset_blend_test_j = np.zeros((X_submission.shape[0],len(skf)))\n",
    "        for i,(train,test) in enumerate(skf):\n",
    "            X_train = X[train]\n",
    "            y_train = y[train]\n",
    "            X_test = X[test]\n",
    "            y_test = y[test]\n",
    "            clf.fit(X_train,y_train)\n",
    "            y_submission = clf.predict_proba(X_test)[:,1]\n",
    "            dataset_blend_train[test,j] = y_submission\n",
    "            dataset_blend_test_j[:,i] = clf.predict_proba(X_submission)[:,1]\n",
    "        dataset_blend_test[:,j] = dataset_blend_test_j.mean(1)\n",
    "    clf = LogisticRegression()\n",
    "    clf.fit(dataset_blend_train,y)\n",
    "    y_submission = clf.predict_proba(dataset_blend_test)[:,1]\n",
    "    #Linear stretch of predictions to [0,1]\n",
    "    y_submission = (y_submission - y_submission.min()) / (y_submission.max() - y_submission.min())\n",
    "    #SAVING \n",
    "    return y_submission\n",
    "def model_combine_pred(train_X,train_y,test_x):\n",
    "    clfs = [RandomForestClassifier(n_estimators=200, n_jobs=-1, criterion='gini'),\n",
    "            RandomForestClassifier(n_estimators=200, n_jobs=-1, criterion='entropy'),\n",
    "            ExtraTreesClassifier(n_estimators=200, n_jobs=-1, criterion='gini'),\n",
    "            ExtraTreesClassifier(n_estimators=200, n_jobs=-1, criterion='entropy'),\n",
    "            GradientBoostingClassifier(learning_rate=0.05, subsample=0.5, max_depth=6, n_estimators=200)]\n",
    "    pred = blend(clfs,train_X,train_y,test_x)\n",
    "    return pred"
   ]
  },
  {
   "cell_type": "raw",
   "metadata": {},
   "source": [
    "KS评估"
   ]
  },
  {
   "cell_type": "code",
   "execution_count": 238,
   "metadata": {},
   "outputs": [],
   "source": [
    "def Eva_KS(model,df,start,end):\n",
    "    test = get_and_fix_train(df,start,end)\n",
    "    dtest = xgb.DMatrix(test[predictors], test[target]) \n",
    "    eval_pre = pd.Series(model.predict(dtest), index=test.index)\n",
    "    print ('Evaluation KS: '), scipy.stats.ks_2samp(eval_pre[test[target]==1], eval_pre[test[target]==0])"
   ]
  },
  {
   "cell_type": "code",
   "execution_count": 274,
   "metadata": {},
   "outputs": [],
   "source": [
    "import numpy as np\n",
    "import pandas as pd\n",
    "from collections import Counter\n",
    "def ks_value(pred,true,n):\n",
    "    score = (1.-pred)*1000\n",
    "    index = score.argsort()\n",
    "    score_sort = np.sort(score)\n",
    "    true_sort = true[index]\n",
    "    len_num = pred.size\n",
    "    add = int(len_num/n)\n",
    "    out = []\n",
    "    for i in get_split_len(len_num,n):\n",
    "        if i == get_split_len(len_num,n)[-1]:\n",
    "            good_num,bad_num,total = get_good_bad(true_sort,i,-1)\n",
    "            min_value,max_value = get_max_min(score_sort,i,-1)\n",
    "            temp = [min_value,max_value,total,bad_num,good_num]\n",
    "        else:\n",
    "            good_num,bad_num,total = get_good_bad(true_sort,i,i+add)\n",
    "            min_value,max_value = get_max_min(score_sort,i,i+add)\n",
    "            temp = [min_value,max_value,total,bad_num,good_num]\n",
    "        out.append(temp)\n",
    "    return out\n",
    "def list_to_dataframe(out):\n",
    "    df = pd.DataFrame.from_records(out,columns = [\"min_value\",\"max_value\",\"total\",\"bad_num\",\"good_num\"])\n",
    "    return df\n",
    "def get_good_bad(true,startindex,endindex):\n",
    "    if endindex == -1:\n",
    "        true_index = true[startindex:]\n",
    "    else:\n",
    "        true_index = true[startindex:endindex]\n",
    "    c = Counter([i for i in true_index])\n",
    "    total = true_index.size\n",
    "    return c[0],c[1],total\n",
    "def get_max_min(pred,startindex,endindex):\n",
    "    return pred[startindex],pred[endindex]\n",
    "def get_split_len(len_num,n):\n",
    "    out = [0]\n",
    "    add = int(len_num/n)\n",
    "    index = 0\n",
    "    for i in range(n-1):\n",
    "        index += add\n",
    "        out.append(int(index))\n",
    "    return out\n",
    "def get_start_end(pred,cuts):\n",
    "    out1 = cuts_off_array(pred,cuts)\n",
    "    out2 = get_cuts_num(out1)\n",
    "    out = [0]\n",
    "    index = 0\n",
    "    for i in out2:\n",
    "        index += i\n",
    "        out.append(int(index))\n",
    "    return out\n",
    "def ks_value_cuts(pred,true,cuts):\n",
    "    score = (1.-pred)*1000\n",
    "    index = score.argsort()\n",
    "    score_sort = np.sort(score)\n",
    "    true_sort = true[index]\n",
    "    out = []\n",
    "    start_end = get_start_end(score_sort,cuts)\n",
    "    for i in range(10):\n",
    "        if i == 9:\n",
    "            good_num,bad_num,total = get_good_bad(true_sort,start_end[i],-1)\n",
    "            min_value,max_value = get_max_min(score_sort,start_end[i],-1)\n",
    "            temp = [min_value,max_value,total,bad_num,good_num]\n",
    "        else:\n",
    "            good_num,bad_num,total = get_good_bad(true_sort,start_end[i],start_end[i+1])\n",
    "            min_value,max_value = get_max_min(score_sort,start_end[i],start_end[i+1])\n",
    "            temp = [min_value,max_value,total,bad_num,good_num]\n",
    "        out.append(temp)\n",
    "    return out\n",
    "def get_ksvalue_offline(model,df,start,end,name):\n",
    "    df_offline = get_and_fix_train(df,start,end)\n",
    "    X = df_offline[predictors]\n",
    "    y = df_offline[target]\n",
    "    yTest = y.values.ravel()\n",
    "    prediction = model.predict_proba(X)\n",
    "    pred = prediction[:,1:2].ravel()\n",
    "    out = ks_value(pred,yTest,10)\n",
    "    df = list_to_dataframe(out)\n",
    "    df.to_csv(name)\n",
    "    return df\n",
    "def get_ksvalue_offline_cuts(model,df,start,end,name,cuts):\n",
    "    df_offline = get_and_fix_train(df,start,end)\n",
    "    X = df_offline[predictors]\n",
    "    y = df_offline[target]\n",
    "    yTest = y.values.ravel()\n",
    "    prediction = model.predict_proba(X)\n",
    "    pred = prediction[:,1:2].ravel()\n",
    "    #fix\n",
    "    out = ks_value_cuts(pred,yTest,cuts)\n",
    "    df = list_to_dataframe(out)\n",
    "    df.to_csv(name)\n",
    "    return df"
   ]
  },
  {
   "cell_type": "code",
   "execution_count": 240,
   "metadata": {},
   "outputs": [],
   "source": [
    "def get_ksvalue_combine(df,start,end,name):\n",
    "    df_offline = get_and_fix_train(df,start,end)\n",
    "    X = df_offline[predictors]\n",
    "    y = df_offline[target]\n",
    "    yTest = y.values.ravel()\n",
    "    prediction = model_combine_pred(train[predictors].values,train[target].values.ravel(),X.values)\n",
    "    pred = prediction.ravel()\n",
    "    out = ks_value(pred,yTest,10)\n",
    "    df = list_to_dataframe(out)\n",
    "    #df.to_csv(name)\n",
    "    return df"
   ]
  },
  {
   "cell_type": "code",
   "execution_count": 363,
   "metadata": {},
   "outputs": [],
   "source": [
    "def get_x_score(model,df,start,end):\n",
    "    df_offline = get_and_fix_train(df,start,end)\n",
    "    X = df_offline[predictors]\n",
    "    index = df_offline.index\n",
    "    prediction = model.predict_proba(X)\n",
    "    pred = prediction[:,1:2].ravel()\n",
    "    score = (1.-pred)*1000\n",
    "    score = pd.DataFrame(score,columns = [\"score\"],index = index)\n",
    "    result = pd.concat([score,df_offline[target],X],axis = 1)\n",
    "    msk = np.random.rand(len(result)) < 0.03\n",
    "    result = result[msk]\n",
    "    result.to_csv('demo.csv')\n",
    "    return result"
   ]
  },
  {
   "cell_type": "raw",
   "metadata": {},
   "source": [
    "KS"
   ]
  },
  {
   "cell_type": "code",
   "execution_count": 327,
   "metadata": {},
   "outputs": [
    {
     "data": {
      "text/html": [
       "<div>\n",
       "<table border=\"1\" class=\"dataframe\">\n",
       "  <thead>\n",
       "    <tr style=\"text-align: right;\">\n",
       "      <th></th>\n",
       "      <th>min_value</th>\n",
       "      <th>max_value</th>\n",
       "      <th>total</th>\n",
       "      <th>bad_num</th>\n",
       "      <th>good_num</th>\n",
       "    </tr>\n",
       "  </thead>\n",
       "  <tbody>\n",
       "    <tr>\n",
       "      <th>0</th>\n",
       "      <td>375.231384</td>\n",
       "      <td>773.825378</td>\n",
       "      <td>9086</td>\n",
       "      <td>3052</td>\n",
       "      <td>6034</td>\n",
       "    </tr>\n",
       "    <tr>\n",
       "      <th>1</th>\n",
       "      <td>773.825378</td>\n",
       "      <td>810.745361</td>\n",
       "      <td>9086</td>\n",
       "      <td>2056</td>\n",
       "      <td>7030</td>\n",
       "    </tr>\n",
       "    <tr>\n",
       "      <th>2</th>\n",
       "      <td>810.745361</td>\n",
       "      <td>836.536133</td>\n",
       "      <td>9086</td>\n",
       "      <td>1570</td>\n",
       "      <td>7516</td>\n",
       "    </tr>\n",
       "    <tr>\n",
       "      <th>3</th>\n",
       "      <td>836.536133</td>\n",
       "      <td>856.912231</td>\n",
       "      <td>9086</td>\n",
       "      <td>1353</td>\n",
       "      <td>7733</td>\n",
       "    </tr>\n",
       "    <tr>\n",
       "      <th>4</th>\n",
       "      <td>856.912231</td>\n",
       "      <td>872.981934</td>\n",
       "      <td>9086</td>\n",
       "      <td>1175</td>\n",
       "      <td>7911</td>\n",
       "    </tr>\n",
       "    <tr>\n",
       "      <th>5</th>\n",
       "      <td>872.981934</td>\n",
       "      <td>886.546997</td>\n",
       "      <td>9086</td>\n",
       "      <td>1010</td>\n",
       "      <td>8076</td>\n",
       "    </tr>\n",
       "    <tr>\n",
       "      <th>6</th>\n",
       "      <td>886.546997</td>\n",
       "      <td>901.019653</td>\n",
       "      <td>9086</td>\n",
       "      <td>841</td>\n",
       "      <td>8245</td>\n",
       "    </tr>\n",
       "    <tr>\n",
       "      <th>7</th>\n",
       "      <td>901.019653</td>\n",
       "      <td>916.384460</td>\n",
       "      <td>9086</td>\n",
       "      <td>703</td>\n",
       "      <td>8383</td>\n",
       "    </tr>\n",
       "    <tr>\n",
       "      <th>8</th>\n",
       "      <td>916.384460</td>\n",
       "      <td>934.799500</td>\n",
       "      <td>9086</td>\n",
       "      <td>504</td>\n",
       "      <td>8582</td>\n",
       "    </tr>\n",
       "    <tr>\n",
       "      <th>9</th>\n",
       "      <td>934.799500</td>\n",
       "      <td>995.176331</td>\n",
       "      <td>9091</td>\n",
       "      <td>261</td>\n",
       "      <td>8830</td>\n",
       "    </tr>\n",
       "  </tbody>\n",
       "</table>\n",
       "</div>"
      ],
      "text/plain": [
       "    min_value   max_value  total  bad_num  good_num\n",
       "0  375.231384  773.825378   9086     3052      6034\n",
       "1  773.825378  810.745361   9086     2056      7030\n",
       "2  810.745361  836.536133   9086     1570      7516\n",
       "3  836.536133  856.912231   9086     1353      7733\n",
       "4  856.912231  872.981934   9086     1175      7911\n",
       "5  872.981934  886.546997   9086     1010      8076\n",
       "6  886.546997  901.019653   9086      841      8245\n",
       "7  901.019653  916.384460   9086      703      8383\n",
       "8  916.384460  934.799500   9086      504      8582\n",
       "9  934.799500  995.176331   9091      261      8830"
      ]
     },
     "execution_count": 327,
     "metadata": {},
     "output_type": "execute_result"
    }
   ],
   "source": [
    "get_ksvalue_offline(est1,df_ar_train_07,'2017-05-25','2017-06-05','1_xgb_df.csv')"
   ]
  },
  {
   "cell_type": "code",
   "execution_count": 341,
   "metadata": {},
   "outputs": [],
   "source": [
    "cuts1 = [774,811,837,857,873,887,901,916,935]"
   ]
  },
  {
   "cell_type": "code",
   "execution_count": 342,
   "metadata": {},
   "outputs": [
    {
     "data": {
      "text/html": [
       "<div>\n",
       "<table border=\"1\" class=\"dataframe\">\n",
       "  <thead>\n",
       "    <tr style=\"text-align: right;\">\n",
       "      <th></th>\n",
       "      <th>min_value</th>\n",
       "      <th>max_value</th>\n",
       "      <th>total</th>\n",
       "      <th>bad_num</th>\n",
       "      <th>good_num</th>\n",
       "    </tr>\n",
       "  </thead>\n",
       "  <tbody>\n",
       "    <tr>\n",
       "      <th>0</th>\n",
       "      <td>401.598145</td>\n",
       "      <td>774.046875</td>\n",
       "      <td>1263</td>\n",
       "      <td>328</td>\n",
       "      <td>935</td>\n",
       "    </tr>\n",
       "    <tr>\n",
       "      <th>1</th>\n",
       "      <td>774.046875</td>\n",
       "      <td>811.028625</td>\n",
       "      <td>1412</td>\n",
       "      <td>266</td>\n",
       "      <td>1146</td>\n",
       "    </tr>\n",
       "    <tr>\n",
       "      <th>2</th>\n",
       "      <td>811.028625</td>\n",
       "      <td>837.005798</td>\n",
       "      <td>1292</td>\n",
       "      <td>212</td>\n",
       "      <td>1080</td>\n",
       "    </tr>\n",
       "    <tr>\n",
       "      <th>3</th>\n",
       "      <td>837.005798</td>\n",
       "      <td>857.019897</td>\n",
       "      <td>1153</td>\n",
       "      <td>176</td>\n",
       "      <td>977</td>\n",
       "    </tr>\n",
       "    <tr>\n",
       "      <th>4</th>\n",
       "      <td>857.019897</td>\n",
       "      <td>873.011230</td>\n",
       "      <td>1236</td>\n",
       "      <td>152</td>\n",
       "      <td>1084</td>\n",
       "    </tr>\n",
       "    <tr>\n",
       "      <th>5</th>\n",
       "      <td>873.011230</td>\n",
       "      <td>887.011902</td>\n",
       "      <td>1235</td>\n",
       "      <td>137</td>\n",
       "      <td>1098</td>\n",
       "    </tr>\n",
       "    <tr>\n",
       "      <th>6</th>\n",
       "      <td>887.011902</td>\n",
       "      <td>901.043579</td>\n",
       "      <td>1185</td>\n",
       "      <td>108</td>\n",
       "      <td>1077</td>\n",
       "    </tr>\n",
       "    <tr>\n",
       "      <th>7</th>\n",
       "      <td>901.043579</td>\n",
       "      <td>916.024536</td>\n",
       "      <td>1240</td>\n",
       "      <td>94</td>\n",
       "      <td>1146</td>\n",
       "    </tr>\n",
       "    <tr>\n",
       "      <th>8</th>\n",
       "      <td>916.024536</td>\n",
       "      <td>935.000793</td>\n",
       "      <td>1302</td>\n",
       "      <td>101</td>\n",
       "      <td>1201</td>\n",
       "    </tr>\n",
       "    <tr>\n",
       "      <th>9</th>\n",
       "      <td>935.000793</td>\n",
       "      <td>994.686462</td>\n",
       "      <td>1454</td>\n",
       "      <td>51</td>\n",
       "      <td>1403</td>\n",
       "    </tr>\n",
       "  </tbody>\n",
       "</table>\n",
       "</div>"
      ],
      "text/plain": [
       "    min_value   max_value  total  bad_num  good_num\n",
       "0  401.598145  774.046875   1263      328       935\n",
       "1  774.046875  811.028625   1412      266      1146\n",
       "2  811.028625  837.005798   1292      212      1080\n",
       "3  837.005798  857.019897   1153      176       977\n",
       "4  857.019897  873.011230   1236      152      1084\n",
       "5  873.011230  887.011902   1235      137      1098\n",
       "6  887.011902  901.043579   1185      108      1077\n",
       "7  901.043579  916.024536   1240       94      1146\n",
       "8  916.024536  935.000793   1302      101      1201\n",
       "9  935.000793  994.686462   1454       51      1403"
      ]
     },
     "execution_count": 342,
     "metadata": {},
     "output_type": "execute_result"
    }
   ],
   "source": [
    "get_ksvalue_offline_cuts(est1,df_ar_train_07,'2017-06-05','2017-06-08','1_xgb_df2.csv',cuts1)\n",
    "get_ksvalue_offline_cuts(est1,df_ar_train_07,'2017-06-08','2017-06-10','1_xgb_df3.csv',cuts1)\n",
    "#get_ksvalue_offline_cuts(est1,df_ar_train_07,'2017-05-10','2017-05-20','1_xgb_df4.csv',cuts1)"
   ]
  },
  {
   "cell_type": "raw",
   "metadata": {},
   "source": [
    "模型打分"
   ]
  },
  {
   "cell_type": "code",
   "execution_count": 140,
   "metadata": {},
   "outputs": [],
   "source": [
    "def select_status(df,status):\n",
    "    df_copy = df.copy()\n",
    "    if status != 'all':\n",
    "        df_copy = df_copy[df_copy.status == status]\n",
    "    df_copy.drop(df_copy.columns[[0]],axis = 1 ,inplace = True)\n",
    "    return df_copy\n",
    "def get_pred_armodel(model,df,status,start,end):\n",
    "    df = get_df_time(df,start,end)\n",
    "    if status is not None:\n",
    "        df = select_status(df,status)\n",
    "    df_offline = get_and_fix_train(df,start,end)\n",
    "    X = df_offline[predictors]\n",
    "    prediction = model.predict_proba(X)\n",
    "    score = (1.-prediction)*1000\n",
    "    pred = score[:,1:2].ravel()\n",
    "    return pred\n",
    "def cuts_off_array(array,cuts):\n",
    "    array.sort()\n",
    "    out =[]\n",
    "    list1,list2,list3,list4,list5,list6,list7,list8,list9,list10 = [],[],[],[],[],[],[],[],[],[]\n",
    "    for i in array:\n",
    "        if i <=cuts[0]:\n",
    "            list1.append(i)\n",
    "        elif i>cuts[0] and i <= cuts[1]:\n",
    "            list2.append(i)\n",
    "        elif i>cuts[1] and i <=cuts[2]:\n",
    "            list3.append(i)\n",
    "        elif i>cuts[2] and i <=cuts[3]:\n",
    "            list4.append(i)\n",
    "        elif i>cuts[3] and i <= cuts[4]:\n",
    "            list5.append(i)\n",
    "        elif i > cuts[4] and i <= cuts[5]:\n",
    "            list6.append(i)\n",
    "        elif i>cuts[5] and i <= cuts[6]:\n",
    "            list7.append(i)\n",
    "        elif i>cuts[6] and i <= cuts[7]:\n",
    "            list8.append(i)\n",
    "        elif i>cuts[7] and i <= cuts[8]:\n",
    "            list9.append(i)\n",
    "        elif i>cuts[8]:\n",
    "            list10.append(i)\n",
    "    out.append(list1)  \n",
    "    out.append(list2)  \n",
    "    out.append(list3)  \n",
    "    out.append(list4)  \n",
    "    out.append(list5)  \n",
    "    out.append(list6)  \n",
    "    out.append(list7)  \n",
    "    out.append(list8)\n",
    "    out.append(list9)  \n",
    "    out.append(list10)\n",
    "    return out\n",
    "def get_cuts_num(cuts):\n",
    "    out =[]\n",
    "    for i in cuts:\n",
    "        out.append(len(i))\n",
    "    return out\n",
    "def get_cuts_mean(cuts):\n",
    "    out = []\n",
    "    for i in cuts:\n",
    "        if len(i) == 0:\n",
    "            out.append(0.0)\n",
    "        else:\n",
    "            out.append(sum(i) / float(len(i)))\n",
    "    return out"
   ]
  },
  {
   "cell_type": "raw",
   "metadata": {},
   "source": [
    "拒绝样本分布----xgb"
   ]
  },
  {
   "cell_type": "code",
   "execution_count": 146,
   "metadata": {},
   "outputs": [],
   "source": [
    "%store -r df_reference_pass02_drop\n",
    "%store -r df_reference_pass06_drop"
   ]
  },
  {
   "cell_type": "code",
   "execution_count": 343,
   "metadata": {},
   "outputs": [
    {
     "name": "stdout",
     "output_type": "stream",
     "text": [
      "[9125, 9121, 9211, 8927, 9064, 9376, 8767, 8893, 9353, 9028]\n",
      "[729.89700302333051, 794.28333635040576, 824.72084378217744, 847.5059304744276, 865.31788820433383, 880.06581063644876, 893.85036423514453, 908.53458994011044, 924.87348779902459, 954.01529361993585]\n"
     ]
    }
   ],
   "source": [
    "train_score = get_pred_armodel(est1,df_ar_train_07,None,'2017-05-25','2017-06-05')\n",
    "print(get_cuts_num(cuts_off_array(train_score,cuts1)))\n",
    "print(get_cuts_mean(cuts_off_array(train_score,cuts1)))"
   ]
  },
  {
   "cell_type": "code",
   "execution_count": 344,
   "metadata": {},
   "outputs": [
    {
     "name": "stdout",
     "output_type": "stream",
     "text": [
      "[2753, 1111, 591, 542, 502, 388, 261, 180, 132, 85]\n",
      "[704.34990400874824, 792.74125175579081, 823.20071478261161, 846.9660261653886, 865.19310429181712, 879.41661008854499, 893.69511232339562, 908.42712707519536, 923.3266647801255, 948.53028349034923]\n"
     ]
    }
   ],
   "source": [
    "armodel_reject_score_fix = get_pred_armodel(est1,df_ar_score_07,'reject','2017-06-05','2017-06-15')\n",
    "print(get_cuts_num(cuts_off_array(armodel_reject_score_fix,cuts1)))\n",
    "print(get_cuts_mean(cuts_off_array(armodel_reject_score_fix,cuts1)))"
   ]
  },
  {
   "cell_type": "code",
   "execution_count": 345,
   "metadata": {},
   "outputs": [
    {
     "name": "stdout",
     "output_type": "stream",
     "text": [
      "[8862, 9962, 10339, 9705, 10082, 10643, 10269, 10586, 11527, 12947]\n",
      "[734.34999046248197, 794.28096601681113, 824.39231402501116, 847.43895837861442, 865.38422145438653, 880.02915398747268, 893.94401818499364, 908.49945382010662, 924.92218656151897, 955.44376351193057]\n"
     ]
    }
   ],
   "source": [
    "armodel_reject_score_fix = get_pred_armodel(est1,df_ar_score_07,'pass','2017-06-05','2017-06-15')\n",
    "print(get_cuts_num(cuts_off_array(armodel_reject_score_fix,cuts1)))\n",
    "print(get_cuts_mean(cuts_off_array(armodel_reject_score_fix,cuts1)))"
   ]
  },
  {
   "cell_type": "code",
   "execution_count": 346,
   "metadata": {},
   "outputs": [
    {
     "name": "stdout",
     "output_type": "stream",
     "text": [
      "[3509, 2774, 2298, 1732, 1620, 1315, 903, 644, 409, 135]\n",
      "[727.92873481061258, 793.36515439562254, 823.9555543479554, 846.99952331261056, 865.18618962794176, 879.59286673078066, 893.59130311883564, 908.0745145430476, 923.83878779702786, 949.375744176794]\n"
     ]
    }
   ],
   "source": [
    "armodel_reject_score_fix = get_pred_armodel(est1,df_ar_score_07,'reference','2017-06-05','2017-06-15')\n",
    "print(get_cuts_num(cuts_off_array(armodel_reject_score_fix,cuts1)))\n",
    "print(get_cuts_mean(cuts_off_array(armodel_reject_score_fix,cuts1)))"
   ]
  },
  {
   "cell_type": "code",
   "execution_count": 347,
   "metadata": {},
   "outputs": [
    {
     "name": "stdout",
     "output_type": "stream",
     "text": [
      "[15124, 13847, 13228, 11979, 12204, 12346, 11433, 11410, 12068, 13167]\n",
      "[727.39928799689494, 793.97396204619145, 824.26320086428143, 847.35402384368774, 865.35007262003296, 879.96343352940255, 893.91047789507684, 908.47432851699443, 924.86801694187852, 955.33691848936826]\n"
     ]
    }
   ],
   "source": [
    "armodel_reject_score_fix = get_pred_armodel(est1,df_ar_score_07,'all','2017-06-05','2017-06-15')\n",
    "print(get_cuts_num(cuts_off_array(armodel_reject_score_fix,cuts1)))\n",
    "print(get_cuts_mean(cuts_off_array(armodel_reject_score_fix,cuts1)))"
   ]
  },
  {
   "cell_type": "raw",
   "metadata": {},
   "source": [
    "armodel_reject_score_fix = get_pred_armodel(est,df_reference_pass02_drop,'all','2017-05-01','2017-05-10')\n",
    "print(get_cuts_num(cuts_off_array(armodel_reject_score_fix,cuts1)))\n",
    "print(get_cuts_mean(cuts_off_array(armodel_reject_score_fix,cuts1)))"
   ]
  },
  {
   "cell_type": "raw",
   "metadata": {},
   "source": [
    "...................................................."
   ]
  },
  {
   "cell_type": "code",
   "execution_count": 348,
   "metadata": {},
   "outputs": [
    {
     "name": "stdout",
     "output_type": "stream",
     "text": [
      "[2456, 1020, 588, 359, 315, 232, 198, 166, 100, 42]\n",
      "[710.4656041421797, 793.13451149136415, 822.83023901699346, 847.18896535379304, 865.45241582961307, 879.52972017485524, 894.59314581360479, 908.16311719044143, 922.84658203125002, 947.01459902808779]\n"
     ]
    }
   ],
   "source": [
    "armodel_reject_score_fix_0510 = get_pred_armodel(est1,df_ar_score_07,'reject','2017-07-10','2017-07-20')\n",
    "print(get_cuts_num(cuts_off_array(armodel_reject_score_fix_0510,cuts1)))\n",
    "print(get_cuts_mean(cuts_off_array(armodel_reject_score_fix_0510,cuts1)))"
   ]
  },
  {
   "cell_type": "code",
   "execution_count": 349,
   "metadata": {},
   "outputs": [
    {
     "name": "stdout",
     "output_type": "stream",
     "text": [
      "[4096, 2084, 1246, 829, 671, 461, 351, 246, 132, 67]\n",
      "[716.79010720551014, 792.98628164573279, 823.37318011386435, 847.01074461712619, 864.33468068516561, 879.66514524513627, 893.62579015313395, 908.16697333111028, 922.84713791355944, 948.25151676918142]\n"
     ]
    }
   ],
   "source": [
    "armodel_reject_score_fix_0510 = get_pred_armodel(est1,df_ar_score_07,'reference','2017-07-10','2017-07-20')\n",
    "print(get_cuts_num(cuts_off_array(armodel_reject_score_fix_0510,cuts1)))\n",
    "print(get_cuts_mean(cuts_off_array(armodel_reject_score_fix_0510,cuts1)))"
   ]
  },
  {
   "cell_type": "code",
   "execution_count": 350,
   "metadata": {},
   "outputs": [
    {
     "name": "stdout",
     "output_type": "stream",
     "text": [
      "[19239, 13749, 11734, 9132, 7911, 7341, 6776, 7408, 7966, 10088]\n",
      "[720.68842774135442, 793.67890925181632, 824.05804998886447, 846.99419226961811, 865.14916839426019, 879.77624012030299, 894.00439930525135, 908.47923681699945, 925.03130633071407, 956.22325553561279]\n"
     ]
    }
   ],
   "source": [
    "armodel_reject_score_fix_0510 = get_pred_armodel(est1,df_ar_score_07,'pass','2017-07-10','2017-07-20')\n",
    "print(get_cuts_num(cuts_off_array(armodel_reject_score_fix_0510,cuts1)))\n",
    "print(get_cuts_mean(cuts_off_array(armodel_reject_score_fix_0510,cuts1)))"
   ]
  },
  {
   "cell_type": "code",
   "execution_count": 351,
   "metadata": {},
   "outputs": [
    {
     "name": "stdout",
     "output_type": "stream",
     "text": [
      "[25791, 16853, 13568, 10320, 8897, 8034, 7325, 7820, 8198, 10197]\n",
      "[719.09582661404681, 793.56031187172141, 823.94194586771835, 847.00229744726369, 865.09847733989727, 879.76274654738847, 894.0021713183927, 908.46270322677731, 924.96948848965405, 956.1329475949766]\n"
     ]
    }
   ],
   "source": [
    "armodel_reject_score_fix_0510 = get_pred_armodel(est1,df_ar_score_07,'all','2017-07-10','2017-07-20')\n",
    "print(get_cuts_num(cuts_off_array(armodel_reject_score_fix_0510,cuts1)))\n",
    "print(get_cuts_mean(cuts_off_array(armodel_reject_score_fix_0510,cuts1)))"
   ]
  },
  {
   "cell_type": "raw",
   "metadata": {},
   "source": [
    "armodel_reject_score_fix_0510 = get_pred_armodel(est,df_reference_pass02_drop,'all','2017-05-10','2017-05-20')\n",
    "print(get_cuts_num(cuts_off_array(armodel_reject_score_fix_0510,cuts1)))\n",
    "print(get_cuts_mean(cuts_off_array(armodel_reject_score_fix_0510,cuts1)))"
   ]
  },
  {
   "cell_type": "raw",
   "metadata": {},
   "source": [
    "......................................................"
   ]
  },
  {
   "cell_type": "code",
   "execution_count": 153,
   "metadata": {},
   "outputs": [
    {
     "name": "stdout",
     "output_type": "stream",
     "text": [
      "[1804, 1039, 713, 558, 375, 341, 245, 266, 180, 40]\n",
      "[836.47312923862773, 889.25277101959136, 906.02662776395948, 916.86288320890037, 924.98915039062501, 931.64105851069928, 938.3663217972736, 946.08665982583409, 952.89748501247834, 960.25421295166018]\n"
     ]
    }
   ],
   "source": [
    "armodel_reject_score_fix_06 = get_pred_armodel(est,df_ar_score_now,'reject','2017-06-20','2017-06-30')\n",
    "print(get_cuts_num(cuts_off_array(armodel_reject_score_fix_06,cuts1)))\n",
    "print(get_cuts_mean(cuts_off_array(armodel_reject_score_fix_06,cuts1)))"
   ]
  },
  {
   "cell_type": "code",
   "execution_count": 154,
   "metadata": {},
   "outputs": [
    {
     "name": "stdout",
     "output_type": "stream",
     "text": [
      "[3251, 2340, 1819, 1484, 1107, 886, 794, 869, 519, 229]\n",
      "[841.58534089120417, 889.63107518905247, 906.13538815675031, 916.89086256001519, 924.86552097006972, 931.80413563472155, 938.2930991991941, 945.7983393520974, 952.87678695414104, 962.04339999402976]\n"
     ]
    }
   ],
   "source": [
    "armodel_reject_score_fix_06 = get_pred_armodel(est,df_ar_score_now,'reference','2017-06-20','2017-06-30')\n",
    "print(get_cuts_num(cuts_off_array(armodel_reject_score_fix_06,cuts1)))\n",
    "print(get_cuts_mean(cuts_off_array(armodel_reject_score_fix_06,cuts1)))"
   ]
  },
  {
   "cell_type": "code",
   "execution_count": 155,
   "metadata": {},
   "outputs": [
    {
     "name": "stdout",
     "output_type": "stream",
     "text": [
      "[11880, 11321, 10896, 10210, 9468, 9425, 10378, 11888, 13037, 15585]\n",
      "[844.59322491783882, 889.85004151641408, 906.38217062817091, 917.0093157701931, 924.94687642595864, 931.83500112032698, 938.52235488171152, 945.77612729797772, 953.37087706278885, 964.52087798279217]\n"
     ]
    }
   ],
   "source": [
    "armodel_reject_score_fix_06 = get_pred_armodel(est,df_ar_score_now,'pass','2017-06-20','2017-06-30')\n",
    "print(get_cuts_num(cuts_off_array(armodel_reject_score_fix_06,cuts1)))\n",
    "print(get_cuts_mean(cuts_off_array(armodel_reject_score_fix_06,cuts1)))"
   ]
  },
  {
   "cell_type": "code",
   "execution_count": 156,
   "metadata": {},
   "outputs": [
    {
     "name": "stdout",
     "output_type": "stream",
     "text": [
      "[16935, 14700, 13428, 12252, 10950, 10652, 11417, 13023, 13736, 15854]\n",
      "[843.15081077104901, 889.77297041082056, 906.32986206563771, 916.98829928854889, 924.94009946222172, 931.82622518621793, 938.50306285073964, 945.78395221753851, 953.346004950424, 964.47432764466475]\n"
     ]
    }
   ],
   "source": [
    "armodel_reject_score_fix_06 = get_pred_armodel(est,df_ar_score_now,'all','2017-06-20','2017-06-30')\n",
    "print(get_cuts_num(cuts_off_array(armodel_reject_score_fix_06,cuts1)))\n",
    "print(get_cuts_mean(cuts_off_array(armodel_reject_score_fix_06,cuts1)))"
   ]
  },
  {
   "cell_type": "code",
   "execution_count": 157,
   "metadata": {},
   "outputs": [
    {
     "name": "stdout",
     "output_type": "stream",
     "text": [
      "[1195, 889, 689, 591, 465, 379, 346, 369, 229, 117]\n",
      "[844.46081895389318, 889.70537883814325, 906.18208913152557, 916.90588285959313, 924.75434885332663, 931.87248515831129, 938.22502586056044, 945.71761630091885, 952.85259929806909, 961.94413196531116]\n"
     ]
    }
   ],
   "source": [
    "armodel_reject_score_fix_06 = get_pred_armodel(est,df_reference_pass06_drop,'all','2017-06-20','2017-06-30')\n",
    "print(get_cuts_num(cuts_off_array(armodel_reject_score_fix_06,cuts1)))\n",
    "print(get_cuts_mean(cuts_off_array(armodel_reject_score_fix_06,cuts1)))"
   ]
  },
  {
   "cell_type": "code",
   "execution_count": null,
   "metadata": {},
   "outputs": [],
   "source": []
  }
 ],
 "metadata": {
  "kernelspec": {
   "display_name": "Python 3.5",
   "language": "python",
   "name": "py35"
  },
  "language_info": {
   "codemirror_mode": {
    "name": "ipython",
    "version": 3
   },
   "file_extension": ".py",
   "mimetype": "text/x-python",
   "name": "python",
   "nbconvert_exporter": "python",
   "pygments_lexer": "ipython3",
   "version": "3.5.3"
  }
 },
 "nbformat": 4,
 "nbformat_minor": 2
}
