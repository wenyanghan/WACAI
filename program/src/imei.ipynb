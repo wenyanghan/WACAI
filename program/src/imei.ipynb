{
 "cells": [
  {
   "cell_type": "code",
   "execution_count": 223,
   "metadata": {},
   "outputs": [],
   "source": [
    "import pandas as pd\n",
    "import numpy as np\n",
    "import matplotlib.mlab as mlab  \n",
    "import matplotlib.pyplot as plt\n",
    "%matplotlib inline\n",
    "import math"
   ]
  },
  {
   "cell_type": "raw",
   "metadata": {},
   "source": [
    "数据准备"
   ]
  },
  {
   "cell_type": "code",
   "execution_count": 82,
   "metadata": {},
   "outputs": [],
   "source": [
    "from impala.dbapi import connect\n",
    "from impala.util import as_pandas\n",
    "import re \n",
    "#get data\n",
    "def get_data(sql):\n",
    "    conn = connect(host = '10.1.169.3',port = 10000, auth_mechanism = 'PLAIN')\n",
    "    cursor = conn.cursor()\n",
    "    cursor.execute(sql)\n",
    "    df = as_pandas(cursor)\n",
    "    return df"
   ]
  },
  {
   "cell_type": "code",
   "execution_count": 180,
   "metadata": {},
   "outputs": [
    {
     "name": "stdout",
     "output_type": "stream",
     "text": [
      "1210659\n"
     ]
    }
   ],
   "source": [
    "df_flag = get_data('select * from tmp.cebai_imei_flag_20170101_20170601')\n",
    "print(len(df_flag))"
   ]
  },
  {
   "cell_type": "code",
   "execution_count": 184,
   "metadata": {},
   "outputs": [],
   "source": [
    "y = pd.read_csv('getui_app_unistl_test1_y.txt',sep=r\"\\s+\")"
   ]
  },
  {
   "cell_type": "code",
   "execution_count": 188,
   "metadata": {},
   "outputs": [
    {
     "name": "stdout",
     "output_type": "stream",
     "text": [
      "                aid              uid       imei apply_time  y\n",
      "23654162   85842482  861404030391033  2017/3/15      23:58  0\n",
      "23654353  103971933  860778030179774  2017/3/15      23:53  0\n",
      "23566483  103771526  868809027435879  2017/3/15      23:51  0\n",
      "23652982  104042520  862458037057194  2017/3/15      23:45  0\n",
      "23653654   95771628  865568027852532  2017/3/15      23:42  1\n"
     ]
    }
   ],
   "source": [
    "print(y.head(5))"
   ]
  },
  {
   "cell_type": "code",
   "execution_count": 312,
   "metadata": {},
   "outputs": [
    {
     "name": "stdout",
     "output_type": "stream",
     "text": [
      "3092\n"
     ]
    }
   ],
   "source": [
    "df = pd.read_csv('data_imei_select.txt',sep=r\"\\s+\")\n",
    "print(len(df))"
   ]
  },
  {
   "cell_type": "code",
   "execution_count": 61,
   "metadata": {},
   "outputs": [],
   "source": [
    "APP_NAME = pd.read_csv('app_name.txt',sep=r\"\\s+\",encoding='iso-8859-1')"
   ]
  },
  {
   "cell_type": "raw",
   "metadata": {},
   "source": [
    "删除具有缺失值的行"
   ]
  },
  {
   "cell_type": "code",
   "execution_count": 96,
   "metadata": {},
   "outputs": [],
   "source": [
    "def missing_values_table(df): \n",
    "        mis_val = df.isnull().sum()\n",
    "        mis_val_percent = 100 * df.isnull().sum()/len(df)\n",
    "        mis_val_table = pd.concat([mis_val, mis_val_percent], axis=1)\n",
    "        mis_val_table_ren_columns = mis_val_table.rename(\n",
    "        columns = {0 : 'Missing Values', 1 : '% of Total Values'})\n",
    "        return mis_val_table_ren_columns"
   ]
  },
  {
   "cell_type": "code",
   "execution_count": 118,
   "metadata": {},
   "outputs": [
    {
     "name": "stdout",
     "output_type": "stream",
     "text": [
      "2542\n"
     ]
    }
   ],
   "source": [
    "df_dropna_1 = df[df['app_num'] != -999]\n",
    "print(len(df_dropna))"
   ]
  },
  {
   "cell_type": "raw",
   "metadata": {},
   "source": [
    "特征转换"
   ]
  },
  {
   "cell_type": "code",
   "execution_count": 54,
   "metadata": {},
   "outputs": [],
   "source": [
    "def split_app(app_str):\n",
    "    app_list = app_str.split('/')\n",
    "    all_app = pd.read_csv('app_name.txt',sep=r\"\\s+\",encoding='iso-8859-1')['code'].tolist()\n",
    "    app_num = len(all_app)\n",
    "    one_row_feature = np.zeros(app_num,dtype = int)\n",
    "    for index_app in range(app_num):\n",
    "        if str(all_app[index_app]) in app_list:\n",
    "            one_row_feature[index_app] = 1\n",
    "    return one_row_feature"
   ]
  },
  {
   "cell_type": "raw",
   "metadata": {},
   "source": [
    "生成新的数据"
   ]
  },
  {
   "cell_type": "code",
   "execution_count": 167,
   "metadata": {},
   "outputs": [],
   "source": [
    "df_new = df.copy()\n",
    "new_index = df_new.index\n",
    "df_new[APP_NAME['http'].tolist()] = pd.DataFrame([split_app(x) for x in df_new['app_str'].tolist()],index = new_index)\n",
    "del df_new['app_str']"
   ]
  },
  {
   "cell_type": "raw",
   "metadata": {},
   "source": [
    "贴标签"
   ]
  },
  {
   "cell_type": "code",
   "execution_count": 333,
   "metadata": {},
   "outputs": [
    {
     "name": "stdout",
     "output_type": "stream",
     "text": [
      "14975\n"
     ]
    }
   ],
   "source": [
    "y.drop_duplicates(['uid'],inplace = True)\n",
    "print(len(y))"
   ]
  },
  {
   "cell_type": "code",
   "execution_count": 336,
   "metadata": {},
   "outputs": [],
   "source": [
    "df_combine = pd.merge(df_new, y, how='left', left_on='imei', right_on='uid')\n",
    "#df_combine.drop_duplicates(['imei_x'],inplace = True)\n",
    "df_combine.drop(['imei_x','aid','uid','imei_y','apply_time'],axis=1, inplace=True)"
   ]
  },
  {
   "cell_type": "raw",
   "metadata": {},
   "source": [
    "求变量iv值"
   ]
  },
  {
   "cell_type": "code",
   "execution_count": 203,
   "metadata": {},
   "outputs": [],
   "source": [
    "def show_hist(array,bins):\n",
    "    plt.hist(array,bins =bins)\n",
    "    plt.title(\"Gaussian Histogram\")\n",
    "    plt.xlabel(\"Value\")\n",
    "    plt.ylabel(\"Frequency\")\n",
    "    #plt.axis([40, 160, 0, 0.03])\n",
    "    plt.grid(True)\n",
    "    plt.show()\n",
    "def show_histogram"
   ]
  },
  {
   "cell_type": "code",
   "execution_count": 206,
   "metadata": {},
   "outputs": [
    {
     "data": {
      "image/png": "[encoded data removed]",
      "text/plain": [
       "<matplotlib.figure.Figure at 0x7fe5c25bfd30>"
      ]
     },
     "metadata": {},
     "output_type": "display_data"
    }
   ],
   "source": [
    "show_hist(df_combine[df_combine['app_num']>=0]['app_num'].tolist(),10)"
   ]
  },
  {
   "cell_type": "code",
   "execution_count": 300,
   "metadata": {},
   "outputs": [
    {
     "data": {
      "image/png": "[encoded data removed]",
      "text/plain": [
       "<matplotlib.figure.Figure at 0x7fe5c29591d0>"
      ]
     },
     "metadata": {},
     "output_type": "display_data"
    }
   ],
   "source": [
    "show_hist(df_combine['cn.com.hakim.dingjidai'].tolist(),[-1,0,1])"
   ]
  },
  {
   "cell_type": "code",
   "execution_count": 302,
   "metadata": {},
   "outputs": [],
   "source": [
    "def get_good_bad_num(df):\n",
    "    #?! size and len\n",
    "    good_num = len(df[df['y'] == 0])\n",
    "    bad_num = len(df[df['y'] == 1])\n",
    "    return float(good_num),float(bad_num)\n",
    "def get_woe(df,colname,p,q):\n",
    "    df = df.apply(pd.to_numeric,errors='ignore')\n",
    "    total_good,total_bad = get_good_bad_num(df)\n",
    "    df_p_q = df[(df[colname]>p) & (df[colname]<=q)]\n",
    "    good,bad = get_good_bad_num(df_p_q)\n",
    "    if good == 0:\n",
    "        good = 1\n",
    "        print('%s good is 0'% colname)\n",
    "    if bad == 0:\n",
    "        bad = 1\n",
    "        print('%s bad is 0'% colname)\n",
    "    obs = good + bad\n",
    "    bad_rate = bad/obs\n",
    "    pop = (good+bad)/(total_good+total_bad)\n",
    "    woe = math.log((bad/total_bad)/(good/total_good))\n",
    "    iv = (bad/total_bad-good/total_good)*woe\n",
    "    return obs,bad,woe,bad_rate,pop,iv\n",
    "def get_woe_list(df,colname,cuts):\n",
    "    woe_list =[]\n",
    "    for i in range(len(cuts)-1):\n",
    "        obs,bad,woe,bad_rate,pop,iv = get_woe(df,colname,cuts[i],cuts[i+1])\n",
    "        temp = [cuts[i],cuts[i+1],obs,bad,woe,bad_rate,pop,iv]\n",
    "        woe_list.append(temp)\n",
    "    df_woe_list = pd.DataFrame(woe_list,columns=['start','end','obs','bad','woe','badrate','pop','iv'])\n",
    "    return df_woe_list"
   ]
  },
  {
   "cell_type": "code",
   "execution_count": 260,
   "metadata": {},
   "outputs": [],
   "source": [
    "def counts_col(train_df):\n",
    "    unique_values_dict = {}\n",
    "    for col in train_df.columns:\n",
    "        if col not in [\"app_num\", \"y\"]:\n",
    "            unique_value = str(np.sort(train_df[col].unique()).tolist())\n",
    "            tlist = unique_values_dict.get(unique_value, [])\n",
    "            tlist.append(col)\n",
    "            unique_values_dict[unique_value] = tlist[:]\n",
    "    for unique_val, columns in unique_values_dict.items():\n",
    "        #print(\"Columns containing the unique values : \",type(unique_val))\n",
    "        #print(columns)\n",
    "        #print(\"--------------------------------------------------\")\n",
    "        if (len(unique_val) == 3):\n",
    "            one_value = columns\n",
    "        elif(len(unique_val) == 6):\n",
    "            two_value = columns\n",
    "    return one_value,two_value\n"
   ]
  },
  {
   "cell_type": "code",
   "execution_count": 338,
   "metadata": {},
   "outputs": [],
   "source": [
    "one_value_col,two_value_col = counts_col(df_combine)"
   ]
  },
  {
   "cell_type": "code",
   "execution_count": 339,
   "metadata": {},
   "outputs": [
    {
     "name": "stdout",
     "output_type": "stream",
     "text": [
      "0.0219351214223\n",
      "      start       end    obs   bad       woe   badrate       pop        iv\n",
      "0      -inf  0.000000  550.0  23.0 -0.287481  0.041818  0.177878  0.012954\n",
      "1  0.000000  2.000000  965.0  51.0 -0.041780  0.052850  0.312096  0.000535\n",
      "2  2.000000  4.000000  704.0  40.0  0.034822  0.056818  0.227684  0.000280\n",
      "3  4.000000       inf  873.0  56.0  0.163938  0.064147  0.282342  0.008166\n"
     ]
    }
   ],
   "source": [
    "colname = 'app_num'\n",
    "cuts = [-float('Inf'),0,2,4,float('Inf')]\n",
    "woe = get_woe_list(df_combine,colname,cuts)\n",
    "print(np.sum(woe['iv'].tolist()))\n",
    "print(woe)\n",
    "woe.to_csv('app_num.csv')"
   ]
  },
  {
   "cell_type": "code",
   "execution_count": 308,
   "metadata": {},
   "outputs": [],
   "source": [
    "def get_iv(df):\n",
    "    cuts = [-1,0,1]\n",
    "    out = []\n",
    "    for colname in two_value_col:\n",
    "        try:\n",
    "            woe = get_woe_list(df_combine,colname,cuts) \n",
    "            iv = np.sum(woe['iv'].tolist())\n",
    "            obs = woe['obs'].tolist()\n",
    "            bad = woe['bad'].tolist()\n",
    "            good = np.array(obs) - np.array(bad)\n",
    "            bad_0 = bad[0]\n",
    "            good_0 = good[0]\n",
    "            bad_1 = bad[1]\n",
    "            good_1 = good[1]\n",
    "            temp = [colname,iv,bad_0,good_0,bad_1,good_1]\n",
    "            out.append(temp)\n",
    "        except Exception as e :\n",
    "            print(colname+'---------' ,e)\n",
    "    out = pd.DataFrame(out)\n",
    "    out.to_csv('iv.csv')\n",
    "    return out"
   ]
  },
  {
   "cell_type": "raw",
   "metadata": {},
   "source": [
    "随机森林"
   ]
  },
  {
   "cell_type": "code",
   "execution_count": 369,
   "metadata": {},
   "outputs": [],
   "source": [
    "#RF_tarin\n",
    "from scipy.stats import ks_2samp\n",
    "from sklearn.model_selection import train_test_split\n",
    "from sklearn import ensemble\n",
    "from sklearn.metrics import roc_auc_score,roc_curve\n",
    "import matplotlib.pyplot as plot\n",
    "import numpy as np\n",
    "from math import sqrt,fabs,exp\n",
    "def train_online(df):\n",
    "    X = df.drop(['y'],axis = 1)\n",
    "    y = df['y']\n",
    "    xTrain,xTest,yTrain,yTest = train_test_split(X.values,y.values.ravel(),test_size = 0.2,random_state = 520)\n",
    "    rf = ensemble.RandomForestClassifier(n_estimators=40,max_depth=3,oob_score = True,random_state = 531,class_weight = 'auto')\n",
    "    rf.fit(xTrain,yTrain)\n",
    "    print(\"online----------oob_score:%f\" % rf.oob_score_)\n",
    "    prediction = rf.predict_proba(xTest)\n",
    "    auc = roc_auc_score(yTest,prediction[:,1:2])\n",
    "    print (\"online-------AUC Score (test):%f\" % auc)\n",
    "    return rf"
   ]
  },
  {
   "cell_type": "code",
   "execution_count": 361,
   "metadata": {},
   "outputs": [],
   "source": [
    "#grid search\n",
    "import pandas as pd\n",
    "import numpy as np\n",
    "from sklearn.ensemble import RandomForestClassifier\n",
    "from sklearn.model_selection import GridSearchCV \n",
    "from sklearn import cross_validation, metrics\n",
    "def grid_search(df):\n",
    "    X = df.drop(['y'],axis = 1)\n",
    "    y = df['y']\n",
    "    X,y  = X.values,y.values.ravel()\n",
    "    param_test1 = {'n_estimators':np.linspace(10,100,10,dtype = int),'max_depth':np.linspace(1,11,5,dtype = int)}\n",
    "    gsearch1 = GridSearchCV(estimator = RandomForestClassifier(random_state=531,n_jobs=-1), \n",
    "                       param_grid = param_test1, scoring='roc_auc',cv=5)\n",
    "    gsearch1.fit(X,y)\n",
    "    print(gsearch1.grid_scores_)\n",
    "    print('***********************')\n",
    "    print(gsearch1.best_params_)\n",
    "    print('***********************')\n",
    "    print(gsearch1.best_score_)"
   ]
  },
  {
   "cell_type": "code",
   "execution_count": 379,
   "metadata": {},
   "outputs": [
    {
     "name": "stdout",
     "output_type": "stream",
     "text": [
      "[mean: 0.46821, std: 0.03823, params: {'max_depth': 1, 'n_estimators': 10}, mean: 0.48362, std: 0.04504, params: {'max_depth': 1, 'n_estimators': 20}, mean: 0.49232, std: 0.03594, params: {'max_depth': 1, 'n_estimators': 30}, mean: 0.50346, std: 0.04562, params: {'max_depth': 1, 'n_estimators': 40}, mean: 0.52082, std: 0.03429, params: {'max_depth': 1, 'n_estimators': 50}, mean: 0.51697, std: 0.03168, params: {'max_depth': 1, 'n_estimators': 60}, mean: 0.52120, std: 0.04429, params: {'max_depth': 1, 'n_estimators': 70}, mean: 0.52387, std: 0.04788, params: {'max_depth': 1, 'n_estimators': 80}, mean: 0.52585, std: 0.04907, params: {'max_depth': 1, 'n_estimators': 90}, mean: 0.52505, std: 0.04357, params: {'max_depth': 1, 'n_estimators': 100}, mean: 0.52566, std: 0.03492, params: {'max_depth': 3, 'n_estimators': 10}, mean: 0.53745, std: 0.03228, params: {'max_depth': 3, 'n_estimators': 20}, mean: 0.54620, std: 0.04633, params: {'max_depth': 3, 'n_estimators': 30}, mean: 0.56267, std: 0.04678, params: {'max_depth': 3, 'n_estimators': 40}, mean: 0.55264, std: 0.04290, params: {'max_depth': 3, 'n_estimators': 50}, mean: 0.54916, std: 0.03894, params: {'max_depth': 3, 'n_estimators': 60}, mean: 0.54468, std: 0.04904, params: {'max_depth': 3, 'n_estimators': 70}, mean: 0.55295, std: 0.06287, params: {'max_depth': 3, 'n_estimators': 80}, mean: 0.54925, std: 0.05930, params: {'max_depth': 3, 'n_estimators': 90}, mean: 0.54425, std: 0.06107, params: {'max_depth': 3, 'n_estimators': 100}, mean: 0.51313, std: 0.03616, params: {'max_depth': 6, 'n_estimators': 10}, mean: 0.52919, std: 0.04954, params: {'max_depth': 6, 'n_estimators': 20}, mean: 0.51923, std: 0.06170, params: {'max_depth': 6, 'n_estimators': 30}, mean: 0.52516, std: 0.04713, params: {'max_depth': 6, 'n_estimators': 40}, mean: 0.53244, std: 0.05076, params: {'max_depth': 6, 'n_estimators': 50}, mean: 0.53951, std: 0.05364, params: {'max_depth': 6, 'n_estimators': 60}, mean: 0.53501, std: 0.06665, params: {'max_depth': 6, 'n_estimators': 70}, mean: 0.54406, std: 0.05781, params: {'max_depth': 6, 'n_estimators': 80}, mean: 0.54498, std: 0.06401, params: {'max_depth': 6, 'n_estimators': 90}, mean: 0.54495, std: 0.06068, params: {'max_depth': 6, 'n_estimators': 100}, mean: 0.50295, std: 0.05967, params: {'max_depth': 8, 'n_estimators': 10}, mean: 0.52400, std: 0.06779, params: {'max_depth': 8, 'n_estimators': 20}, mean: 0.50804, std: 0.05305, params: {'max_depth': 8, 'n_estimators': 30}, mean: 0.52591, std: 0.05229, params: {'max_depth': 8, 'n_estimators': 40}, mean: 0.53556, std: 0.06266, params: {'max_depth': 8, 'n_estimators': 50}, mean: 0.53985, std: 0.06433, params: {'max_depth': 8, 'n_estimators': 60}, mean: 0.54409, std: 0.06695, params: {'max_depth': 8, 'n_estimators': 70}, mean: 0.54998, std: 0.06442, params: {'max_depth': 8, 'n_estimators': 80}, mean: 0.54324, std: 0.06613, params: {'max_depth': 8, 'n_estimators': 90}, mean: 0.53504, std: 0.05755, params: {'max_depth': 8, 'n_estimators': 100}, mean: 0.52409, std: 0.04646, params: {'max_depth': 11, 'n_estimators': 10}, mean: 0.53495, std: 0.02834, params: {'max_depth': 11, 'n_estimators': 20}, mean: 0.51783, std: 0.03576, params: {'max_depth': 11, 'n_estimators': 30}, mean: 0.53473, std: 0.05071, params: {'max_depth': 11, 'n_estimators': 40}, mean: 0.54902, std: 0.06042, params: {'max_depth': 11, 'n_estimators': 50}, mean: 0.53630, std: 0.06339, params: {'max_depth': 11, 'n_estimators': 60}, mean: 0.54972, std: 0.05496, params: {'max_depth': 11, 'n_estimators': 70}, mean: 0.54811, std: 0.05065, params: {'max_depth': 11, 'n_estimators': 80}, mean: 0.55242, std: 0.05804, params: {'max_depth': 11, 'n_estimators': 90}, mean: 0.54457, std: 0.05399, params: {'max_depth': 11, 'n_estimators': 100}]\n",
      "***********************\n",
      "{'max_depth': 3, 'n_estimators': 40}\n",
      "***********************\n",
      "0.562672631142\n",
      "7.890000000000009e-05\n"
     ]
    },
    {
     "name": "stderr",
     "output_type": "stream",
     "text": [
      "/data/program/miniconda/envs/py35/lib/python3.5/site-packages/sklearn/model_selection/_search.py:667: DeprecationWarning: The grid_scores_ attribute was deprecated in version 0.18 in favor of the more elaborate cv_results_ attribute. The grid_scores_ attribute will not be available from 0.20\n",
      "  DeprecationWarning)\n"
     ]
    }
   ],
   "source": [
    "import os\n",
    "import tensorflow as tf\n",
    "os.environ[\"CUDA_VISIBLE_DEVICES\"]=\"0\" \n",
    "from time import clock\n",
    "start=clock()\n",
    "with tf.device(\"/gpu:0\"):\n",
    "    grid_search(df_combine)\n",
    "finish=clock()\n",
    "print( (finish-start)/1000000)"
   ]
  },
  {
   "cell_type": "code",
   "execution_count": 370,
   "metadata": {},
   "outputs": [
    {
     "name": "stdout",
     "output_type": "stream",
     "text": [
      "online----------oob_score:0.852810\n",
      "online-------AUC Score (test):0.536601\n"
     ]
    }
   ],
   "source": [
    "rf = train_online(df_combine)"
   ]
  },
  {
   "cell_type": "raw",
   "metadata": {},
   "source": [
    "KS"
   ]
  },
  {
   "cell_type": "code",
   "execution_count": 352,
   "metadata": {},
   "outputs": [],
   "source": [
    "import numpy as np\n",
    "import pandas as pd\n",
    "from collections import Counter\n",
    "def ks_value(pred,true,n):\n",
    "    score = (1.-pred)*1000\n",
    "    index = score.argsort()\n",
    "    score_sort = np.sort(score)\n",
    "    true_sort = true[index]\n",
    "    len_num = pred.size\n",
    "    add = int(len_num/n)\n",
    "    out = []\n",
    "    for i in get_split_len(len_num,n):\n",
    "        if i == get_split_len(len_num,n)[-1]:\n",
    "            good_num,bad_num,total = get_good_bad(true_sort,i,-1)\n",
    "            min_value,max_value = get_max_min(score_sort,i,-1)\n",
    "            temp = [min_value,max_value,total,bad_num,good_num]\n",
    "        else:\n",
    "            good_num,bad_num,total = get_good_bad(true_sort,i,i+add)\n",
    "            min_value,max_value = get_max_min(score_sort,i,i+add)\n",
    "            temp = [min_value,max_value,total,bad_num,good_num]\n",
    "        out.append(temp)\n",
    "    return out\n",
    "def list_to_dataframe(out):\n",
    "    df = pd.DataFrame.from_records(out,columns = [\"min_value\",\"max_value\",\"total\",\"bad_num\",\"good_num\"])\n",
    "    return df\n",
    "def get_good_bad(true,startindex,endindex):\n",
    "    if endindex == -1:\n",
    "        true_index = true[startindex:]\n",
    "    else:\n",
    "        true_index = true[startindex:endindex]\n",
    "    c = Counter([i for i in true_index])\n",
    "    total = true_index.size\n",
    "    return c[0],c[1],total\n",
    "def get_max_min(pred,startindex,endindex):\n",
    "    return pred[startindex],pred[endindex]\n",
    "def get_split_len(len_num,n):\n",
    "    out = [0]\n",
    "    add = int(len_num/n)\n",
    "    index = 0\n",
    "    for i in range(n-1):\n",
    "        index += add\n",
    "        out.append(int(index))\n",
    "    return out\n",
    "def get_ksvalue_offline(rf,df,name):\n",
    "    X = df.drop(['y'],axis = 1)\n",
    "    y = df['y']\n",
    "    xTest,yTest = X.values,y.values.ravel()\n",
    "    prediction = rf.predict_proba(xTest)\n",
    "    pred = prediction[:,1:2].ravel()\n",
    "    out = ks_value(pred,yTest,10)\n",
    "    df = list_to_dataframe(out)\n",
    "    df.to_csv(name)\n",
    "    return df"
   ]
  },
  {
   "cell_type": "code",
   "execution_count": 371,
   "metadata": {},
   "outputs": [
    {
     "data": {
      "text/html": [
       "<div>\n",
       "<table border=\"1\" class=\"dataframe\">\n",
       "  <thead>\n",
       "    <tr style=\"text-align: right;\">\n",
       "      <th></th>\n",
       "      <th>min_value</th>\n",
       "      <th>max_value</th>\n",
       "      <th>total</th>\n",
       "      <th>bad_num</th>\n",
       "      <th>good_num</th>\n",
       "    </tr>\n",
       "  </thead>\n",
       "  <tbody>\n",
       "    <tr>\n",
       "      <th>0</th>\n",
       "      <td>393.032395</td>\n",
       "      <td>501.525026</td>\n",
       "      <td>309</td>\n",
       "      <td>53</td>\n",
       "      <td>256</td>\n",
       "    </tr>\n",
       "    <tr>\n",
       "      <th>1</th>\n",
       "      <td>501.525026</td>\n",
       "      <td>514.450833</td>\n",
       "      <td>309</td>\n",
       "      <td>18</td>\n",
       "      <td>291</td>\n",
       "    </tr>\n",
       "    <tr>\n",
       "      <th>2</th>\n",
       "      <td>514.450833</td>\n",
       "      <td>518.674861</td>\n",
       "      <td>309</td>\n",
       "      <td>14</td>\n",
       "      <td>295</td>\n",
       "    </tr>\n",
       "    <tr>\n",
       "      <th>3</th>\n",
       "      <td>518.674861</td>\n",
       "      <td>518.674861</td>\n",
       "      <td>309</td>\n",
       "      <td>11</td>\n",
       "      <td>298</td>\n",
       "    </tr>\n",
       "    <tr>\n",
       "      <th>4</th>\n",
       "      <td>518.674861</td>\n",
       "      <td>518.674861</td>\n",
       "      <td>309</td>\n",
       "      <td>18</td>\n",
       "      <td>291</td>\n",
       "    </tr>\n",
       "    <tr>\n",
       "      <th>5</th>\n",
       "      <td>518.674861</td>\n",
       "      <td>521.320925</td>\n",
       "      <td>309</td>\n",
       "      <td>17</td>\n",
       "      <td>292</td>\n",
       "    </tr>\n",
       "    <tr>\n",
       "      <th>6</th>\n",
       "      <td>521.320925</td>\n",
       "      <td>521.320925</td>\n",
       "      <td>309</td>\n",
       "      <td>15</td>\n",
       "      <td>294</td>\n",
       "    </tr>\n",
       "    <tr>\n",
       "      <th>7</th>\n",
       "      <td>521.320925</td>\n",
       "      <td>528.931452</td>\n",
       "      <td>309</td>\n",
       "      <td>9</td>\n",
       "      <td>300</td>\n",
       "    </tr>\n",
       "    <tr>\n",
       "      <th>8</th>\n",
       "      <td>528.931452</td>\n",
       "      <td>545.607815</td>\n",
       "      <td>309</td>\n",
       "      <td>5</td>\n",
       "      <td>304</td>\n",
       "    </tr>\n",
       "    <tr>\n",
       "      <th>9</th>\n",
       "      <td>545.607815</td>\n",
       "      <td>733.360958</td>\n",
       "      <td>311</td>\n",
       "      <td>10</td>\n",
       "      <td>301</td>\n",
       "    </tr>\n",
       "  </tbody>\n",
       "</table>\n",
       "</div>"
      ],
      "text/plain": [
       "    min_value   max_value  total  bad_num  good_num\n",
       "0  393.032395  501.525026    309       53       256\n",
       "1  501.525026  514.450833    309       18       291\n",
       "2  514.450833  518.674861    309       14       295\n",
       "3  518.674861  518.674861    309       11       298\n",
       "4  518.674861  518.674861    309       18       291\n",
       "5  518.674861  521.320925    309       17       292\n",
       "6  521.320925  521.320925    309       15       294\n",
       "7  521.320925  528.931452    309        9       300\n",
       "8  528.931452  545.607815    309        5       304\n",
       "9  545.607815  733.360958    311       10       301"
      ]
     },
     "execution_count": 371,
     "metadata": {},
     "output_type": "execute_result"
    }
   ],
   "source": [
    "get_ksvalue_offline(rf,df_combine,'ks.csv')"
   ]
  },
  {
   "cell_type": "code",
   "execution_count": null,
   "metadata": {},
   "outputs": [],
   "source": []
  }
 ],
 "metadata": {
  "kernelspec": {
   "display_name": "Python 3.5",
   "language": "python",
   "name": "py35"
  },
  "language_info": {
   "codemirror_mode": {
    "name": "ipython",
    "version": 3
   },
   "file_extension": ".py",
   "mimetype": "text/x-python",
   "name": "python",
   "nbconvert_exporter": "python",
   "pygments_lexer": "ipython3",
   "version": "3.5.3"
  }
 },
 "nbformat": 4,
 "nbformat_minor": 2
}
