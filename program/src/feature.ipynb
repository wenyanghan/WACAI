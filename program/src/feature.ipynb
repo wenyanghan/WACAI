{
 "cells": [
  {
   "cell_type": "code",
   "execution_count": 44,
   "metadata": {},
   "outputs": [],
   "source": [
    "import pandas as pd\n",
    "def get_code_name(path):\n",
    "    out = pd.read_csv(path,encoding = \"gbk\")\n",
    "    out = out.values.ravel()\n",
    "    return out\n",
    "def get_date_one(code_name):\n",
    "    conn = connect(host = '10.1.169.3',port = 10000, auth_mechanism = 'PLAIN')\n",
    "    cursor = conn.cursor()\n",
    "    sql = \"select min(dt),max(dt) from default.feature_trace where code = '%s'\"%code_name\n",
    "    cursor.execute(sql)\n",
    "    out = as_pandas(cursor)\n",
    "    return out\n",
    "def get_date_all(path):\n",
    "    out = []\n",
    "    code_name = get_code_name(path)\n",
    "    for name in code_name:\n",
    "        date_one = get_date_one(name)\n",
    "        out.append(date_one)\n",
    "    out_df = pd.concat(out)\n",
    "    code_df = pd.DataFrame(code_name,columns = ['code'])\n",
    "    #print(code_df)\n",
    "    #out_df = pd.concat([out_df,code_df],axis =1,ignore_index=True)\n",
    "    outpath = \"code_max_min_date.csv\"\n",
    "    out_df.to_csv(outpath)\n",
    "    return out_df"
   ]
  },
  {
   "cell_type": "code",
   "execution_count": 88,
   "metadata": {},
   "outputs": [
    {
     "name": "stdout",
     "output_type": "stream",
     "text": [
      "      min(dt)     max(dt)\n",
      "0  2017-02-10  2017-06-08\n"
     ]
    }
   ],
   "source": [
    "print(get_date_one('ar_score'))"
   ]
  },
  {
   "cell_type": "code",
   "execution_count": null,
   "metadata": {},
   "outputs": [],
   "source": []
  },
  {
   "cell_type": "code",
   "execution_count": 84,
   "metadata": {},
   "outputs": [],
   "source": [
    "phone_gray_score = test.head(5)\n",
    "#print(phone_gray_score)\n",
    "#print(phone_gray_score.get_dtype_counts())\n",
    "#phone_gray_score.describe()"
   ]
  },
  {
   "cell_type": "code",
   "execution_count": 52,
   "metadata": {},
   "outputs": [],
   "source": [
    "honeypot_gray_score = phone_gray_score['honeypot_model_level']"
   ]
  },
  {
   "cell_type": "code",
   "execution_count": 65,
   "metadata": {},
   "outputs": [
    {
     "name": "stdout",
     "output_type": "stream",
     "text": [
      "0    10.0\n",
      "1     9.0\n",
      "2    10.0\n",
      "3     NaN\n",
      "4    10.0\n",
      "Name: honeypot_model_level, dtype: float64\n"
     ]
    }
   ],
   "source": [
    "#fix nan\n",
    "import re\n",
    "def convert_str_num(string):\n",
    "    return int(re.findall(\"\\d+\",string)[0])\n",
    "change = honeypot_gray_score.map(convert_str_num,na_action='ignore')\n",
    "print(change)"
   ]
  },
  {
   "cell_type": "code",
   "execution_count": 82,
   "metadata": {},
   "outputs": [],
   "source": [
    "# caculate the mounts of nan\n",
    "def missing_values_table(df): \n",
    "        mis_val = df.isnull().sum()\n",
    "        mis_val_percent = 100 * df.isnull().sum()/len(df)\n",
    "        mis_val_table = pd.concat([mis_val, mis_val_percent], axis=1)\n",
    "        mis_val_table_ren_columns = mis_val_table.rename(\n",
    "        columns = {0 : 'Missing Values', 1 : '% of Total Values'})\n",
    "        return mis_val_table_ren_columns"
   ]
  },
  {
   "cell_type": "code",
   "execution_count": 86,
   "metadata": {},
   "outputs": [
    {
     "name": "stdout",
     "output_type": "stream",
     "text": [
      "<class 'pandas.core.frame.DataFrame'>\n"
     ]
    }
   ],
   "source": [
    "missing = missing_values_table(phone_gray_score)\n",
    "print(type(missing))"
   ]
  },
  {
   "cell_type": "code",
   "execution_count": 87,
   "metadata": {},
   "outputs": [
    {
     "data": {
      "text/plain": [
       "0    10.0\n",
       "1     9.0\n",
       "2    10.0\n",
       "3    -1.0\n",
       "4    10.0\n",
       "Name: honeypot_model_level, dtype: float64"
      ]
     },
     "execution_count": 87,
     "metadata": {},
     "output_type": "execute_result"
    }
   ],
   "source": [
    "#fill nan\n",
    "change.fillna(-1)"
   ]
  },
  {
   "cell_type": "raw",
   "metadata": {},
   "source": [
    "1.首先统计缺失值得情况\n",
    "2.分别对各特征值进行特征值处理，有不同方法"
   ]
  },
  {
   "cell_type": "code",
   "execution_count": null,
   "metadata": {},
   "outputs": [],
   "source": []
  }
 ],
 "metadata": {
  "kernelspec": {
   "display_name": "Python 3.5",
   "language": "python",
   "name": "py35"
  },
  "language_info": {
   "codemirror_mode": {
    "name": "ipython",
    "version": 3
   },
   "file_extension": ".py",
   "mimetype": "text/x-python",
   "name": "python",
   "nbconvert_exporter": "python",
   "pygments_lexer": "ipython3",
   "version": "3.5.3"
  }
 },
 "nbformat": 4,
 "nbformat_minor": 2
}
