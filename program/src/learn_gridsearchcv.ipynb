{
 "cells": [
  {
   "cell_type": "code",
   "execution_count": 6,
   "metadata": {},
   "outputs": [],
   "source": [
    "from sklearn.feature_selection import SelectKBest\n",
    "from sklearn.ensemble import RandomForestClassifier\n",
    "import sklearn.pipeline\n",
    "def get_pipeline(X,y):\n",
    "    select = SelectKBest(k=100)\n",
    "    clf = RandomForestClassifier()\n",
    "\n",
    "    steps = [('feature_selection', select),\n",
    "        ('random_forest', clf)]\n",
    "\n",
    "    pipeline = sklearn.pipeline.Pipeline(steps)\n",
    "\n",
    "    X_train, X_test, y_train, y_test = sklearn.cross_validation.train_test_split(X, y, test_size=0.33, random_state=42)\n",
    "\n",
    "### fit your pipeline on X_train and y_train\n",
    "    pipeline.fit( X_train, y_train )\n",
    "### call pipeline.predict() on your X_test data to make a set of test predictions\n",
    "    y_prediction = pipeline.predict( X_test )\n",
    "### test your predictions using sklearn.classification_report()\n",
    "    report = sklearn.metrics.classification_report( y_test, y_prediction )\n",
    "### and print the report\n",
    "    print(report)"
   ]
  },
  {
   "cell_type": "code",
   "execution_count": 7,
   "metadata": {},
   "outputs": [],
   "source": [
    "import sklearn.grid_search\n",
    "\n",
    "def get_grid_search():\n",
    "    parameters = dict(feature_selection__k=[100, 200], \n",
    "              random_forest__n_estimators=[50, 100, 200],\n",
    "              random_forest__min_samples_split=[2, 3, 4, 5, 10])\n",
    "\n",
    "    cv = sklearn.grid_search.GridSearchCV(pipeline, param_grid=parameters)\n",
    "\n",
    "    cv.fit(X_train, y_train)\n",
    "    y_predictions = cv.predict(X_test)\n",
    "    report = sklearn.metrics.classification_report( y_test, y_predictions )"
   ]
  },
  {
   "cell_type": "code",
   "execution_count": null,
   "metadata": {},
   "outputs": [],
   "source": []
  }
 ],
 "metadata": {
  "kernelspec": {
   "display_name": "Python 3.5",
   "language": "python",
   "name": "py35"
  },
  "language_info": {
   "codemirror_mode": {
    "name": "ipython",
    "version": 3
   },
   "file_extension": ".py",
   "mimetype": "text/x-python",
   "name": "python",
   "nbconvert_exporter": "python",
   "pygments_lexer": "ipython3",
   "version": "3.5.3"
  }
 },
 "nbformat": 4,
 "nbformat_minor": 2
}
